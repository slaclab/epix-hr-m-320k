{
 "cells": [
  {
   "cell_type": "code",
   "execution_count": 1,
   "id": "afe95d27-a75e-4e4b-a273-5e7348c4f986",
   "metadata": {
    "tags": []
   },
   "outputs": [],
   "source": [
    "# Setup the library\n",
    "import pyrogue as pr\n",
    "import os, sys\n",
    "import matplotlib.pyplot as plt\n",
    "import time\n",
    "import numpy as np\n",
    "import math\n",
    "from scipy.optimize import curve_fit\n",
    "import pprint\n",
    "import inspect \n",
    "\n",
    "top_level=f'{os.getcwd()}/../'\n",
    "rootTopLevel = top_level+'script/'\n",
    "pr.addLibraryPath( rootTopLevel )\n",
    "\n",
    "import setupLibPaths\n",
    "\n",
    "import ePix320kM as devBoard\n",
    "\n",
    "args = None\n",
    "\n",
    "\n"
   ]
  },
  {
   "cell_type": "code",
   "execution_count": 2,
   "id": "255de165",
   "metadata": {},
   "outputs": [],
   "source": [
    "%run supportFunctions.ipynb"
   ]
  },
  {
   "cell_type": "code",
   "execution_count": 3,
   "id": "73a91cdc-f4b6-4051-accd-fcfa3f258f57",
   "metadata": {
    "tags": []
   },
   "outputs": [
    {
     "name": "stdout",
     "output_type": "stream",
     "text": [
      "{'name': 'ScopeData0'}\n",
      "{'name': 'ScopeData1'}\n",
      "{'name': 'ScopeData2'}\n",
      "{'name': 'ScopeData3'}\n",
      "Root.Core.Si5345Pll.Page0.DataBlock.setPollInterval(1)\n",
      "Start: Started zmqServer on ports 9099-9101\n",
      "    To start a gui: python -m pyrogue gui --server='localhost:9099'\n",
      "    To use a virtual client: client = pyrogue.interfaces.VirtualClient(addr='localhost', port=9099)\n",
      "Root.Core.AxiVersion count reset called\n",
      "###################################################\n",
      "#             Firmware Version                    #\n",
      "###################################################\n",
      "Path         = Root.Core.AxiVersion\n",
      "FwVersion    = 0x1000300\n",
      "UpTime       = 5 days, 21:41:22\n",
      "GitHash      = 0x9550c2a95f7e334393e52bfde914e26fb20f11b8\n",
      "XilinxDnaId  = 0x400200000139d7204c81a145\n",
      "FwTarget     = ePixHRM320k\n",
      "BuildEnv     = Vivado v2023.1\n",
      "BuildServer  = rdsrv314 (Ubuntu 20.04.6 LTS)\n",
      "BuildDate    = Wed 17 Jan 2024 11:42:17 PM PST\n",
      "Builder      = dnajjar\n",
      "###################################################\n"
     ]
    }
   ],
   "source": [
    "# ONLY RUN ONCE!\n",
    "# Defining root\n",
    "# If crashes, make sure the deve is correct.\n",
    "root =  devBoard.Root(   \n",
    "        top_level  = rootTopLevel,\n",
    "        dev        = '/dev/datadev_1',\n",
    "        pollEn     = False,\n",
    "        initRead   = True,\n",
    "        serverPort = 9099,\n",
    "        pciePgpEn  = False,\n",
    "        justCtrl   = False,\n",
    "        DDebugSize = 4000)\n",
    "root.start()\n",
    "\n",
    "# example showing a read\n",
    "AxiVersion = root.Core.AxiVersion\n",
    "print ( '###################################################')\n",
    "print ( '#             Firmware Version                    #')\n",
    "print ( '###################################################')\n",
    "AxiVersion.printStatus()\n",
    "print ( '###################################################')"
   ]
  },
  {
   "cell_type": "code",
   "execution_count": 4,
   "id": "81a02006",
   "metadata": {},
   "outputs": [],
   "source": [
    "# Useful short names\n",
    "APP  = root.App\n",
    "AXIV = root.Core.AxiVersion\n",
    "ASICTOP = APP.AsicTop\n",
    "TRIG = ASICTOP.TriggerRegisters\n",
    "ASIC0 = APP.Mv2Asic[0]\n",
    "ASIC1 = APP.Mv2Asic[1]\n",
    "ASIC2 = APP.Mv2Asic[2]\n",
    "ASIC3 = APP.Mv2Asic[3]\n",
    "HSDAC = APP.Dac.FastDac \n",
    "PKREG0 = ASICTOP.DigAsicStrmRegisters0\n",
    "PKREG1 = ASICTOP.DigAsicStrmRegisters1\n",
    "PKREG2 = ASICTOP.DigAsicStrmRegisters2\n",
    "PKREG3 = ASICTOP.DigAsicStrmRegisters3\n",
    "BATCHER0 = ASICTOP.BatcherEventBuilder0\n",
    "BATCHER1 = ASICTOP.BatcherEventBuilder1\n",
    "BATCHER2 = ASICTOP.BatcherEventBuilder2\n",
    "BATCHER3 = ASICTOP.BatcherEventBuilder3\n",
    "DEBUG0 = root._dbg[0]\n",
    "DEBUG1 = root._dbg[1]\n",
    "DEBUG2 = root._dbg[2]\n",
    "DEBUG3 = root._dbg[3]\n",
    "DATARCV0 = root.DataReceiver0\n",
    "DATARCV1 = root.DataReceiver1\n",
    "DATARCV2 = root.DataReceiver2\n",
    "DATARCV3 = root.DataReceiver3\n",
    "FULLRATERCV0 = root.fullRateDataReceiver[0]\n",
    "FULLRATERCV1 = root.fullRateDataReceiver[1]\n",
    "FULLRATERCV2 = root.fullRateDataReceiver[2]\n",
    "FULLRATERCV3 = root.fullRateDataReceiver[3]\n",
    "DAC = APP.Dac\n",
    "REGCTRL = ASICTOP.RegisterControlDualClock"
   ]
  },
  {
   "cell_type": "code",
   "execution_count": 5,
   "id": "d81a38d2",
   "metadata": {},
   "outputs": [
    {
     "name": "stdout",
     "output_type": "stream",
     "text": [
      "Rysync ASIC started\n",
      "Init ASIC script started\n",
      "Loading PLL configuration\n",
      "Loading supply configuration\n",
      "Loading /afs/slac.stanford.edu/g/controls/development/users/dnajjar/sandBox/epix-hr-m-320k/software/notebook/../script/../config/ePixHRM320k_PowerSupply_Enable.yml\n",
      "Loading lane delay configurations\n",
      "Loading /afs/slac.stanford.edu/g/controls/development/users/dnajjar/sandBox/epix-hr-m-320k/software/notebook/../script/../config/ePixHRM320k_SspMonGrp_carrier3.yml\n",
      "Loading waveforms configuration\n",
      "Loading /afs/slac.stanford.edu/g/controls/development/users/dnajjar/sandBox/epix-hr-m-320k/software/notebook/../script/../config/ePixHRM320k_RegisterControl.yml\n",
      "Loading packet register configurations\n",
      "Loading /afs/slac.stanford.edu/g/controls/development/users/dnajjar/sandBox/epix-hr-m-320k/software/notebook/../script/../config/ePixHRM320k_PacketRegisters.yml\n",
      "Loading batcher configurations\n",
      "Loading /afs/slac.stanford.edu/g/controls/development/users/dnajjar/sandBox/epix-hr-m-320k/software/notebook/../script/../config/ePixHRM320k_BatcherEventBuilder.yml\n",
      "Taking asic off of reset\n",
      "Loading ASICs and timing configuration\n",
      "Loading /afs/slac.stanford.edu/g/controls/development/users/dnajjar/sandBox/epix-hr-m-320k/software/notebook/../script/../config/ePixHRM320k_ASIC_u1_PLLBypass.yml\n",
      "Loading /afs/slac.stanford.edu/g/controls/development/users/dnajjar/sandBox/epix-hr-m-320k/software/notebook/../script/../config/ePixHRM320k_ASIC_u2_PLLBypass.yml\n",
      "Loading /afs/slac.stanford.edu/g/controls/development/users/dnajjar/sandBox/epix-hr-m-320k/software/notebook/../script/../config/ePixHRM320k_ASIC_u3_PLLBypass.yml\n",
      "Loading /afs/slac.stanford.edu/g/controls/development/users/dnajjar/sandBox/epix-hr-m-320k/software/notebook/../script/../config/ePixHRM320k_ASIC_u4_PLLBypass.yml\n",
      "Initialization routine completed.\n"
     ]
    }
   ],
   "source": [
    "# Configure clock to 168 MHz and configures all ASICS\n",
    "root.InitASIC([4,1,1,1,1])"
   ]
  },
  {
   "cell_type": "code",
   "execution_count": 6,
   "id": "8fcf7971",
   "metadata": {},
   "outputs": [
    {
     "name": "stdout",
     "output_type": "stream",
     "text": [
      "Stop Triggers command executed\n",
      "Set Auto Trigger command executed\n",
      "Start Auto Trigger command executed\n",
      "Triggers sent: 100\n",
      "Stop Triggers command executed\n"
     ]
    }
   ],
   "source": [
    "root.disableAndCleanAllFullRateDataRcv()\n",
    "root.enableDataRcv(False)\n",
    "root.enableDataDebug(False)\n",
    "\n",
    "#run some triggers and exercise lanes and locks\n",
    "frames = 100\n",
    "rate = 5000\n",
    "\n",
    "root.hwTrigger(frames, rate)"
   ]
  },
  {
   "cell_type": "code",
   "execution_count": 7,
   "id": "d411c0ee",
   "metadata": {},
   "outputs": [
    {
     "name": "stdout",
     "output_type": "stream",
     "text": [
      "ASIC0: 0xffffff\n",
      "ASIC1: 0xfffffa\n",
      "ASIC2: 0xb6ffff\n",
      "ASIC3: 0xfeffff\n",
      "ASIC0: 0x20000\n",
      "ASIC1: 0x10045\n",
      "ASIC2: 0x490000\n",
      "ASIC3: 0x540140\n"
     ]
    }
   ],
   "source": [
    "#get locked lanes\n",
    "time.sleep(3)\n",
    "root.getLaneLocks()\n",
    "\n",
    "#Disabled lanes in ASICS\n",
    "for asicIndex in range(4) : \n",
    "    root.App.AsicTop.DigAsicStrmRegisters0.enable.set(True)\n",
    "    print(\"ASIC{}: {:#x}\".format(asicIndex, getattr(root.App.AsicTop, f\"DigAsicStrmRegisters{asicIndex}\").DisableLane.get()))"
   ]
  },
  {
   "cell_type": "code",
   "execution_count": 8,
   "id": "b96eea4e",
   "metadata": {},
   "outputs": [],
   "source": [
    "#Enable data receivers and run some triggers\n",
    "root.enableDataRcv(True)\n",
    "root.enableAllAsics(True)\n",
    "for i in range (5):\n",
    "    root.Trigger()\n",
    "    \n",
    "root.enableDataRcv(False)\n",
    "root.enableAllAsics(False)"
   ]
  },
  {
   "cell_type": "markdown",
   "id": "8c85385d-36f3-44ca-9da9-55b95c984712",
   "metadata": {
    "tags": []
   },
   "source": [
    "# Baseline TEST all - 320MHz refGenB,RefGenC modified"
   ]
  },
  {
   "cell_type": "code",
   "execution_count": 9,
   "id": "c191f116",
   "metadata": {},
   "outputs": [],
   "source": [
    "ASIC = ASIC1\n",
    "ASICNUM = 1\n",
    "DATADEBUG= DEBUG1\n",
    "\n",
    "root.enableAsic(ASICNUM, True)"
   ]
  },
  {
   "cell_type": "code",
   "execution_count": 10,
   "id": "ea634678-8465-4e26-ab9f-f8762b1edb05",
   "metadata": {},
   "outputs": [
    {
     "name": "stdout",
     "output_type": "stream",
     "text": [
      "Preamp 4\n",
      "Vld1_b 1\n",
      "Pixel_CB 4\n",
      "Filter_DAC 38\n",
      "VRef_DAC 53\n"
     ]
    }
   ],
   "source": [
    "# Set references \n",
    "Preamp = 4 #4\n",
    "Vld1_b = 1 #1\n",
    "Pixel_CB= 4 #4\n",
    "Filter_DAC= 38 #33\n",
    "VRef_DAC = 53 #22\n",
    "\n",
    "setPixel (ASIC1, Preamp, Vld1_b, Pixel_CB, Filter_DAC, VRef_DAC)\n",
    "\n",
    "######################################################################################################################\n",
    "# Remove previous dataset\n",
    "filename = (f'/u1/lorenzor/10kthr_data/temp.dat')"
   ]
  },
  {
   "cell_type": "code",
   "execution_count": 11,
   "id": "c0fde7d0-8193-4a0c-851b-95b376ff9496",
   "metadata": {},
   "outputs": [],
   "source": [
    "# Define the linear function\n",
    "def linear_function(x, a, b):\n",
    "    return a * x + b\n",
    "\n",
    "def getResidualsLinFit(x,y):\n",
    "    \n",
    "    weights = np.exp(-(x - np.mean(x))**2 / (2 * np.std(x)**2))\n",
    "    params, covariance = curve_fit(linear_function, x, y, sigma=1/weights, absolute_sigma=True)\n",
    "    y_fit = linear_function(x, *params)\n",
    "   \n",
    "    return (y - y_fit)\n",
    "\n",
    "def getGainLinFit(x,y):\n",
    "    \n",
    "    weights = np.exp(-(x - np.mean(x))**2 / (2 * np.std(x)**2))\n",
    "    params, covariance = curve_fit(linear_function, x, y, sigma=1/weights, absolute_sigma=True)\n",
    "    y_fit = linear_function(x, *params)\n",
    "   \n",
    "    return params[0]"
   ]
  },
  {
   "cell_type": "code",
   "execution_count": 12,
   "id": "b306a9c4-4fc3-4296-a789-dcb7e5d2efd6",
   "metadata": {},
   "outputs": [
    {
     "name": "stdout",
     "output_type": "stream",
     "text": [
      "{'_blocks': [], '_custBlocks': [], '_memBase': None, '_memLock': <unlocked _thread.RLock object owner=0 count=0 at 0x7fc3a44632d0>, '_size': 0, '_defaults': {}, '_ifAndProto': [], 'forceCheckEach': False, '_name': 'Dac', '_description': '', '_path': 'Root.App.Dac', '_expand': False, '_guiGroup': None, '_parent': <class 'ePix320kM._Application.App'> - Root.App, '_root': <class 'ePix320kM._Root.Root'> - Root, '_nodes': OrderedDict([('enable', <class 'pyrogue._Device.EnableVariable'> - Root.App.Dac.enable), ('ReadDevice', <class 'pyrogue._Command.BaseCommand'> - Root.App.Dac.ReadDevice), ('WriteDevice', <class 'pyrogue._Command.BaseCommand'> - Root.App.Dac.WriteDevice), ('Max5443', <class 'surf.devices.maxim._Max5443.Max5443'> - Root.App.Dac.Max5443), ('FastDac', <class 'epix_hr_core._HighSpeedDacRegisters.HighSpeedDacRegisters'> - Root.App.Dac.FastDac), ('WaveformMem', <class 'pyrogue._Memory.MemoryDevice'> - Root.App.Dac.WaveformMem)]), '_anodes': OrderedDict(), '_log': <Logger pyrogue.Device.Dac.Root.App.Dac (WARNING)>, '_groups': [], 'addRemoteCommands': functools.partial(<bound method Node.addNodes of <class 'epix_hr_leap_common._Dac.Dac'> - Root.App.Dac>, <class 'pyrogue._Command.RemoteCommand'>)}\n"
     ]
    }
   ],
   "source": [
    "print(DAC.__dict__)"
   ]
  },
  {
   "cell_type": "code",
   "execution_count": 13,
   "id": "81cd4f1f-2f64-4783-b295-747bd2d22f61",
   "metadata": {},
   "outputs": [
    {
     "name": "stdout",
     "output_type": "stream",
     "text": [
      "(2, 1, 0, 30, 3, True)\n"
     ]
    }
   ],
   "source": [
    "# Enable ADC calibration with external signal\n",
    "ASIC.mTest.set(True)\n",
    "\n",
    "# Test\n",
    "ASIC.RefGenB.set(1)    #2 bits\n",
    "ASIC.RefGenC.set(2)    #2 bits\n",
    "ASIC.S2D_1_b.set(0)    #3 bits\n",
    "ASIC.shvc_DAC.set(30)  #6 bits\n",
    "ASIC.S2dDacBias.set(3)\n",
    "ASIC.DHg.set(False)\n",
    "\n",
    "# Test\n",
    "ASIC.RefGenB.set(2)    #2 bits\n",
    "ASIC.RefGenC.set(1)    #2 bits\n",
    "ASIC.S2D_1_b.set(0)    #3 bits\n",
    "ASIC.shvc_DAC.set(30)  #6 bits\n",
    "ASIC.S2dDacBias.set(3)\n",
    "ASIC.DHg.set(True)\n",
    "\n",
    "#sets HSDAC device\n",
    "HSDAC.enable.set(True)\n",
    "#reset status\n",
    "HSDAC.WFEnabled.set(False)\n",
    "HSDAC.waveformSource.set(0)\n",
    "HSDAC.externalUpdateEn.set(False)\n",
    "HSDAC.run.set(False)\n",
    "\n",
    "#configure\n",
    "HSDAC.rCStartValue.set(0)\n",
    "HSDAC.rCStopValue.set(65535)\n",
    "HSDAC.rCStep.set(66) # < --- Do not change!\n",
    "HSDAC.WFEnabled.set(True)\n",
    "HSDAC.waveformSource.set(1)\n",
    "HSDAC.externalUpdateEn.set(True)\n",
    "HSDAC.run.set(True)\n",
    "HSDAC.DacValue.set(0)\n",
    "\n",
    "\n",
    "\n",
    "# Generate a list containing the dacValues in Volts\n",
    "# We take only the first 980 \n",
    "dacValuesV = np.linspace(0.0,65535.0,1024)[250:880] / 65535 * 2.31 \n",
    "\n",
    "\n",
    "# Print\n",
    "settings = (ASIC.RefGenB.get(), ASIC.RefGenC.get(), ASIC.S2D_1_b.get(), ASIC.shvc_DAC.get(), ASIC.S2dDacBias.get(), ASIC.DHg.get())\n",
    "print(settings)"
   ]
  },
  {
   "cell_type": "code",
   "execution_count": 14,
   "id": "dfddbd6a",
   "metadata": {},
   "outputs": [
    {
     "name": "stdout",
     "output_type": "stream",
     "text": [
      "PKREG1.TimeoutCntLane[0]=0\n",
      "PKREG1.TimeoutCntLane[1]=0\n",
      "PKREG1.TimeoutCntLane[2]=0\n",
      "PKREG1.TimeoutCntLane[3]=0\n",
      "PKREG1.TimeoutCntLane[4]=0\n",
      "PKREG1.TimeoutCntLane[5]=0\n",
      "PKREG1.TimeoutCntLane[6]=0\n",
      "PKREG1.TimeoutCntLane[7]=0\n",
      "PKREG1.TimeoutCntLane[8]=0\n",
      "PKREG1.TimeoutCntLane[9]=0\n",
      "PKREG1.TimeoutCntLane[10]=0\n",
      "PKREG1.TimeoutCntLane[11]=0\n",
      "PKREG1.TimeoutCntLane[12]=0\n",
      "PKREG1.TimeoutCntLane[13]=0\n",
      "PKREG1.TimeoutCntLane[14]=0\n",
      "PKREG1.TimeoutCntLane[15]=0\n",
      "PKREG1.TimeoutCntLane[16]=0\n",
      "PKREG1.TimeoutCntLane[17]=0\n",
      "PKREG1.TimeoutCntLane[18]=0\n",
      "PKREG1.TimeoutCntLane[19]=0\n",
      "PKREG1.TimeoutCntLane[20]=0\n",
      "PKREG1.TimeoutCntLane[21]=0\n",
      "PKREG1.TimeoutCntLane[22]=0\n",
      "PKREG1.TimeoutCntLane[23]=0\n"
     ]
    }
   ],
   "source": [
    "PKREG1.CountReset()\n",
    "for i in range(24):\n",
    "    print(\"PKREG1.TimeoutCntLane[{}]={}\".format(i, PKREG1.TimeoutCntLane[i].get()))"
   ]
  },
  {
   "cell_type": "code",
   "execution_count": 36,
   "id": "9eb51ef5-179e-476c-af98-000acee00cb4",
   "metadata": {},
   "outputs": [
    {
     "name": "stdout",
     "output_type": "stream",
     "text": [
      "Stop Triggers command executed\n",
      "DataDebug[1]: descramble error\n",
      "rawData length 12336\n",
      "Stop Triggers command executed\n",
      "Data Descrambled\n",
      "(192, 384, 2049)\n",
      "Delta Aquisition Counter: 2048\n",
      "Number of frames received: (192, 384, 2049)\n"
     ]
    }
   ],
   "source": [
    "# Take data\n",
    "PKREG1.CountReset()\n",
    "imgDesc = run_asic_test(DATADEBUG, numFrames = 2048, initialDelay = 0)\n",
    "\n",
    "# Only take first 1000 frames because for some reason the DAC restarts there?\n",
    "# But I cannot take 1000, I need to take 2000 \n",
    "#imgDesc = imgDesc[250:880,:,:]"
   ]
  },
  {
   "cell_type": "code",
   "execution_count": 37,
   "id": "696aa68c",
   "metadata": {},
   "outputs": [
    {
     "name": "stdout",
     "output_type": "stream",
     "text": [
      "PKREG1.TimeoutCntLane[0]=0\n",
      "PKREG1.TimeoutCntLane[1]=0\n",
      "PKREG1.TimeoutCntLane[2]=0\n",
      "PKREG1.TimeoutCntLane[3]=1\n",
      "PKREG1.TimeoutCntLane[4]=1\n",
      "PKREG1.TimeoutCntLane[5]=1\n",
      "PKREG1.TimeoutCntLane[6]=1\n",
      "PKREG1.TimeoutCntLane[7]=1\n",
      "PKREG1.TimeoutCntLane[8]=1\n",
      "PKREG1.TimeoutCntLane[9]=1\n",
      "PKREG1.TimeoutCntLane[10]=1\n",
      "PKREG1.TimeoutCntLane[11]=1\n",
      "PKREG1.TimeoutCntLane[12]=1\n",
      "PKREG1.TimeoutCntLane[13]=1\n",
      "PKREG1.TimeoutCntLane[14]=1\n",
      "PKREG1.TimeoutCntLane[15]=1\n",
      "PKREG1.TimeoutCntLane[16]=1\n",
      "PKREG1.TimeoutCntLane[17]=1\n",
      "PKREG1.TimeoutCntLane[18]=1\n",
      "PKREG1.TimeoutCntLane[19]=1\n",
      "PKREG1.TimeoutCntLane[20]=1\n",
      "PKREG1.TimeoutCntLane[21]=0\n",
      "PKREG1.TimeoutCntLane[22]=1\n",
      "PKREG1.TimeoutCntLane[23]=1\n",
      "ASIC0: 0xffffff\n",
      "ASIC1: 0xfffffa\n",
      "ASIC2: 0xb6ffff\n",
      "ASIC3: 0xfeffff\n",
      "ASIC0: 0x20000\n",
      "ASIC1: 0x200007\n",
      "ASIC2: 0x490000\n",
      "ASIC3: 0x540140\n"
     ]
    }
   ],
   "source": [
    "TimeoutCntLane = [0] * 24\n",
    "disable = PKREG1.DisableLane.get()\n",
    "for i in range(24):\n",
    "    print(\"PKREG1.TimeoutCntLane[{}]={}\".format(i, PKREG1.TimeoutCntLane[i].get()))\n",
    "    TimeoutCntLane[i] = PKREG1.TimeoutCntLane[i].get()\n",
    "    if(TimeoutCntLane[i]> 20) :\n",
    "        #disable lane\n",
    "        disable = disable | 0x1<<i\n",
    "\n",
    "PKREG1.DisableLane.set(disable)\n",
    "\n",
    "#get locked lanes\n",
    "root.getLaneLocks()\n",
    "\n",
    "#Disabled lanes in ASICS\n",
    "for asicIndex in range(4) : \n",
    "    root.App.AsicTop.DigAsicStrmRegisters0.enable.set(True)\n",
    "    print(\"ASIC{}: {:#x}\".format(asicIndex, getattr(root.App.AsicTop, f\"DigAsicStrmRegisters{asicIndex}\").DisableLane.get()))"
   ]
  },
  {
   "cell_type": "code",
   "execution_count": null,
   "id": "33240bac-60f7-4714-a377-c076f2af080b",
   "metadata": {},
   "outputs": [],
   "source": [
    "# Plot all, in odd/even fashion\n",
    "col = 7\n",
    "settings = \"settings\"\n",
    "fig, axs = plt.subplots(1,3,figsize=(20,4))\n",
    "plt.suptitle(('Settings: '+str(settings)))\n",
    "\n",
    "axs[0].plot(dacValuesV,imgDesc[0:,0,col],label='Odd', c='blue')\n",
    "axs[0].plot(dacValuesV,imgDesc[0:,1,col],label='Even', c='red')\n",
    "\n",
    "for col in range(0,192,1):\n",
    "    for row in range(2,3,2):\n",
    "        axs[0].plot(dacValuesV,imgDesc[:,row,col], c='blue')\n",
    "        axs[0].plot(dacValuesV,imgDesc[:,row+1,col], c='red')\n",
    "        \n",
    "axs[0].set_ylim(0,2**14)\n",
    "\n",
    "axs[0].set_xlabel('DAC Voltage [V]')\n",
    "axs[0].set_ylabel('ADC output  [ADUs]')\n",
    "axs[0].grid()\n",
    "\n",
    "for col in range(0,192,1):\n",
    "    for row in range(2,3,2):\n",
    "        gain = getGainLinFit(dacValuesV,imgDesc[:,row,col])\n",
    "        axs[1].plot(dacValuesV,getResidualsLinFit(dacValuesV,imgDesc[:,row,col]), c='blue')\n",
    "        axs[1].plot(dacValuesV,getResidualsLinFit(dacValuesV,imgDesc[:,row+1,col]), c='red')\n",
    "\n",
    "# plt.ylim(-1000,1000)\n",
    "axs[1].set_xlabel('DAC Voltage [V]')\n",
    "axs[1].set_ylabel('Residuals  [ADUs]')\n",
    "axs[1].set_ylim(-500,500)\n",
    "\n",
    "axs[1].grid()\n",
    "\n",
    "for col in range(0,192,1):\n",
    "    for row in range(2,3,2):\n",
    "        gain = getGainLinFit(dacValuesV,imgDesc[:,row,col])\n",
    "        axs[2].plot(dacValuesV,getResidualsLinFit(dacValuesV,imgDesc[:,row,col])/gain, c='blue')\n",
    "        axs[2].plot(dacValuesV,getResidualsLinFit(dacValuesV,imgDesc[:,row+1,col]/gain), c='red')\n",
    "\n",
    "# plt.ylim(-1000,1000)\n",
    "axs[2].set_xlabel('DAC Voltage [V]')\n",
    "axs[2].set_ylabel('Residuals  [ADUs / gain]')\n",
    "axs[2].set_ylim(-0.1,0.1)\n",
    "axs[2].grid()\n",
    "\n",
    "\n"
   ]
  },
  {
   "cell_type": "code",
   "execution_count": null,
   "id": "c47c350d",
   "metadata": {},
   "outputs": [],
   "source": []
  }
 ],
 "metadata": {
  "kernelspec": {
   "display_name": "Python 3 (ipykernel)",
   "language": "python",
   "name": "python3"
  },
  "language_info": {
   "codemirror_mode": {
    "name": "ipython",
    "version": 3
   },
   "file_extension": ".py",
   "mimetype": "text/x-python",
   "name": "python",
   "nbconvert_exporter": "python",
   "pygments_lexer": "ipython3",
   "version": "3.9.15"
  }
 },
 "nbformat": 4,
 "nbformat_minor": 5
}
