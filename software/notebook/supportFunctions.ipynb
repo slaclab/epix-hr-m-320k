{
 "cells": [
  {
   "cell_type": "markdown",
   "id": "cc5e6c22-2167-4e12-a8ca-d4b5165194d1",
   "metadata": {
    "tags": []
   },
   "source": [
    "# Helper functions"
   ]
  },
  {
   "cell_type": "markdown",
   "id": "c4d0b09f",
   "metadata": {},
   "source": [
    "Function to request frames, using the HW trigger.\n",
    "\n",
    "TrigPeriod = in steps of 10ns.\n",
    "Example: 50000 = 2kfps"
   ]
  },
  {
   "cell_type": "code",
   "execution_count": 4,
   "id": "87d01f8b-31e0-4ce8-920a-03acd44721ec",
   "metadata": {
    "tags": []
   },
   "outputs": [],
   "source": [
    "def getFrames(DATADEBUG, numFrames = 2048, TrigPeriod = 50000):\n",
    "\n",
    "    # damage control\n",
    "    DATADEBUG.enableDataDebug(True)\n",
    "    DATADEBUG.cleanData()\n",
    "    TRIG.StopTriggers()\n",
    "    \n",
    "    #sets TriggerRegisters\n",
    "    TRIG.AcqCountReset()\n",
    "    TRIG.numberTrigger.set(numFrames)\n",
    "    TRIG.AutoTrigPeriod.set(TrigPeriod) #in steps of 10ns\n",
    "    TRIG.AutoRunEn.set(True)\n",
    "    TRIG.RunTriggerEnable.set(True)\n",
    "    TRIG.AutoDaqEn.set(True)\n",
    "    TRIG.DaqTriggerEnable.set(True)\n",
    "\n",
    "    while (TRIG.AcqCount.get() != numFrames) :\n",
    "        print(\"Triggers sent: {}\".format(TRIG.AcqCount.get()) , end='\\r')\n",
    "        time.sleep(0.1)\n",
    "\n",
    "    # stops triggers\n",
    "    TRIG.StopTriggers()\n",
    "    time.sleep(0.1)\n",
    "\n",
    "    while ( numFrames > DATADEBUG.getData().shape[2]) :\n",
    "        time.sleep(1)\n",
    "        print(\"Descrambled {}\".format(DATADEBUG.getData().shape[2]), end='\\r')\n",
    "    print(\"Data Descrambled\")\n",
    "    print(DATADEBUG.getData().shape)\n",
    "\n",
    "    # Print the status\n",
    "    DeltaAcqCount = TRIG.AcqCount.get()\n",
    "    DeltaDaqCount = TRIG.DaqCount.get()\n",
    "    \n",
    "    print( f'Delta Aquisition Counter: {DeltaDaqCount}')\n",
    "    print( f'Number of frames received: {DATADEBUG.getData().shape}' )\n",
    "\n",
    "    return DATADEBUG.getData()\n"
   ]
  },
  {
   "cell_type": "markdown",
   "id": "37643693",
   "metadata": {},
   "source": [
    "# Hack to get lanes to behave\n",
    "Request data and disable lanes which fail"
   ]
  },
  {
   "cell_type": "code",
   "execution_count": 5,
   "id": "532e3559",
   "metadata": {},
   "outputs": [],
   "source": [
    "def lanesHackTest(root, PKREG, DATADEBUG):\n",
    "    PKREG.CountReset()\n",
    "    for i in range(24):\n",
    "        print(\"PKREG.TimeoutCntLane[{}]={}\".format(i, PKREG.TimeoutCntLane[i].get()))\n",
    "    \n",
    "    # Take data\n",
    "    PKREG.CountReset()\n",
    "    imgDesc = getFrames(DATADEBUG, numFrames = 2048)"
   ]
  },
  {
   "cell_type": "code",
   "execution_count": 3,
   "id": "6337c771",
   "metadata": {},
   "outputs": [],
   "source": [
    "def lanesHackDisable(root, PKREG, DATADEBUG):   \n",
    "    TimeoutCntLane = [0] * 24\n",
    "    disable = PKREG.DisableLane.get()\n",
    "    for i in range(24):\n",
    "        print(\"PKREG.TimeoutCntLane[{}]={}\".format(i, PKREG.TimeoutCntLane[i].get()))\n",
    "        TimeoutCntLane[i] = PKREG.TimeoutCntLane[i].get()\n",
    "        if(TimeoutCntLane[i]> 20) :\n",
    "            #disable lane\n",
    "            disable = disable | 0x1<<i\n",
    "\n",
    "    PKREG.DisableLane.set(disable)\n",
    "\n",
    "    #get locked lanes\n",
    "    root.getLaneLocks()\n",
    "\n",
    "    #Disabled lanes in ASICS\n",
    "    for asicIndex in range(4) : \n",
    "        root.App.AsicTop.DigAsicStrmRegisters0.enable.set(True)\n",
    "        print(\"ASIC{}: {:#x}\".format(asicIndex, getattr(root.App.AsicTop, f\"DigAsicStrmRegisters{asicIndex}\").DisableLane.get()))    "
   ]
  },
  {
   "cell_type": "code",
   "execution_count": null,
   "id": "45795513",
   "metadata": {},
   "outputs": [],
   "source": []
  }
 ],
 "metadata": {
  "kernelspec": {
   "display_name": "Python 3 (ipykernel)",
   "language": "python",
   "name": "python3"
  },
  "language_info": {
   "codemirror_mode": {
    "name": "ipython",
    "version": 3
   },
   "file_extension": ".py",
   "mimetype": "text/x-python",
   "name": "python",
   "nbconvert_exporter": "python",
   "pygments_lexer": "ipython3",
   "version": "3.9.15"
  }
 },
 "nbformat": 4,
 "nbformat_minor": 5
}
