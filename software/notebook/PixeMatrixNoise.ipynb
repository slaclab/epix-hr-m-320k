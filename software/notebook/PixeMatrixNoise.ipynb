{
 "cells": [
  {
   "cell_type": "markdown",
   "id": "b8dbf501-98d2-4bca-9a0d-59e2c2494eb5",
   "metadata": {},
   "source": [
    "# Initialize system"
   ]
  },
  {
   "cell_type": "code",
   "execution_count": 1,
   "id": "410127dc-3b31-48bb-9d32-677c3b926767",
   "metadata": {},
   "outputs": [],
   "source": [
    "### Setup the library ###\n",
    "import pyrogue as pr\n",
    "import os, sys\n",
    "import matplotlib.pyplot as plt\n",
    "import time\n",
    "import datetime\n",
    "import numpy as np\n",
    "import math\n",
    "import pprint\n",
    "import inspect \n",
    "top_level=f'{os.getcwd()}/../'\n",
    "rootTopLevel = top_level+'script/'\n",
    "pr.addLibraryPath( rootTopLevel )\n",
    "\n",
    "import setupLibPaths\n",
    "\n",
    "import ePix320kM as devBoard\n",
    "\n",
    "args = None"
   ]
  },
  {
   "cell_type": "code",
   "execution_count": 2,
   "id": "43ed4f16",
   "metadata": {},
   "outputs": [
    {
     "name": "stdout",
     "output_type": "stream",
     "text": [
      "{'name': 'ScopeData0'}\n",
      "{'name': 'ScopeData1'}\n",
      "{'name': 'ScopeData2'}\n",
      "{'name': 'ScopeData3'}\n",
      "Root.Core.Si5345Pll.Page0.DataBlock.setPollInterval(1)\n",
      "Start: Started zmqServer on ports 9099-9101\n",
      "    To start a gui: python -m pyrogue gui --server='localhost:9099'\n",
      "    To use a virtual client: client = pyrogue.interfaces.VirtualClient(addr='localhost', port=9099)\n",
      "Root.Core.AxiVersion count reset called\n",
      "###################################################\n",
      "#             Firmware Version                    #\n",
      "###################################################\n",
      "Path         = Root.Core.AxiVersion\n",
      "FwVersion    = 0x1000300\n",
      "UpTime       = 4:49:08\n",
      "GitHash      = 0x9550c2a95f7e334393e52bfde914e26fb20f11b8\n",
      "XilinxDnaId  = 0x400200000139d7204c81a145\n",
      "FwTarget     = ePixHRM320k\n",
      "BuildEnv     = Vivado v2023.1\n",
      "BuildServer  = rdsrv314 (Ubuntu 20.04.6 LTS)\n",
      "BuildDate    = Wed 17 Jan 2024 11:42:17 PM PST\n",
      "Builder      = dnajjar\n",
      "###################################################\n"
     ]
    }
   ],
   "source": [
    "# ONLY RUN ONCE!\n",
    "# Defining root\n",
    "root =  devBoard.Root(   \n",
    "        top_level  = rootTopLevel,\n",
    "        dev        = '/dev/datadev_1',\n",
    "        pollEn     = False,\n",
    "        initRead   = True,\n",
    "        serverPort = 9099)\n",
    "root.start()\n",
    "\n",
    "# example showing a read\n",
    "AxiVersion = root.Core.AxiVersion\n",
    "print ( '###################################################')\n",
    "print ( '#             Firmware Version                    #')\n",
    "print ( '###################################################')\n",
    "AxiVersion.printStatus()\n",
    "print ( '###################################################')"
   ]
  },
  {
   "cell_type": "code",
   "execution_count": 3,
   "id": "f0879711",
   "metadata": {},
   "outputs": [],
   "source": [
    "# Useful short names\n",
    "APP  = root.App\n",
    "AXIV = root.Core.AxiVersion\n",
    "ASICTOP = APP.AsicTop\n",
    "TRIG = ASICTOP.TriggerRegisters\n",
    "ASIC0 = APP.Mv2Asic[0]\n",
    "ASIC1 = APP.Mv2Asic[1]\n",
    "ASIC2 = APP.Mv2Asic[2]\n",
    "ASIC3 = APP.Mv2Asic[3]\n",
    "HSDAC = APP.Dac.FastDac \n",
    "PKREG0 = ASICTOP.DigAsicStrmRegisters0\n",
    "PKREG1 = ASICTOP.DigAsicStrmRegisters1\n",
    "PKREG2 = ASICTOP.DigAsicStrmRegisters2\n",
    "PKREG3 = ASICTOP.DigAsicStrmRegisters3\n",
    "BATCHER0 = ASICTOP.BatcherEventBuilder0\n",
    "BATCHER1 = ASICTOP.BatcherEventBuilder1\n",
    "BATCHER2 = ASICTOP.BatcherEventBuilder2\n",
    "BATCHER3 = ASICTOP.BatcherEventBuilder3\n",
    "DEBUG0 = root._dbg[0]\n",
    "DEBUG1 = root._dbg[1]\n",
    "DEBUG2 = root._dbg[2]\n",
    "DEBUG3 = root._dbg[3]\n",
    "DATARCV0 = root.DataReceiver0\n",
    "DATARCV1 = root.DataReceiver1\n",
    "DATARCV2 = root.DataReceiver2\n",
    "DATARCV3 = root.DataReceiver3\n",
    "FULLRATERCV0 = root.fullRateDataReceiver[0]\n",
    "FULLRATERCV1 = root.fullRateDataReceiver[1]\n",
    "FULLRATERCV2 = root.fullRateDataReceiver[2]\n",
    "FULLRATERCV3 = root.fullRateDataReceiver[3]\n",
    "DAC = APP.Dac\n",
    "REGCTRL = ASICTOP.RegisterControlDualClock"
   ]
  },
  {
   "cell_type": "code",
   "execution_count": 4,
   "id": "eac39a14",
   "metadata": {},
   "outputs": [
    {
     "name": "stdout",
     "output_type": "stream",
     "text": [
      "Rysync ASIC started\n",
      "Init ASIC script started\n",
      "Loading PLL configuration\n",
      "Loading supply configuration\n",
      "Loading /afs/slac.stanford.edu/g/controls/development/users/dnajjar/sandBox/epix-hr-m-320k/software/notebook/../script/../config/ePixHRM320k_PowerSupply_Enable.yml\n",
      "Loading lane delay configurations\n",
      "Loading /afs/slac.stanford.edu/g/controls/development/users/dnajjar/sandBox/epix-hr-m-320k/software/notebook/../script/../config/ePixHRM320k_SspMonGrp_carrier3.yml\n",
      "Loading waveforms configuration\n",
      "Loading /afs/slac.stanford.edu/g/controls/development/users/dnajjar/sandBox/epix-hr-m-320k/software/notebook/../script/../config/ePixHRM320k_RegisterControl.yml\n",
      "Loading packet register configurations\n",
      "Loading /afs/slac.stanford.edu/g/controls/development/users/dnajjar/sandBox/epix-hr-m-320k/software/notebook/../script/../config/ePixHRM320k_PacketRegisters.yml\n",
      "Loading batcher configurations\n",
      "Loading /afs/slac.stanford.edu/g/controls/development/users/dnajjar/sandBox/epix-hr-m-320k/software/notebook/../script/../config/ePixHRM320k_BatcherEventBuilder.yml\n",
      "Taking asic off of reset\n",
      "Loading ASICs and timing configuration\n",
      "Loading /afs/slac.stanford.edu/g/controls/development/users/dnajjar/sandBox/epix-hr-m-320k/software/notebook/../script/../config/ePixHRM320k_ASIC_u1_PLLBypass.yml\n",
      "Loading /afs/slac.stanford.edu/g/controls/development/users/dnajjar/sandBox/epix-hr-m-320k/software/notebook/../script/../config/ePixHRM320k_ASIC_u2_PLLBypass.yml\n",
      "Loading /afs/slac.stanford.edu/g/controls/development/users/dnajjar/sandBox/epix-hr-m-320k/software/notebook/../script/../config/ePixHRM320k_ASIC_u3_PLLBypass.yml\n",
      "Loading /afs/slac.stanford.edu/g/controls/development/users/dnajjar/sandBox/epix-hr-m-320k/software/notebook/../script/../config/ePixHRM320k_ASIC_u4_PLLBypass.yml\n",
      "Initialization routine completed.\n"
     ]
    }
   ],
   "source": [
    "# Configure clock to 168 MHz and configures all ASICS\n",
    "root.InitASIC([4,1,1,1,1])"
   ]
  },
  {
   "cell_type": "code",
   "execution_count": 5,
   "id": "83059953",
   "metadata": {},
   "outputs": [],
   "source": [
    "root.disableAndCleanAllFullRateDataRcv()\n",
    "root.enableDataRcv(False)\n",
    "root.enableDataDebug(False)"
   ]
  },
  {
   "cell_type": "code",
   "execution_count": 6,
   "id": "66d4c177",
   "metadata": {},
   "outputs": [
    {
     "name": "stdout",
     "output_type": "stream",
     "text": [
      "Stop Triggers command executed\n",
      "Set Auto Trigger command executed\n",
      "Start Auto Trigger command executed\n",
      "Triggers sent: 100\n",
      "Stop Triggers command executed\n"
     ]
    }
   ],
   "source": [
    "#run some triggers and exercise lanes and locks\n",
    "frames = 100\n",
    "rate = 5000\n",
    "\n",
    "root.hwTrigger(frames, rate)"
   ]
  },
  {
   "cell_type": "code",
   "execution_count": 7,
   "id": "817ca960",
   "metadata": {},
   "outputs": [
    {
     "name": "stdout",
     "output_type": "stream",
     "text": [
      "ASIC0: 0xffffff\n",
      "ASIC1: 0xfffffa\n",
      "ASIC2: 0xb6ffff\n",
      "ASIC3: 0xbfffff\n"
     ]
    }
   ],
   "source": [
    "#get locked lanes\n",
    "time.sleep(3)\n",
    "root.getLaneLocks()"
   ]
  },
  {
   "cell_type": "code",
   "execution_count": 8,
   "id": "c5448884",
   "metadata": {},
   "outputs": [
    {
     "name": "stdout",
     "output_type": "stream",
     "text": [
      "ASIC0: 0x20000\n",
      "ASIC1: 0x10045\n",
      "ASIC2: 0x490000\n",
      "ASIC3: 0x540140\n"
     ]
    }
   ],
   "source": [
    "#Disabled lanes in ASICS\n",
    "for asicIndex in range(4) : \n",
    "    root.App.AsicTop.DigAsicStrmRegisters0.enable.set(True)\n",
    "    print(\"ASIC{}: {:#x}\".format(asicIndex, getattr(root.App.AsicTop, f\"DigAsicStrmRegisters{asicIndex}\").DisableLane.get()))"
   ]
  },
  {
   "cell_type": "code",
   "execution_count": 9,
   "id": "91633812",
   "metadata": {},
   "outputs": [
    {
     "name": "stdout",
     "output_type": "stream",
     "text": [
      "descramble error\n",
      "rawData length 20976\n",
      "descramble error\n",
      "rawData length 3528\n",
      "descramble error\n",
      "rawData length 26112\n"
     ]
    }
   ],
   "source": [
    "#Enable data receivers and run some triggers\n",
    "root.enableDataRcv(True)\n",
    "root.enableAllAsics(True)\n",
    "for i in range (5):\n",
    "    root.Trigger()"
   ]
  },
  {
   "cell_type": "code",
   "execution_count": 10,
   "id": "9cced2c2",
   "metadata": {},
   "outputs": [
    {
     "name": "stdout",
     "output_type": "stream",
     "text": [
      "Checkpoint: DataReceiver 0 has 0 frames\n",
      "Checkpoint: DataReceiver 1 has 1 frames\n",
      "Checkpoint: DataReceiver 2 has 1 frames\n",
      "Checkpoint: DataReceiver 3 has 1 frames\n"
     ]
    }
   ],
   "source": [
    "# Obtain descrambled single frame data from ASICs from DataReceiver. Data receiver is down sampled.\n",
    "root.printDataReceiverStatus()\n",
    "    \n",
    "frame = [None for i in range(4)]\n",
    "for asicIndex in range(4):\n",
    "    frame[asicIndex] = getattr(root, f\"DataReceiver{asicIndex}\").Data.get()"
   ]
  },
  {
   "cell_type": "markdown",
   "id": "40fd34c3",
   "metadata": {},
   "source": [
    "# Here we select which ASIC we want to test"
   ]
  },
  {
   "cell_type": "code",
   "execution_count": 11,
   "id": "a11b6b6c",
   "metadata": {},
   "outputs": [],
   "source": [
    "# Change these 3 lines when you want to select another ASIC\n",
    "AsicNum = 1\n",
    "dataDebug = DEBUG1\n",
    "ASIC = ASIC1\n",
    "\n",
    "# From here it's all the same\n",
    "root.enableAllAsics(False)\n",
    "root.enableAsic(AsicNum, True)\n",
    "root.enableDataRcv(False)\n",
    "\n",
    "dataDebug.enableDataDebug(True) ##### -- This was changed !!!\n",
    "dataDebug.cleanData() ##### -- This was changed !!!"
   ]
  },
  {
   "cell_type": "markdown",
   "id": "b39ec734",
   "metadata": {},
   "source": [
    "# Lorenzo - Helper functions"
   ]
  },
  {
   "cell_type": "code",
   "execution_count": 12,
   "id": "794eea91",
   "metadata": {},
   "outputs": [],
   "source": [
    "%run dataProcFunctions.ipynb     #this is were my function was stored"
   ]
  },
  {
   "cell_type": "code",
   "execution_count": 13,
   "id": "fad52088",
   "metadata": {},
   "outputs": [],
   "source": [
    "# helper functions\n",
    "# clock speed is 168MHz. 1 tick is 0.006 us\n",
    "def setSR0(width, delay) :\n",
    "    REGCTRL.SR0Delay1.set(delay)\n",
    "    REGCTRL.SR0Width1.set(width)\n",
    "    print(f'SR0 Width set to {REGCTRL.SR0Width1_us.get():.3f}uS')\n",
    "    print(f'SR0 Delay set to {REGCTRL.SR0Delay_us.get():.3f}uS')\n",
    "    \n",
    "def setAcq1(width, delay) :\n",
    "    REGCTRL.AcqDelay1.set(delay)\n",
    "    REGCTRL.AcqWidth1.set(width)\n",
    "    print(f'Acq1 Width set to {REGCTRL.AcqWidth1_us.get():.3f}uS')\n",
    "    print(f'Acq1 Delay set to {REGCTRL.AcqDelay1_us.get():.3f}uS')\n",
    "    \n",
    "def setAcq2(width, delay) :\n",
    "    REGCTRL.AcqDelay2.set(delay)\n",
    "    REGCTRL.AcqWidth2.set(width)\n",
    "    print(f'Acq2 Width set to {REGCTRL.AcqWidth2_us.get():.3f}uS')\n",
    "    print(f'Acq2 Delay set to {REGCTRL.AcqDelay2_us.get():.3f}uS')    \n",
    "\n",
    "def setR0(width, delay) :\n",
    "    REGCTRL.R0Delay.set(delay)\n",
    "    REGCTRL.R0Width.set(width)\n",
    "    print(f'R0 Width set to {REGCTRL.R0Width_us.get():.3f}uS')\n",
    "    print(f'R0 Delay set to {REGCTRL.R0Delay_us.get():.3f}uS') \n",
    "\n",
    "    \n",
    "def setSync(width, delay) :\n",
    "    REGCTRL.SyncDelay.set(delay)\n",
    "    REGCTRL.SyncWidth.set(width)\n",
    "    print(f'Sync Delay set to {REGCTRL.SyncDelay_us.get():.3f}uS')     "
   ]
  },
  {
   "cell_type": "code",
   "execution_count": 14,
   "id": "f3cea2e1",
   "metadata": {},
   "outputs": [
    {
     "name": "stdout",
     "output_type": "stream",
     "text": [
      "Acq1 Width set to 20.000uS\n",
      "Acq1 Delay set to 1.664uS\n",
      "R0 Width set to 21.920uS\n",
      "R0 Delay set to 0.640uS\n",
      "SR0 Width set to 226.190uS\n",
      "SR0 Delay set to 21.042uS\n",
      "Acq1 Width set to 1.024uS\n",
      "Acq1 Delay set to 1.664uS\n",
      "R0 Width set to 21.920uS\n",
      "R0 Delay set to 0.640uS\n",
      "SR0 Width set to 226.190uS\n",
      "SR0 Delay set to 21.042uS\n",
      "-------------------------\n",
      "Baseline time:    1.024 uS\n",
      "Integration time: 1.024 uS\n",
      "Sampling done at: 2.6879999999999997 uS\n",
      "-------------------------\n"
     ]
    }
   ],
   "source": [
    "# Steps = clock period of 168Mhz (5.95ns)\n",
    "# Acq1 is 20us\n",
    "# R0 after Acq1\n",
    "# R0 Width set to 1.920uS\n",
    "# SR0 needs to be launched after R0 delay + R0 width + alpha\n",
    "\n",
    "\n",
    "\n",
    "# ------------------- 20 us integration time\n",
    "AcqWidth = 3125\n",
    "AcqDelay = 260\n",
    "setAcq1(AcqWidth, AcqDelay)\n",
    "\n",
    "R0Width = 3425\n",
    "R0Delay = 100\n",
    "setR0(R0Width, R0Delay)\n",
    "\n",
    "SR0Width = 38000\n",
    "SR0Delay = R0Width + R0Delay + 10\n",
    "setSR0(SR0Width, SR0Delay)\n",
    "\n",
    "# ------------------- 1 us integration time\n",
    "AcqWidth = 160\n",
    "AcqDelay = 260\n",
    "setAcq1(AcqWidth, AcqDelay)\n",
    "\n",
    "R0Width = 3425\n",
    "R0Delay = 100\n",
    "setR0(R0Width, R0Delay)\n",
    "\n",
    "SR0Width = 38000\n",
    "SR0Delay = R0Width + R0Delay + 10\n",
    "setSR0(SR0Width, SR0Delay)\n",
    "\n",
    "# Print human-readable values\n",
    "print(f'-------------------------')\n",
    "baseline_int_time = REGCTRL.AcqDelay1_us.get() - REGCTRL.R0Delay_us.get()\n",
    "integration_time = REGCTRL.AcqWidth1_us.get()\n",
    "print(f'Baseline time:    {baseline_int_time} uS')\n",
    "print(f'Integration time: {integration_time} uS')\n",
    "print(f'Sampling done at: {REGCTRL.AcqWidth1_us.get()+REGCTRL.AcqDelay1_us.get()} uS')\n",
    "print(f'-------------------------')"
   ]
  },
  {
   "cell_type": "markdown",
   "id": "fb116ee2",
   "metadata": {},
   "source": [
    "# Set registers and variables"
   ]
  },
  {
   "cell_type": "code",
   "execution_count": 15,
   "id": "31741fc8",
   "metadata": {},
   "outputs": [],
   "source": [
    "# Set some registers...\n",
    "ASIC.mTest.set(False)\n",
    "ASIC.CompTH_ePixM.set(30)\n",
    "ASIC.Precharge_DAC_ePixM.set(45)\n",
    "ASIC.DHg.set(False)\n",
    "\n",
    "# Optimal bias settings\n",
    "ASIC.RefinN.set(6)\n",
    "ASIC.RefinP.set(2)\n",
    "\n",
    "# ASIC3.pipoclk_delay_row0.set(15)\n",
    "# ASIC3.pipoclk_delay_row1.set(15)\n",
    "# ASIC3.pipoclk_delay_row2.set(15)\n",
    "# ASIC3.pipoclk_delay_row3.set(15)\n",
    "\n",
    "# Reference pixel\n",
    "ref_row = 100\n",
    "ref_col = 150"
   ]
  },
  {
   "cell_type": "code",
   "execution_count": 16,
   "id": "8d479653",
   "metadata": {},
   "outputs": [
    {
     "name": "stdout",
     "output_type": "stream",
     "text": [
      "1\r",
      "Descrambled 1\r",
      "Data Descrambled\n",
      "(192, 384, 1)\n",
      "[45655]\n"
     ]
    },
    {
     "data": {
      "image/png": "[encoded data removed]",
      "text/plain": [
       "<Figure size 640x480 with 2 Axes>"
      ]
     },
     "metadata": {},
     "output_type": "display_data"
    }
   ],
   "source": [
    "chargeInj=chargeInjection(firstCol=(ref_col-10),LastCol=(ref_col+10),PulserValue=1000, AsicNum=AsicNum)\n",
    "data = readoutFrames(dataDebug, 1)\n",
    "plt.imshow(data, interpolation='none', aspect='auto', origin='lower')\n",
    "plt.ylabel(\"Row [#]\")\n",
    "plt.xlabel(\"Col [#]\")\n",
    "plt.colorbar()\n",
    "\n",
    "print(data[ref_row,ref_col])"
   ]
  },
  {
   "cell_type": "code",
   "execution_count": null,
   "id": "708e8cee",
   "metadata": {},
   "outputs": [
    {
     "name": "stdout",
     "output_type": "stream",
     "text": [
      "Data Descrambled\n",
      "(192, 384, 1)\n",
      "14828.0\n",
      "Data Descrambled\n",
      "(192, 384, 1)\n",
      "15051.0\n",
      "Data Descrambled\n",
      "(192, 384, 1)\n",
      "14873.0\n",
      "Data Descrambled\n",
      "(192, 384, 1)\n",
      "14310.0\n",
      "Data Descrambled\n",
      "(192, 384, 1)\n",
      "12782.0\n",
      "Data Descrambled\n",
      "(192, 384, 1)\n",
      "9500.0\n",
      "Data Descrambled\n",
      "(192, 384, 1)\n",
      "46019.0\n",
      "Data Descrambled\n",
      "(192, 384, 1)\n",
      "46895.0\n",
      "Data Descrambled\n",
      "(192, 384, 1)\n",
      "47084.0\n",
      "Data Descrambled\n",
      "(192, 384, 1)\n",
      "46994.0\n",
      "Data Descrambled\n",
      "(192, 384, 1)\n",
      "46892.0\n",
      "Data Descrambled\n",
      "(192, 384, 1)\n",
      "46755.0\n",
      "Data Descrambled\n",
      "(192, 384, 1)\n",
      "46549.0\n",
      "Data Descrambled\n",
      "(192, 384, 1)\n",
      "46396.0\n",
      "Data Descrambled\n",
      "(192, 384, 1)\n",
      "46230.0\n",
      "Data Descrambled\n",
      "(192, 384, 1)\n",
      "46057.0\n",
      "Data Descrambled\n",
      "(192, 384, 1)\n",
      "45849.0\n"
     ]
    }
   ],
   "source": [
    "ChInjValues, pixelRamp = chargeInjRamp(dataDebug,AsicNum=AsicNum,Min=0, Max=1000, numSteps=20)"
   ]
  },
  {
   "cell_type": "code",
   "execution_count": null,
   "id": "939b8f53",
   "metadata": {},
   "outputs": [],
   "source": [
    "# Fit gain\n",
    "gain = np.polyfit(ChInjValues, pixelRamp, 1)[0]\n",
    "print('Gain:{}'.format(gain))\n",
    "\n",
    "plt.figure(figsize = (10,5))\n",
    "plt.plot(ChInjValues, pixelRamp, marker='o')\n",
    "plt.ylabel(\"Output [ADUs]\")\n",
    "plt.xlabel(\"Charge injection pulser value [#]\")"
   ]
  },
  {
   "cell_type": "code",
   "execution_count": null,
   "id": "37e87e9a",
   "metadata": {},
   "outputs": [],
   "source": [
    "# stops the spamming of messages\n",
    "numberOfTriggers = 100\n",
    "data = readoutFrames(dataDebug, numberOfTriggers)"
   ]
  },
  {
   "cell_type": "code",
   "execution_count": null,
   "id": "d2b2f261",
   "metadata": {},
   "outputs": [],
   "source": [
    "# Plot raw data and histogram\n",
    "\n",
    "dataTimeAvg = np.average(data,axis=2)\n",
    "\n",
    "print(np.shape(dataTimeAvg))\n",
    "\n",
    "plt.figure(figsize = (20,10))\n",
    "plt.imshow(dataTimeAvg, interpolation='none', aspect='auto', origin='lower')\n",
    "plt.ylabel(\"Row [#]\")\n",
    "plt.xlabel(\"Col [#]\")\n",
    "plt.title(\"Raw data - Avg: {:} - Reference pixel: {:}\".format(getMedianDark(data),dataTimeAvg[ref_row,ref_col]))\n",
    "plt.colorbar()\n",
    "\n",
    "\n",
    "plt.figure(figsize = (10,5))\n",
    "plt.hist(data[:,:,0].flatten(), range=[0,2**15],bins=2**8, log=True)\n",
    "plt.title(\"Distribution of dark values\")\n",
    "plt.ylabel(\"Entries [#]\")\n",
    "plt.xlabel(\"ADC Value [ADUs]\")"
   ]
  },
  {
   "cell_type": "code",
   "execution_count": null,
   "id": "9b3453a3",
   "metadata": {
    "scrolled": false
   },
   "outputs": [],
   "source": [
    "# NOISE\n",
    "\n",
    "# Uncomment to filter bad pixels!\n",
    "# data, median_noise = filter_bad_pixels(data)\n",
    "\n",
    "# Calculate data_noisemap\n",
    "data_noisemap = np.std(data, axis=2)\n",
    "\n",
    "# Flatten array\n",
    "noisemap_flat = data_noisemap.flatten()\n",
    "\n",
    "# Remove 0 noise (lanes not locked)\n",
    "noisemap_flat = noisemap_flat[noisemap_flat > 0]\n",
    "\n",
    "median_noise = np.median(noisemap_flat)\n",
    "std_noise    = np.std(noisemap_flat)\n",
    "\n",
    "# Get outliers (calculated as *2 noise)\n",
    "noisemap_outliers = noisemap_flat[noisemap_flat > median_noise*2]\n",
    "\n",
    "\n",
    "\n",
    "\n",
    "print('Noise: {:3f}'.format(median_noise))\n",
    "\n",
    "plt.figure(figsize=(10,4))\n",
    "plt.imshow(data_noisemap, interpolation='none', aspect='auto', vmin=0, vmax=median_noise*3, origin='lower')\n",
    "plt.ylabel(\"Row [#]\")\n",
    "plt.xlabel(\"Col [#]\")\n",
    "plt.title(r'Noise: {:.1f} $\\pm$ {:.1f}'.format(median_noise, std_noise))\n",
    "plt.colorbar()\n",
    "\n",
    "fig, ax = plt.subplots(1,2, figsize=(13,3))\n",
    "\n",
    "ax[0].hist(data_noisemap[(data_noisemap < 400) & (data_noisemap > 1)].flatten(),bins=2**8)\n",
    "ax[0].set_title(\"Pixel noise distribution - Zoom on median\")\n",
    "ax[0].set_ylabel(\"Entries [#]\")\n",
    "ax[0].set_xlabel(\"Noise [ADUs]\")\n",
    "\n",
    "ax[1].hist(data_noisemap.flatten(),bins=2**8,log=True)\n",
    "ax[0].set_title(\"Pixel noise distribution - Whole range\")\n",
    "ax[1].set_ylabel(\"Entries [#]\")\n",
    "ax[1].set_xlabel(\"Noise [ADUs]\")\n",
    "\n"
   ]
  },
  {
   "cell_type": "code",
   "execution_count": null,
   "id": "24f08434",
   "metadata": {},
   "outputs": [],
   "source": [
    "# Subtract mean and display image\n",
    "data_darksub = data - np.median(data, axis=2, keepdims=True)\n",
    "\n",
    "plt.figure(figsize = (20,10))\n",
    "plt.imshow(data_darksub[:,:,numberOfTriggers-1], interpolation='none', aspect='auto', vmin=-200, vmax=200, origin='lower')\n",
    "plt.ylabel(\"Row [#]\")\n",
    "plt.xlabel(\"Col [#]\")\n",
    "plt.colorbar()"
   ]
  },
  {
   "cell_type": "code",
   "execution_count": null,
   "id": "dce96437",
   "metadata": {},
   "outputs": [],
   "source": [
    "# Disable data debug so it does not store data infinitely and crash software\n",
    "dataDebug.cleanData()\n",
    "print(dataDebug.getData().shape)\n",
    "root.enableDataDebug(False)"
   ]
  },
  {
   "cell_type": "code",
   "execution_count": null,
   "id": "ba52cef6",
   "metadata": {},
   "outputs": [],
   "source": [
    "voltage = [1,10,20,30,40,50]\n",
    "noiseVsV = [90.9,66.5,60.3,57.3,55.3,53.1]\n",
    "\n",
    "plt.plot(voltage,noiseVsV, '-x')\n",
    "plt.title('Noise vs Reverse bias')\n",
    "plt.ylabel('Raw Noise [ADU]')\n",
    "plt.xlabel('Reverse Bias [-V]')"
   ]
  },
  {
   "cell_type": "code",
   "execution_count": null,
   "id": "f9b2d149",
   "metadata": {},
   "outputs": [],
   "source": []
  }
 ],
 "metadata": {
  "kernelspec": {
   "display_name": "Python 3 (ipykernel)",
   "language": "python",
   "name": "python3"
  },
  "language_info": {
   "codemirror_mode": {
    "name": "ipython",
    "version": 3
   },
   "file_extension": ".py",
   "mimetype": "text/x-python",
   "name": "python",
   "nbconvert_exporter": "python",
   "pygments_lexer": "ipython3",
   "version": "3.9.15"
  }
 },
 "nbformat": 4,
 "nbformat_minor": 5
}
