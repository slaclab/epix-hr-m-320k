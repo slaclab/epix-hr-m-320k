{
 "cells": [
  {
   "cell_type": "markdown",
   "id": "b8dbf501-98d2-4bca-9a0d-59e2c2494eb5",
   "metadata": {},
   "source": [
    "# BASIC CONFIGURATIONS"
   ]
  },
  {
   "cell_type": "code",
   "execution_count": 1,
   "id": "410127dc-3b31-48bb-9d32-677c3b926767",
   "metadata": {},
   "outputs": [],
   "source": [
    "### Setup the library ###\n",
    "import pyrogue as pr\n",
    "import os, sys\n",
    "import matplotlib.pyplot as plt\n",
    "import time\n",
    "import datetime\n",
    "import numpy as np\n",
    "import math\n",
    "import pprint\n",
    "import inspect \n",
    "top_level=f'{os.getcwd()}/../'\n",
    "rootTopLevel = top_level+'script/'\n",
    "pr.addLibraryPath( rootTopLevel )\n",
    "\n",
    "import setupLibPaths\n",
    "\n",
    "import ePix320kM as devBoard\n",
    "\n",
    "args = None"
   ]
  },
  {
   "cell_type": "code",
   "execution_count": 2,
   "id": "1941bbb3-abba-4c12-ac3c-8497a31b17c0",
   "metadata": {
    "tags": []
   },
   "outputs": [
    {
     "name": "stdout",
     "output_type": "stream",
     "text": [
      "Root.Core.Si5345Pll.Page0.DataBlock.setPollInterval(1)\n",
      "Start: Started zmqServer on ports 9099-9101\n",
      "    To start a gui: python -m pyrogue gui --server='localhost:9099'\n",
      "    To use a virtual client: client = pyrogue.interfaces.VirtualClient(addr='localhost', port=9099)\n",
      "Root.Core.AxiVersion count reset called\n",
      "###################################################\n",
      "#             Firmware Version                    #\n",
      "###################################################\n",
      "Path         = Root.Core.AxiVersion\n",
      "FwVersion    = 0x1000300\n",
      "UpTime       = 13 days, 8:55:55\n",
      "GitHash      = 0x9550c2a95f7e334393e52bfde914e26fb20f11b8\n",
      "XilinxDnaId  = 0x400200000139d7204c81a145\n",
      "FwTarget     = ePixHRM320k\n",
      "BuildEnv     = Vivado v2023.1\n",
      "BuildServer  = rdsrv314 (Ubuntu 20.04.6 LTS)\n",
      "BuildDate    = Wed 17 Jan 2024 11:42:17 PM PST\n",
      "Builder      = dnajjar\n",
      "###################################################\n"
     ]
    }
   ],
   "source": [
    "# ONLY RUN ONCE!\n",
    "# Defining root\n",
    "# If crashes, make sure the deve is correct.\n",
    "root =  devBoard.Root(   \n",
    "        top_level  = top_level,\n",
    "        dev        = '/dev/datadev_1',\n",
    "        pollEn     = False,\n",
    "        initRead   = True,\n",
    "        pciePgpEn  = False,\n",
    "        justCtrl   = False,\n",
    "        DDebugSize = 4000)\n",
    "root.start()\n",
    "\n",
    "# example showing a read\n",
    "AxiVersion = root.Core.AxiVersion\n",
    "print ( '###################################################')\n",
    "print ( '#             Firmware Version                    #')\n",
    "print ( '###################################################')\n",
    "AxiVersion.printStatus()\n",
    "print ( '###################################################')"
   ]
  },
  {
   "cell_type": "code",
   "execution_count": null,
   "id": "52b50940-9143-44e4-96f0-3efc29544e64",
   "metadata": {
    "tags": []
   },
   "outputs": [],
   "source": [
    "# Useful short names\n",
    "APP  = root.App\n",
    "AXIV = root.Core.AxiVersion\n",
    "ASICTOP = APP.AsicTop\n",
    "TRIG = ASICTOP.TriggerRegisters\n",
    "ASIC0 = APP.Mv2Asic[0]\n",
    "ASIC1 = APP.Mv2Asic[1]\n",
    "ASIC2 = APP.Mv2Asic[2]\n",
    "ASIC3 = APP.Mv2Asic[3]\n",
    "HSDAC = APP.Dac.FastDac \n",
    "PKREG0 = ASICTOP.DigAsicStrmRegisters0\n",
    "PKREG1 = ASICTOP.DigAsicStrmRegisters1\n",
    "PKREG2 = ASICTOP.DigAsicStrmRegisters2\n",
    "PKREG3 = ASICTOP.DigAsicStrmRegisters3\n",
    "BATCHER0 = ASICTOP.BatcherEventBuilder0\n",
    "BATCHER1 = ASICTOP.BatcherEventBuilder1\n",
    "BATCHER2 = ASICTOP.BatcherEventBuilder2\n",
    "BATCHER3 = ASICTOP.BatcherEventBuilder3\n",
    "DEBUG0 = root._dbg[0]\n",
    "DEBUG1 = root._dbg[1]\n",
    "DEBUG2 = root._dbg[2]\n",
    "DEBUG3 = root._dbg[3]\n",
    "DATARCV0 = root.DataReceiver0\n",
    "DATARCV1 = root.DataReceiver1\n",
    "DATARCV2 = root.DataReceiver2\n",
    "DATARCV3 = root.DataReceiver3\n",
    "FULLRATERCV0 = root.fullRateDataReceiver[0]\n",
    "FULLRATERCV1 = root.fullRateDataReceiver[1]\n",
    "FULLRATERCV2 = root.fullRateDataReceiver[2]\n",
    "FULLRATERCV3 = root.fullRateDataReceiver[3]\n",
    "DAC = APP.Dac\n",
    "REGCTRL = ASICTOP.RegisterControlDualClock"
   ]
  },
  {
   "cell_type": "code",
   "execution_count": null,
   "id": "37467cbe",
   "metadata": {},
   "outputs": [],
   "source": [
    "# Configure clock to 168 MHz and configures all ASICS\n",
    "root.InitASIC([4,1,1,1,1])"
   ]
  },
  {
   "cell_type": "code",
   "execution_count": null,
   "id": "9f53679e-4728-4f2d-9e94-48dbf32074c9",
   "metadata": {},
   "outputs": [],
   "source": [
    "root.disableAndCleanAllFullRateDataRcv()\n",
    "root.enableDataRcv(False)\n",
    "root.enableDataDebug(False)"
   ]
  },
  {
   "cell_type": "code",
   "execution_count": null,
   "id": "53c00039",
   "metadata": {},
   "outputs": [],
   "source": [
    "#run some triggers and exercise lanes and locks\n",
    "frames = 100\n",
    "rate = 5000\n",
    "\n",
    "root.hwTrigger(frames, rate)"
   ]
  },
  {
   "cell_type": "code",
   "execution_count": null,
   "id": "8a45d9bb",
   "metadata": {},
   "outputs": [],
   "source": [
    "#get locked lanes\n",
    "time.sleep(3)\n",
    "root.getLaneLocks()"
   ]
  },
  {
   "cell_type": "code",
   "execution_count": null,
   "id": "c4b631e1",
   "metadata": {},
   "outputs": [],
   "source": [
    "#Disabled lanes in ASICS\n",
    "for asicIndex in range(4) : \n",
    "    root.App.AsicTop.DigAsicStrmRegisters0.enable.set(True)\n",
    "    print(\"ASIC{}: {:#x}\".format(asicIndex, getattr(root.App.AsicTop, f\"DigAsicStrmRegisters{asicIndex}\").DisableLane.get()))"
   ]
  },
  {
   "cell_type": "code",
   "execution_count": null,
   "id": "6d21e916",
   "metadata": {},
   "outputs": [],
   "source": [
    "#Enable data receivers and run some triggers\n",
    "root.enableDataRcv(True)\n",
    "root.enableAllAsics(True)\n",
    "for i in range (5):\n",
    "    root.Trigger()"
   ]
  },
  {
   "cell_type": "code",
   "execution_count": null,
   "id": "bedd05b3",
   "metadata": {},
   "outputs": [],
   "source": [
    "# Obtain descrambled single frame data from ASICs from DataReceiver. Data receiver is down sampled.\n",
    "root.printDataReceiverStatus()\n",
    "    \n",
    "frame = [None for i in range(4)]\n",
    "for asicIndex in range(4):\n",
    "    frame[asicIndex] = getattr(root, f\"DataReceiver{asicIndex}\").Data.get()"
   ]
  },
  {
   "cell_type": "markdown",
   "id": "bc1cc675",
   "metadata": {},
   "source": [
    "# Here we select which ASIC we want to test"
   ]
  },
  {
   "cell_type": "code",
   "execution_count": null,
   "id": "5dfe0499",
   "metadata": {},
   "outputs": [],
   "source": [
    "# Change these 3 lines when you want to select another ASIC\n",
    "AsicNum = 2\n",
    "dataDebug = DEBUG2\n",
    "ASIC = ASIC2\n",
    "\n",
    "# From here it's all the same\n",
    "root.enableAllAsics(False)\n",
    "root.enableAsic(AsicNum, True)\n",
    "root.enableDataRcv(False)\n",
    "\n",
    "dataDebug.enableDataDebug(True) ##### -- This was changed !!!\n",
    "dataDebug.cleanData() ##### -- This was changed !!!"
   ]
  },
  {
   "cell_type": "markdown",
   "id": "1449b372",
   "metadata": {},
   "source": [
    "# Control waveform delays - we only care about SRO here"
   ]
  },
  {
   "cell_type": "code",
   "execution_count": null,
   "id": "6c108a91",
   "metadata": {},
   "outputs": [],
   "source": [
    "%run dataProcFunctions.ipynb     #this is were my function was stored"
   ]
  },
  {
   "cell_type": "code",
   "execution_count": null,
   "id": "405490ab",
   "metadata": {},
   "outputs": [],
   "source": [
    "# Steps = clock period of 168Mhz (5.95ns)\n",
    "# Acq1 is 20us\n",
    "# R0 after Acq1\n",
    "# R0 Width set to 1.920uS\n",
    "# SR0 needs to be launched after R0 delay + R0 width + alpha\n",
    "\n",
    "# ------------------- 1 us integration time\n",
    "AcqWidth = 160\n",
    "AcqDelay = 260\n",
    "setAcq1(AcqWidth, AcqDelay)\n",
    "\n",
    "R0Width = 3425\n",
    "R0Delay = 100\n",
    "setR0(R0Width, R0Delay)\n",
    "\n",
    "SR0Width = 38000\n",
    "SR0Delay = R0Width + R0Delay + 10\n",
    "setSR0(SR0Width, SR0Delay)\n"
   ]
  },
  {
   "cell_type": "markdown",
   "id": "94fb9bb3",
   "metadata": {},
   "source": [
    "# ADC configuration"
   ]
  },
  {
   "cell_type": "code",
   "execution_count": null,
   "id": "9a471563",
   "metadata": {},
   "outputs": [],
   "source": [
    "# ADC settings\n",
    "# ASIC.DHg.set(False)    # Set High gain\n",
    "# ASIC.S2D_1_b.set(0)   # Set bias current to max (min value)\n",
    "# ASIC.Ref_gen_d.set(2) # Set 'common-mode' voltage of S/H stage\n",
    "# ASIC.RefGenB.set(2)   # Don't touch\n",
    "\n",
    "setBestSettings(REGCTRL,ASIC0, ASIC1, ASIC2, ASIC3)\n",
    "\n",
    "ASIC.mTest.set(True)      # Don't touch\n",
    "print(ASIC.mTest.get())   # Don't touch\n",
    "\n",
    "#write to DAC\n",
    "DAC.FastDac.DacValue.set(0x45fff)\n",
    "DAC.FastDac.DacValue.set(0x5ffff)\n",
    "print(\"Fast DAC set to {}V\".format(DAC.FastDac.DacValueV.get()))"
   ]
  },
  {
   "cell_type": "markdown",
   "id": "86c5db30",
   "metadata": {},
   "source": [
    "# Check that average ADU output is close to midrange 16384\n",
    "This is the worst-case scenario for the digital glitches!"
   ]
  },
  {
   "cell_type": "code",
   "execution_count": null,
   "id": "3661408b",
   "metadata": {},
   "outputs": [],
   "source": [
    "fig, ax = plt.subplots(figsize=(24, 12))\n",
    "\n",
    "data = readoutFrames(dataDebug,100)\n",
    "\n",
    "plt.imshow(data[:,:,0], origin='lower')\n",
    "plt.title('Image [ADUs] {} - Median value'.format(np.median(data)))\n",
    "plt.colorbar()\n",
    "\n",
    "plt.figure(figsize = (10,5))\n",
    "plt.hist(data[:,:,0].flatten(), range=[0,2**15],bins=2**8, log=True)\n",
    "plt.title(\"Raw data - Median: {:}\".format(getMedianDark(data)))\n",
    "plt.ylabel(\"Entries [#]\")\n",
    "plt.xlabel(\"ADC Value [ADUs]\")"
   ]
  },
  {
   "cell_type": "markdown",
   "id": "94ae7f66",
   "metadata": {},
   "source": [
    "# Automatic pipoclk_delay - Warning: not 100% reliable\n",
    "Scans automatically all the pipoclk_delay settings, and does\n",
    "1) Count how many pixels there are with noise above a threshold (per ADC row)\n",
    "\n",
    "2) Plot images for each of the setting for visual inspection"
   ]
  },
  {
   "cell_type": "code",
   "execution_count": null,
   "id": "7f8880cc",
   "metadata": {},
   "outputs": [],
   "source": [
    "fig, ax = plt.subplots(17, 1, figsize=(6, 6*17))\n",
    "\n",
    "# Create empty arrays\n",
    "noisy_pixels_row0 = np.empty(16)\n",
    "noisy_pixels_row1 = np.empty(16)\n",
    "noisy_pixels_row2 = np.empty(16)\n",
    "noisy_pixels_row3 = np.empty(16)\n",
    "\n",
    "# Specify the noise threshold above which we treat the pixel as a pipoclk_dly glitch\n",
    "noise_thr = 1000\n",
    "\n",
    "delay_setting = 0\n",
    "\n",
    "for i in range(16):\n",
    "    print('pipoclk_delay value: {}'.format(i))\n",
    "    ASIC.pipoclk_delay_row0.set(i)\n",
    "    ASIC.pipoclk_delay_row1.set(i)\n",
    "    ASIC.pipoclk_delay_row2.set(i)\n",
    "    ASIC.pipoclk_delay_row3.set(i)\n",
    "    \n",
    "    # Get data and mask MSB (gain switching)\n",
    "    data = readoutFrames(dataDebug,100)\n",
    "    data = data & ~(1 << 16)\n",
    "\n",
    "    # Try post-processing fix\n",
    "    data[data == 0] = 16384\n",
    "   \n",
    "    noise_map = np.std(data, axis=2)\n",
    "    \n",
    "    noisy_pixels_row0[i] = sum(1 for j in (noise_map[48*0:48*1,:]).flatten() if j > noise_thr)\n",
    "    noisy_pixels_row1[i] = sum(1 for j in (noise_map[48*1:48*2,:]).flatten() if j > noise_thr)\n",
    "    noisy_pixels_row2[i] = sum(1 for j in (noise_map[48*2:48*3,:]).flatten() if j > noise_thr)\n",
    "    noisy_pixels_row3[i] = sum(1 for j in (noise_map[48*3:48*4,:]).flatten() if j > noise_thr)\n",
    "    \n",
    "    ax[i].imshow(noise_map,vmax=1000)\n",
    "    ax[i].set_title('pipoclk_delay value: {}'.format(i))\n",
    "    \n",
    "print(noisy_pixels_row0)\n",
    "\n",
    "\n",
    "ax[16].plot(noisy_pixels_row0, label='row0')\n",
    "ax[16].plot(noisy_pixels_row1, label='row1')\n",
    "ax[16].plot(noisy_pixels_row2, label='row2')\n",
    "ax[16].plot(noisy_pixels_row3, label='row3')\n",
    "\n",
    "ax[16].set_ylabel('Noisy pixels #')\n",
    "ax[16].set_xlabel('Pipoclk_delay setting')\n",
    "\n",
    "plt.legend()\n",
    "plt.tight_layout()\n",
    "\n"
   ]
  },
  {
   "cell_type": "markdown",
   "id": "63b28ad5",
   "metadata": {},
   "source": [
    "# Check that settings give good image\n",
    "Try to automatically derive the best settings based on analysis done above"
   ]
  },
  {
   "cell_type": "code",
   "execution_count": null,
   "id": "4ea8fe83",
   "metadata": {},
   "outputs": [],
   "source": [
    "# Optimal delays are stored here\n",
    "opt_row0 = noisy_pixels_row0.argmin()\n",
    "opt_row1 = noisy_pixels_row1.argmin()\n",
    "opt_row2 = noisy_pixels_row2.argmin()\n",
    "opt_row3 = noisy_pixels_row3.argmin()\n",
    "\n",
    "print('Setting pipoclk_dly_row0 to: ',opt_row0)\n",
    "print('Setting pipoclk_dly_row1 to: ',opt_row1)\n",
    "print('Setting pipoclk_dly_row2 to: ',opt_row2)\n",
    "print('Setting pipoclk_dly_row3 to: ',opt_row3)\n",
    "\n",
    "ASIC.pipoclk_delay_row0.set(int(opt_row0))\n",
    "ASIC.pipoclk_delay_row1.set(int(opt_row1))\n",
    "ASIC.pipoclk_delay_row2.set(int(opt_row2))\n",
    "ASIC.pipoclk_delay_row3.set(int(opt_row3))\n",
    "\n",
    "# For some reason, manual settings are better\n",
    "ASIC.pipoclk_delay_row0.set(6)\n",
    "ASIC.pipoclk_delay_row1.set(6)\n",
    "ASIC.pipoclk_delay_row2.set(6)\n",
    "ASIC.pipoclk_delay_row3.set(6)\n",
    "\n",
    "time.sleep(0.1)\n",
    "\n",
    "#write to DAC\n",
    "DAC.FastDac.DacValue.set(0x5ff00)\n",
    "print(\"Fast DAC set to {}V\".format(DAC.FastDac.DacValueV.get()))\n",
    "\n",
    "ASIC.mTest.set(False)      # Don't touch\n",
    "\n",
    "data = readoutFrames(dataDebug,100)\n",
    "data[data == 0] = 16384.0\n",
    "\n",
    "fig, ax = plt.subplots(figsize=(24, 12))\n",
    "plt.imshow(np.std(data, axis=2),vmax=200)\n",
    "plt.title('Noise map [ADUs]')\n",
    "plt.colorbar()"
   ]
  },
  {
   "cell_type": "code",
   "execution_count": null,
   "id": "892de2b2",
   "metadata": {},
   "outputs": [],
   "source": [
    "fig, ax = plt.subplots(figsize=(24, 12))\n",
    "plt.imshow(data[:,:,6])\n",
    "plt.title('Image [ADUs] {} - Median value'.format(np.median(data)))\n",
    "plt.colorbar()"
   ]
  },
  {
   "cell_type": "code",
   "execution_count": null,
   "id": "c6248960",
   "metadata": {},
   "outputs": [],
   "source": [
    "#Plot histogram\n",
    "data = data[50:180,:,:].astype(float)\n",
    "data -= np.median(data, axis=2, keepdims=True)\n",
    "\n",
    "fig, ax = plt.subplots(figsize=(24, 8))\n",
    "ax.hist(data.flatten(), bins=200)\n",
    "\n",
    "ax.set_xticks([0,-2**8,-2**9,-2**10,-2**11,-2**12,-2**13,-2**14])  # Set label locations.\n",
    "\n",
    "ax.set_xlabel('Amplitude [ADUs]')\n",
    "ax.set_ylabel('Entries [all pixels]')\n",
    "ax.set_yscale('log')\n",
    "\n",
    "# Show plot\n",
    "plt.show()"
   ]
  }
 ],
 "metadata": {
  "kernelspec": {
   "display_name": "Python 3 (ipykernel)",
   "language": "python",
   "name": "python3"
  },
  "language_info": {
   "codemirror_mode": {
    "name": "ipython",
    "version": 3
   },
   "file_extension": ".py",
   "mimetype": "text/x-python",
   "name": "python",
   "nbconvert_exporter": "python",
   "pygments_lexer": "ipython3",
   "version": "3.9.18"
  }
 },
 "nbformat": 4,
 "nbformat_minor": 5
}
