{
 "cells": [
  {
   "cell_type": "markdown",
   "id": "8e48def0",
   "metadata": {},
   "source": [
    "# Globals"
   ]
  },
  {
   "cell_type": "code",
   "execution_count": 14,
   "id": "5e810253",
   "metadata": {},
   "outputs": [],
   "source": [
    "rowsASIC = 192\n",
    "colsASIC = 384"
   ]
  },
  {
   "cell_type": "markdown",
   "id": "2757ad5a",
   "metadata": {},
   "source": [
    "# Lorenzo helper functions for data analysis"
   ]
  },
  {
   "cell_type": "code",
   "execution_count": 19,
   "id": "de1f3a4b",
   "metadata": {},
   "outputs": [],
   "source": [
    "# Filter bad pixels\n",
    "def filter_bad_pixels(data, ratio):\n",
    "    \"\"\"\n",
    "    Filters bad pixels in the input data based on noise level.\n",
    "\n",
    "    Parameters:\n",
    "        data (numpy.ndarray): Input data array of shape (rows, columns, frames).\n",
    "        ratio (float): Threshold ratio to identify bad pixels.\n",
    "\n",
    "    Returns:\n",
    "        tuple: A tuple containing the filtered data array and the number of identified bad pixels.\n",
    "    \"\"\"\n",
    "    # Create a copy of the input data array\n",
    "    data_copy = data.copy()\n",
    "\n",
    "    # Calculate noise for each pixel\n",
    "    noise = np.std(data_copy, axis=2)\n",
    "    noise_median = np.median(noise)\n",
    "\n",
    "    # Identify and replace bad pixels\n",
    "    mask = noise > ratio * noise_median\n",
    "    data_copy[mask] = np.median(data_copy)\n",
    "\n",
    "    num_bad_pixels = np.sum(mask)\n",
    "\n",
    "    return data_copy, num_bad_pixels\n",
    "\n",
    "\n",
    "# Reject outliers\n",
    "def rejOutliers(data, m=2):\n",
    "    return data[abs(data - np.mean(data)) < m * np.std(data)]\n",
    "\n",
    "# Correlation matrix\n",
    "def calculate_correlation(data):\n",
    "\n",
    "    corr_mat   = np.empty([np.shape(data)[0],np.shape(data)[1]])\n",
    "    \n",
    "    for row, col in np.ndindex(np.shape(data)[0],np.shape(data)[1]):\n",
    "        # Correlation coefficients\n",
    "        corr_mat[row,col] = np.corrcoef(data[row,col,:], data[ref_row, ref_col,:])[0,1]\n",
    "\n",
    "    corr_mat[ref_row,ref_col] = np.average(corr_mat)\n",
    "    return corr_mat\n",
    "\n",
    "\n",
    "\n",
    "# # Get Average Dark value over rows/cols\n",
    "# def getMedianDark(data):\n",
    "#     return np.median(np.median(data,axis=(0,1)))\n",
    "\n",
    "# # Charge injection ramp\n",
    "# def ChInjRamp(dataDebug, numberOfTriggers=3, Min=100, Max=150, numSteps=3):\n",
    "\n",
    "#     ChInjValues = np.linspace(start=Min, stop=Max, num=numSteps)\n",
    "#     PixelOutValues = np.empty(np.shape(ChInjValues))\n",
    "      \n",
    "#     for i, PulserValue in enumerate(ChInjValues):\n",
    "#         # Get frames but look only at ref pixel\n",
    "#         data_temp = readoutFrames(dataDebug, numberOfTriggers,chargeInj=PulserValue)[ref_row,ref_col,:]\n",
    "#         # Get median across frames and add to results array\n",
    "#         data_temp = np.median(data_temp)\n",
    "#         PixelOutValues[i] = data_temp\n",
    "    \n",
    "#     return ChInjValues, PixelOutValues\n",
    "  \n",
    "# Mask gain bit    \n",
    "def clearB16(value):\n",
    "    return value & ~(1 << 15)    "
   ]
  },
  {
   "cell_type": "markdown",
   "id": "1f95a3e0",
   "metadata": {},
   "source": [
    "# Better functions !"
   ]
  },
  {
   "cell_type": "markdown",
   "id": "f6003830",
   "metadata": {},
   "source": [
    "This functions performs a Charge Injection Ramp."
   ]
  },
  {
   "cell_type": "code",
   "execution_count": 13,
   "id": "4d6b8302",
   "metadata": {},
   "outputs": [],
   "source": [
    "# Charge injection ramp\n",
    "def chargeInjRamp(dataDebug, AsicNum=1, Min=100, Max=150, numSteps=3, numSamples=1):\n",
    "\n",
    "    ChInjValues = np.linspace(start=Min, stop=Max, num=numSteps)\n",
    "    \n",
    "    # Create an empty 3D array, coordinates [rows,cols,injValue]\n",
    "    PixelOutValues = np.empty([rowsASIC, colsASIC, len(ChInjValues)])\n",
    "      \n",
    "    for i, PulserValue in enumerate(ChInjValues):\n",
    "        # Get frames but look only at ref pixel\n",
    "        data_temp = readoutFrames(dataDebug, AsicNum=AsicNum, numberOfTriggers=numSamples, chargeInj=PulserValue)\n",
    "        # Get median across frames and add to results array\n",
    "        data_temp = np.median(data_temp, axis=2)\n",
    "        PixelOutValues[:,:,i] = data_temp\n",
    "        print(\"Injecting ramp point {}/{}\".format(i, np.shape(ChInjValues)[0]), end='\\r')\n",
    "    \n",
    "    return ChInjValues, PixelOutValues"
   ]
  },
  {
   "cell_type": "markdown",
   "id": "b11772e8-29e8-4b20-875c-f22eb4becd55",
   "metadata": {},
   "source": [
    "Function to program the charge injection pattern."
   ]
  },
  {
   "cell_type": "code",
   "execution_count": 2,
   "id": "e3738348-8dc1-4bf3-8bcc-290cccd6593f",
   "metadata": {},
   "outputs": [],
   "source": [
    "# Configure charge injection\n",
    "def chargeInjection(firstCol=140,LastCol=160,PulserValue=100,AsicNum=3):\n",
    "    APP.prepareChargeInjection(AsicNum, firstCol, LastCol, PulserValue)\n"
   ]
  },
  {
   "cell_type": "markdown",
   "id": "586a16f9",
   "metadata": {},
   "source": [
    "Function to readout frames with SW trigger.\n",
    "If chargeInj is specified, the chargeInjection procedure is called before each frame (we need to program the pixels each time we take a frame)."
   ]
  },
  {
   "cell_type": "code",
   "execution_count": 7,
   "id": "33752039",
   "metadata": {},
   "outputs": [],
   "source": [
    "# Readout frame(s)\n",
    "\n",
    "def readoutFrames(dataDebug, AsicNum=0, numberOfTriggers=1, chargeInj=False):\n",
    "    dataDebug.cleanData()\n",
    "\n",
    "    for TrigNum in range(numberOfTriggers):\n",
    "        if (chargeInj != False):\n",
    "            chargeInjection(PulserValue=chargeInj, AsicNum=AsicNum)\n",
    "        root.Trigger()\n",
    "        time.sleep(0.01)\n",
    "\n",
    "    # Although the triggers above may have finished, descrambling takes time\n",
    "    while (numberOfTriggers != dataDebug.getData().shape[2]) :\n",
    "        time.sleep(0.1)\n",
    "\n",
    "    data = dataDebug.getData()\n",
    "    dataDebug.cleanData()\n",
    "    return data\n"
   ]
  },
  {
   "cell_type": "markdown",
   "id": "070bccf3",
   "metadata": {},
   "source": [
    "# Timing functions"
   ]
  },
  {
   "cell_type": "code",
   "execution_count": null,
   "id": "5558aa75",
   "metadata": {},
   "outputs": [],
   "source": [
    "# helper functions\n",
    "# clock speed is 168MHz. 1 tick is 0.006 us\n",
    "def setSR0(width, delay) :\n",
    "    REGCTRL.SR0Delay1.set(delay)\n",
    "    REGCTRL.SR0Width1.set(width)\n",
    "    print(f'SR0 Width set to {REGCTRL.SR0Width1_us.get():.3f}uS')\n",
    "    print(f'SR0 Delay set to {REGCTRL.SR0Delay_us.get():.3f}uS')\n",
    "    \n",
    "def setAcq1(width, delay) :\n",
    "    REGCTRL.AcqDelay1.set(delay)\n",
    "    REGCTRL.AcqWidth1.set(width)\n",
    "    print(f'Acq1 Width set to {REGCTRL.AcqWidth1_us.get():.3f}uS')\n",
    "    print(f'Acq1 Delay set to {REGCTRL.AcqDelay1_us.get():.3f}uS')\n",
    "    \n",
    "def setAcq2(width, delay) :\n",
    "    REGCTRL.AcqDelay2.set(delay)\n",
    "    REGCTRL.AcqWidth2.set(width)\n",
    "    print(f'Acq2 Width set to {REGCTRL.AcqWidth2_us.get():.3f}uS')\n",
    "    print(f'Acq2 Delay set to {REGCTRL.AcqDelay2_us.get():.3f}uS')    \n",
    "\n",
    "def setR0(width, delay) :\n",
    "    REGCTRL.R0Delay.set(delay)\n",
    "    REGCTRL.R0Width.set(width)\n",
    "    print(f'R0 Width set to {REGCTRL.R0Width_us.get():.3f}uS')\n",
    "    print(f'R0 Delay set to {REGCTRL.R0Delay_us.get():.3f}uS') \n",
    "\n",
    "    \n",
    "def setSync(width, delay) :\n",
    "    REGCTRL.SyncDelay.set(delay)\n",
    "    REGCTRL.SyncWidth.set(width)\n",
    "    print(f'Sync Delay set to {REGCTRL.SyncDelay_us.get():.3f}uS')     "
   ]
  },
  {
   "cell_type": "markdown",
   "id": "7cee25bb",
   "metadata": {},
   "source": [
    "# Best settings\n",
    "These are still w.i.p."
   ]
  },
  {
   "cell_type": "code",
   "execution_count": 4,
   "id": "8eed95c1",
   "metadata": {},
   "outputs": [],
   "source": [
    "def setBestSettings(REGCTRL, ASIC0, ASIC1, ASIC2, ASIC3):\n",
    "\n",
    "    intTime = 560 # 560 = 3.6uS\n",
    "\n",
    "    setR0(100+intTime*2, 200)\n",
    "    setAcq1(intTime, intTime+200)\n",
    "\n",
    "    # Print human-readable values\n",
    "    print(f'-------------------------')\n",
    "    baseline_int_time = REGCTRL.AcqDelay1_us.get() - REGCTRL.R0Delay_us.get()\n",
    "    integration_time = REGCTRL.AcqWidth1_us.get()\n",
    "    print(f'Baseline time:    {baseline_int_time} uS')\n",
    "    print(f'Integration time: {integration_time} uS')\n",
    "    print(f'Sampling done at: {REGCTRL.AcqWidth1_us.get()+REGCTRL.AcqDelay1_us.get()} uS')\n",
    "    print(f'-------------------------')\n",
    "        \n",
    "    ASIC1.pipoclk_delay_row0.set(15)\n",
    "    ASIC1.pipoclk_delay_row1.set(8)\n",
    "    ASIC1.pipoclk_delay_row2.set(8)\n",
    "    ASIC1.pipoclk_delay_row3.set(8)\n",
    "\n",
    "    ASIC2.pipoclk_delay_row0.set(5)\n",
    "    ASIC2.pipoclk_delay_row1.set(5)\n",
    "    ASIC2.pipoclk_delay_row2.set(5)\n",
    "    ASIC2.pipoclk_delay_row3.set(5)\n",
    "        \n",
    "    print('ASIC configured')"
   ]
  },
  {
   "cell_type": "markdown",
   "id": "66f2a273",
   "metadata": {},
   "source": [
    "The settings below are for the analog/ADC, and are the same for all ASIC. This function should be done for all ASICs."
   ]
  },
  {
   "cell_type": "code",
   "execution_count": 17,
   "id": "27707503",
   "metadata": {},
   "outputs": [],
   "source": [
    "def setAnalogSettings(ASIC):\n",
    "    \n",
    "    # Set ASIC registers\n",
    "    ASIC.mTest.set(False)\n",
    "    ASIC.CompTH_ePixM.set(0)\n",
    "    ASIC.Precharge_DAC_ePixM.set(45)\n",
    "    \n",
    "    # Optimal bias settings\n",
    "    ASIC.RefinN.set(0)\n",
    "    ASIC.RefinP.set(0)\n",
    "    \n",
    "    # ADC settings\n",
    "    ASIC.RefGenB.set(1)    #2 bits\n",
    "    ASIC.RefGenC.set(1)    #2 bits\n",
    "    ASIC.Ref_gen_d.set(3) # Set 'common-mode' voltage of S/H stage\n",
    "    ASIC.S2D_1_b.set(0)    #3 bits\n",
    "    ASIC.shvc_DAC.set(30)  #6 bits\n",
    "    ASIC.S2dDacBias.set(3)\n",
    "    ASIC.DHg.set(True)"
   ]
  },
  {
   "cell_type": "markdown",
   "id": "4b45fb6f-d120-41d8-b3c6-051593dc9a7d",
   "metadata": {},
   "source": [
    "# Progressive colormap"
   ]
  },
  {
   "cell_type": "code",
   "execution_count": 8,
   "id": "318ac1d1-7eab-4852-9227-d96bda6469cf",
   "metadata": {},
   "outputs": [],
   "source": [
    "from matplotlib import cm\n",
    "\n",
    "def genColors(num):\n",
    "    return cm.copper(np.linspace(0, 1, num))"
   ]
  },
  {
   "cell_type": "markdown",
   "id": "664877f8-ef63-47bd-bba5-ac3551e2a13c",
   "metadata": {},
   "source": [
    "# Linear fit \n",
    "- more weight at beginning for HG\n",
    "- more weight at mid for LG"
   ]
  },
  {
   "cell_type": "code",
   "execution_count": 5,
   "id": "d833ed0b-42c9-41a1-a129-ff2c896f6c2e",
   "metadata": {},
   "outputs": [],
   "source": [
    "def linearFitHG(x, y):\n",
    "    \"\"\"\n",
    "    Apply a linear fit with more weight on the initial points.\n",
    "\n",
    "    Parameters:\n",
    "    x (numpy.array): The independent variable.\n",
    "    y (numpy.array): The dependent variable.\n",
    "\n",
    "    Returns:\n",
    "    tuple: A tuple containing the residuals, slope, and intercept.\n",
    "    \"\"\"\n",
    "    # Generate weights: Here we use an exponentially decreasing weight.\n",
    "    # You can adjust the rate of decrease as per your requirements.\n",
    "    weights = np.exp(-np.linspace(0, 5, len(y)))\n",
    "    \n",
    "    # Apply the weighted linear fit\n",
    "    coeffs = np.polyfit(x, y, deg=1, w=weights)\n",
    "    slope, intercept = coeffs\n",
    "    \n",
    "    # Calculate the fitted values\n",
    "    y_fit = np.polyval(coeffs, x)\n",
    "    \n",
    "    # Calculate the residuals\n",
    "    residuals = y - y_fit\n",
    "    \n",
    "    return residuals, slope, intercept"
   ]
  },
  {
   "cell_type": "code",
   "execution_count": 7,
   "id": "9ab80545-f8e9-4a93-b259-dda1475aaa33",
   "metadata": {},
   "outputs": [],
   "source": [
    "import numpy as np\n",
    "\n",
    "def linearFitLG(x, y):\n",
    "    \"\"\"\n",
    "    Apply a linear fit with more weight on the initial points.\n",
    "\n",
    "    Parameters:\n",
    "    x (numpy.array): The independent variable.\n",
    "    y (numpy.array): The dependent variable.\n",
    "\n",
    "    Returns:\n",
    "    tuple: A tuple containing the residuals, slope, and intercept.\n",
    "    \"\"\"\n",
    "    # Generate weights: Here we use an exponentially decreasing weight.\n",
    "    # You can adjust the rate of decrease as per your requirements.\n",
    "    n = len(y)\n",
    "    weights = np.exp(-((np.arange(n) - (n - 1) / 2) ** 2) / (2 * ((n / 10) ** 2)))\n",
    "\n",
    "    \n",
    "    # Apply the weighted linear fit\n",
    "    coeffs = np.polyfit(x, y, deg=1, w=weights)\n",
    "    slope, intercept = coeffs\n",
    "    \n",
    "    # Calculate the fitted values\n",
    "    y_fit = np.polyval(coeffs, x)\n",
    "    \n",
    "    # Calculate the residuals\n",
    "    residuals = y - y_fit\n",
    "    \n",
    "    return residuals, slope, intercept"
   ]
  },
  {
   "cell_type": "code",
   "execution_count": null,
   "id": "e4859446-d31a-43f6-a55e-4069e47cd736",
   "metadata": {},
   "outputs": [],
   "source": []
  }
 ],
 "metadata": {
  "kernelspec": {
   "display_name": "Python 3 (ipykernel)",
   "language": "python",
   "name": "python3"
  },
  "language_info": {
   "codemirror_mode": {
    "name": "ipython",
    "version": 3
   },
   "file_extension": ".py",
   "mimetype": "text/x-python",
   "name": "python",
   "nbconvert_exporter": "python",
   "pygments_lexer": "ipython3",
   "version": "3.9.18"
  }
 },
 "nbformat": 4,
 "nbformat_minor": 5
}
