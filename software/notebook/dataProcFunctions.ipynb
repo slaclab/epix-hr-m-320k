{
 "cells": [
  {
   "cell_type": "markdown",
   "id": "8e48def0",
   "metadata": {},
   "source": [
    "# Globals"
   ]
  },
  {
   "cell_type": "code",
   "execution_count": 14,
   "id": "5e810253",
   "metadata": {},
   "outputs": [],
   "source": [
    "rowsASIC = 192\n",
    "colsASIC = 384"
   ]
  },
  {
   "cell_type": "markdown",
   "id": "2757ad5a",
   "metadata": {},
   "source": [
    "# Lorenzo helper functions for data analysis"
   ]
  },
  {
   "cell_type": "code",
   "execution_count": 19,
   "id": "de1f3a4b",
   "metadata": {},
   "outputs": [],
   "source": [
    "# Filter bad pixels\n",
    "def filter_bad_pixels(data, ratio):\n",
    "    \"\"\"\n",
    "    Filters bad pixels in the input data based on noise level.\n",
    "\n",
    "    Parameters:\n",
    "        data (numpy.ndarray): Input data array of shape (rows, columns, frames).\n",
    "        ratio (float): Threshold ratio to identify bad pixels.\n",
    "\n",
    "    Returns:\n",
    "        tuple: A tuple containing the filtered data array and the number of identified bad pixels.\n",
    "    \"\"\"\n",
    "    # Create a copy of the input data array\n",
    "    data_copy = data.copy()\n",
    "\n",
    "    # Calculate noise for each pixel\n",
    "    noise = np.std(data_copy, axis=2)\n",
    "    noise_median = np.median(noise)\n",
    "\n",
    "    # Identify and replace bad pixels\n",
    "    mask = noise > ratio * noise_median\n",
    "    data_copy[mask] = np.median(data_copy)\n",
    "\n",
    "    num_bad_pixels = np.sum(mask)\n",
    "\n",
    "    return data_copy, num_bad_pixels\n",
    "\n",
    "\n",
    "# Reject outliers\n",
    "def rejOutliers(data, m=2):\n",
    "    return data[abs(data - np.mean(data)) < m * np.std(data)]\n",
    "\n",
    "# Correlation matrix\n",
    "def calculate_correlation(data):\n",
    "\n",
    "    corr_mat   = np.empty([np.shape(data)[0],np.shape(data)[1]])\n",
    "    \n",
    "    for row, col in np.ndindex(np.shape(data)[0],np.shape(data)[1]):\n",
    "        # Correlation coefficients\n",
    "        corr_mat[row,col] = np.corrcoef(data[row,col,:], data[ref_row, ref_col,:])[0,1]\n",
    "\n",
    "    corr_mat[ref_row,ref_col] = np.average(corr_mat)\n",
    "    return corr_mat\n",
    "\n",
    "\n",
    "# Configure charge injection\n",
    "def chargeInjection(firstCol=140,LastCol=160,PulserValue=100,AsicNum=3):\n",
    "    APP.prepareChargeInjection(AsicNum, firstCol, LastCol, PulserValue)\n",
    "\n",
    "# Get Average Dark value over rows/cols\n",
    "def getMedianDark(data):\n",
    "    return np.median(np.median(data,axis=(0,1)))\n",
    "\n",
    "# Charge injection ramp\n",
    "def ChInjRamp(dataDebug, numberOfTriggers=3, Min=100, Max=150, numSteps=3):\n",
    "\n",
    "    ChInjValues = np.linspace(start=Min, stop=Max, num=numSteps)\n",
    "    PixelOutValues = np.empty(np.shape(ChInjValues))\n",
    "      \n",
    "    for i, PulserValue in enumerate(ChInjValues):\n",
    "        # Get frames but look only at ref pixel\n",
    "        data_temp = readoutFrames(dataDebug, numberOfTriggers,chargeInj=PulserValue)[ref_row,ref_col,:]\n",
    "        # Get median across frames and add to results array\n",
    "        data_temp = np.median(data_temp)\n",
    "        PixelOutValues[i] = data_temp\n",
    "    \n",
    "    return ChInjValues, PixelOutValues\n",
    "  \n",
    "# Mask gain bit    \n",
    "def clearB16(value):\n",
    "    return value & ~(1 << 15)    "
   ]
  },
  {
   "cell_type": "markdown",
   "id": "1f95a3e0",
   "metadata": {},
   "source": [
    "# Better functions !"
   ]
  },
  {
   "cell_type": "markdown",
   "id": "f6003830",
   "metadata": {},
   "source": [
    "This functions performs a Charge Injection Ramp."
   ]
  },
  {
   "cell_type": "code",
   "execution_count": 13,
   "id": "4d6b8302",
   "metadata": {},
   "outputs": [],
   "source": [
    "# Charge injection ramp\n",
    "def chargeInjRamp(dataDebug, AsicNum=1, Min=100, Max=150, numSteps=3, numSamples=1):\n",
    "\n",
    "    ChInjValues = np.linspace(start=Min, stop=Max, num=numSteps)\n",
    "    \n",
    "    # Create an empty 3D array, coordinates [rows,cols,injValue]\n",
    "    PixelOutValues = np.empty([rowsASIC, colsASIC, len(ChInjValues)])\n",
    "      \n",
    "    for i, PulserValue in enumerate(ChInjValues):\n",
    "        # Get frames but look only at ref pixel\n",
    "        data_temp = readoutFrames(dataDebug, AsicNum=AsicNum, numberOfTriggers=numSamples, chargeInj=PulserValue)\n",
    "        # Get median across frames and add to results array\n",
    "        data_temp = np.median(data_temp, axis=2)\n",
    "        PixelOutValues[:,:,i] = data_temp\n",
    "        print(\"Injecting ramp point {}/{}\".format(i, np.shape(ChInjValues)[0]), end='\\r')\n",
    "    \n",
    "    return ChInjValues, PixelOutValues"
   ]
  },
  {
   "cell_type": "markdown",
   "id": "586a16f9",
   "metadata": {},
   "source": [
    "Function to readout frames with SW trigger.\n",
    "If chargeInj is specified, the chargeInjection procedure is called before each frame (we need to program the pixels each time we take a frame)."
   ]
  },
  {
   "cell_type": "code",
   "execution_count": 7,
   "id": "33752039",
   "metadata": {},
   "outputs": [],
   "source": [
    "# Readout frame(s)\n",
    "\n",
    "def readoutFrames(dataDebug, AsicNum=0, numberOfTriggers=1, chargeInj=False):\n",
    "    dataDebug.cleanData()\n",
    "\n",
    "    for TrigNum in range(numberOfTriggers):\n",
    "        if (chargeInj != False):\n",
    "            chargeInjection(PulserValue=chargeInj, AsicNum=AsicNum)\n",
    "        root.Trigger()\n",
    "        time.sleep(0.01)\n",
    "\n",
    "    # Although the triggers above may have finished, descrambling takes time\n",
    "    while (numberOfTriggers != dataDebug.getData().shape[2]) :\n",
    "        time.sleep(0.1)\n",
    "\n",
    "    data = dataDebug.getData()\n",
    "    dataDebug.cleanData()\n",
    "    return data\n"
   ]
  },
  {
   "cell_type": "markdown",
   "id": "070bccf3",
   "metadata": {},
   "source": [
    "# Timing functions"
   ]
  },
  {
   "cell_type": "code",
   "execution_count": null,
   "id": "5558aa75",
   "metadata": {},
   "outputs": [],
   "source": [
    "# helper functions\n",
    "# clock speed is 168MHz. 1 tick is 0.006 us\n",
    "def setSR0(width, delay) :\n",
    "    REGCTRL.SR0Delay1.set(delay)\n",
    "    REGCTRL.SR0Width1.set(width)\n",
    "    print(f'SR0 Width set to {REGCTRL.SR0Width1_us.get():.3f}uS')\n",
    "    print(f'SR0 Delay set to {REGCTRL.SR0Delay_us.get():.3f}uS')\n",
    "    \n",
    "def setAcq1(width, delay) :\n",
    "    REGCTRL.AcqDelay1.set(delay)\n",
    "    REGCTRL.AcqWidth1.set(width)\n",
    "    print(f'Acq1 Width set to {REGCTRL.AcqWidth1_us.get():.3f}uS')\n",
    "    print(f'Acq1 Delay set to {REGCTRL.AcqDelay1_us.get():.3f}uS')\n",
    "    \n",
    "def setAcq2(width, delay) :\n",
    "    REGCTRL.AcqDelay2.set(delay)\n",
    "    REGCTRL.AcqWidth2.set(width)\n",
    "    print(f'Acq2 Width set to {REGCTRL.AcqWidth2_us.get():.3f}uS')\n",
    "    print(f'Acq2 Delay set to {REGCTRL.AcqDelay2_us.get():.3f}uS')    \n",
    "\n",
    "def setR0(width, delay) :\n",
    "    REGCTRL.R0Delay.set(delay)\n",
    "    REGCTRL.R0Width.set(width)\n",
    "    print(f'R0 Width set to {REGCTRL.R0Width_us.get():.3f}uS')\n",
    "    print(f'R0 Delay set to {REGCTRL.R0Delay_us.get():.3f}uS') \n",
    "\n",
    "    \n",
    "def setSync(width, delay) :\n",
    "    REGCTRL.SyncDelay.set(delay)\n",
    "    REGCTRL.SyncWidth.set(width)\n",
    "    print(f'Sync Delay set to {REGCTRL.SyncDelay_us.get():.3f}uS')     "
   ]
  },
  {
   "cell_type": "markdown",
   "id": "7cee25bb",
   "metadata": {},
   "source": [
    "# Best settings\n",
    "These are still w.i.p."
   ]
  },
  {
   "cell_type": "code",
   "execution_count": 4,
   "id": "8eed95c1",
   "metadata": {},
   "outputs": [],
   "source": [
    "def setBestSettings(REGCTRL, ASIC0, ASIC1, ASIC2, ASIC3):\n",
    "\n",
    "    intTime = 560 # 560 = 3.6uS\n",
    "\n",
    "    setR0(100+intTime*2, 200)\n",
    "    setAcq1(intTime, intTime+200)\n",
    "\n",
    "    # Print human-readable values\n",
    "    print(f'-------------------------')\n",
    "    baseline_int_time = REGCTRL.AcqDelay1_us.get() - REGCTRL.R0Delay_us.get()\n",
    "    integration_time = REGCTRL.AcqWidth1_us.get()\n",
    "    print(f'Baseline time:    {baseline_int_time} uS')\n",
    "    print(f'Integration time: {integration_time} uS')\n",
    "    print(f'Sampling done at: {REGCTRL.AcqWidth1_us.get()+REGCTRL.AcqDelay1_us.get()} uS')\n",
    "    print(f'-------------------------')\n",
    "        \n",
    "    ASIC1.pipoclk_delay_row0.set(15)\n",
    "    ASIC1.pipoclk_delay_row1.set(8)\n",
    "    ASIC1.pipoclk_delay_row2.set(8)\n",
    "    ASIC1.pipoclk_delay_row3.set(8)\n",
    "\n",
    "    ASIC2.pipoclk_delay_row0.set(5)\n",
    "    ASIC2.pipoclk_delay_row1.set(5)\n",
    "    ASIC2.pipoclk_delay_row2.set(5)\n",
    "    ASIC2.pipoclk_delay_row3.set(5)\n",
    "        \n",
    "    print('ASIC configured')"
   ]
  },
  {
   "cell_type": "markdown",
   "id": "66f2a273",
   "metadata": {},
   "source": [
    "The settings below are for the analog/ADC, and are the same for all ASIC. This function should be done for all ASICs."
   ]
  },
  {
   "cell_type": "code",
   "execution_count": 17,
   "id": "27707503",
   "metadata": {},
   "outputs": [],
   "source": [
    "def setAnalogSettings(ASIC):\n",
    "    \n",
    "    # Set ASIC registers\n",
    "    ASIC.mTest.set(False)\n",
    "    ASIC.CompTH_ePixM.set(0)\n",
    "    ASIC.Precharge_DAC_ePixM.set(45)\n",
    "    \n",
    "    # Optimal bias settings\n",
    "    ASIC.RefinN.set(0)\n",
    "    ASIC.RefinP.set(0)\n",
    "    \n",
    "    # ADC settings\n",
    "    ASIC.RefGenB.set(1)    #2 bits\n",
    "    ASIC.RefGenC.set(1)    #2 bits\n",
    "    ASIC.Ref_gen_d.set(3) # Set 'common-mode' voltage of S/H stage\n",
    "    ASIC.S2D_1_b.set(0)    #3 bits\n",
    "    ASIC.shvc_DAC.set(30)  #6 bits\n",
    "    ASIC.S2dDacBias.set(3)\n",
    "    ASIC.DHg.set(True)"
   ]
  }
 ],
 "metadata": {
  "kernelspec": {
   "display_name": "Python 3 (ipykernel)",
   "language": "python",
   "name": "python3"
  },
  "language_info": {
   "codemirror_mode": {
    "name": "ipython",
    "version": 3
   },
   "file_extension": ".py",
   "mimetype": "text/x-python",
   "name": "python",
   "nbconvert_exporter": "python",
   "pygments_lexer": "ipython3",
   "version": "3.9.15"
  }
 },
 "nbformat": 4,
 "nbformat_minor": 5
}
