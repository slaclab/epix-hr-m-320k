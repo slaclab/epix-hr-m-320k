{
 "cells": [
  {
   "cell_type": "markdown",
   "id": "6b7ce378-ba2f-4725-977a-2340d311ff61",
   "metadata": {
    "tags": []
   },
   "source": [
    "# Access Rogue from notebook"
   ]
  },
  {
   "cell_type": "markdown",
   "id": "b8dbf501-98d2-4bca-9a0d-59e2c2494eb5",
   "metadata": {},
   "source": [
    "## -------------------- BASIC START ------------------"
   ]
  },
  {
   "cell_type": "code",
   "execution_count": 1,
   "id": "410127dc-3b31-48bb-9d32-677c3b926767",
   "metadata": {},
   "outputs": [],
   "source": [
    "### Setup the library ###\n",
    "import pyrogue as pr\n",
    "import os, sys\n",
    "import matplotlib.pyplot as plt\n",
    "import time\n",
    "import datetime\n",
    "import numpy as np\n",
    "import math\n",
    "import pprint\n",
    "import inspect \n",
    "top_level=f'{os.getcwd()}/../'\n",
    "rootTopLevel = top_level+'script/'\n",
    "pr.addLibraryPath( rootTopLevel )\n",
    "\n",
    "import setupLibPaths\n",
    "\n",
    "import ePix320kM as devBoard\n",
    "\n",
    "args = None"
   ]
  },
  {
   "cell_type": "code",
   "execution_count": 2,
   "id": "1941bbb3-abba-4c12-ac3c-8497a31b17c0",
   "metadata": {
    "tags": []
   },
   "outputs": [
    {
     "name": "stdout",
     "output_type": "stream",
     "text": [
      "Root.Core.Si5345Pll.Page0.DataBlock.setPollInterval(1)\n",
      "Start: Started zmqServer on ports 9099-9101\n",
      "    To start a gui: python -m pyrogue gui --server='localhost:9099'\n",
      "    To use a virtual client: client = pyrogue.interfaces.VirtualClient(addr='localhost', port=9099)\n",
      "Root.Core.AxiVersion count reset called\n",
      "###################################################\n",
      "#             Firmware Version                    #\n",
      "###################################################\n",
      "Path         = Root.Core.AxiVersion\n",
      "FwVersion    = 0x1000000\n",
      "UpTime       = 0:02:13\n",
      "GitHash      = dirty (uncommitted code)\n",
      "XilinxDnaId  = 0x400200000139d7204c80e045\n",
      "FwTarget     = ePixHRM320k\n",
      "BuildEnv     = Vivado v2022.1\n",
      "BuildServer  = rdsrv314 (Ubuntu 20.04.6 LTS)\n",
      "BuildDate    = Tue 18 Jul 2023 09:54:57 AM PDT\n",
      "Builder      = dnajjar\n",
      "###################################################\n"
     ]
    }
   ],
   "source": [
    "# ONLY RUN ONCE!\n",
    "# Defining root\n",
    "root =  devBoard.Root(   \n",
    "        top_level  = rootTopLevel,\n",
    "        dev        = '/dev/datadev_0',\n",
    "        pollEn     = True,\n",
    "        initRead   = True,\n",
    "        serverPort = 9099)\n",
    "root.start()\n",
    "\n",
    "# example showing a read\n",
    "AxiVersion = root.Core.AxiVersion\n",
    "print ( '###################################################')\n",
    "print ( '#             Firmware Version                    #')\n",
    "print ( '###################################################')\n",
    "AxiVersion.printStatus()\n",
    "print ( '###################################################')"
   ]
  },
  {
   "cell_type": "markdown",
   "id": "f4549ecc",
   "metadata": {},
   "source": [
    "# Need an interface? \n",
    "\n",
    "Run the next line"
   ]
  },
  {
   "cell_type": "code",
   "execution_count": 3,
   "id": "f5cc4633",
   "metadata": {},
   "outputs": [
    {
     "name": "stdout",
     "output_type": "stream",
     "text": [
      "Rogue/pyrogue version v5.16.0. https://github.com/slaclab/rogue\n",
      "Connecting to localhost:9099\n",
      "ZmqClient::setTimeout: Setting timeout to 1000 msecs, waitRetry = 1\n",
      "Connected to Root at localhost:9099\n",
      "Running GUI. Close window, hit cntrl-c or send SIGTERM to 1540588 to exit.\n"
     ]
    }
   ],
   "source": [
    "!python -m pyrogue gui --server='localhost:9099'"
   ]
  },
  {
   "cell_type": "code",
   "execution_count": 3,
   "id": "52b50940-9143-44e4-96f0-3efc29544e64",
   "metadata": {
    "tags": []
   },
   "outputs": [],
   "source": [
    "\"\"\"\n",
    "REGISTER(s): SHORT-HAND\n",
    "\"\"\"\n",
    "# SETUP SHORT HAND FOR ROOT CALLS\n",
    "APP  = root.App\n",
    "AXIV = root.Core.AxiVersion\n",
    "ASICTOP = APP.AsicTop\n",
    "TRIG = ASICTOP.TriggerRegisters\n",
    "ASIC0 = APP.Mv2Asic[0]\n",
    "ASIC1 = APP.Mv2Asic[1]\n",
    "ASIC2 = APP.Mv2Asic[2]\n",
    "ASIC3 = APP.Mv2Asic[3]\n",
    "HSDAC = APP.Dac.FastDac \n",
    "PKREG0 = ASICTOP.DigAsicStrmRegisters0\n",
    "PKREG1 = ASICTOP.DigAsicStrmRegisters1\n",
    "PKREG2 = ASICTOP.DigAsicStrmRegisters2\n",
    "PKREG3 = ASICTOP.DigAsicStrmRegisters3"
   ]
  },
  {
   "cell_type": "code",
   "execution_count": 4,
   "id": "847ee563-915e-4b5d-acf7-85d3727dcb27",
   "metadata": {
    "tags": []
   },
   "outputs": [
    {
     "name": "stdout",
     "output_type": "stream",
     "text": [
      "0x0\n",
      "0xdeadbeef\n"
     ]
    }
   ],
   "source": [
    "# Set & Read ScratchPad\n",
    "print(hex(AXIV.ScratchPad.get()))\n",
    "AXIV.ScratchPad.set(0xdeadbeef)\n",
    "print(hex(AXIV.ScratchPad.get()))"
   ]
  },
  {
   "cell_type": "code",
   "execution_count": 5,
   "id": "9f53679e-4728-4f2d-9e94-48dbf32074c9",
   "metadata": {},
   "outputs": [
    {
     "name": "stdout",
     "output_type": "stream",
     "text": [
      "Rysync ASIC started\n",
      "Init ASIC script started\n",
      "Loading PLL configuration\n",
      "\u001b[32mRoot.Core.Si5345Pll.LoadCsvFile(): /afs/slac.stanford.edu/g/controls/development/users/dnajjar/sandBox/epix-hr-m-320k/software/notebook/../script/../config/EPixHRM320KPllConfig168Mhz.csv\u001b[0m\n",
      "Loaded. Waiting for lock...\n",
      "Loading supply configuration\n",
      "Loading /afs/slac.stanford.edu/g/controls/development/users/dnajjar/sandBox/epix-hr-m-320k/software/notebook/../script/../config/ePixHRM320k_PowerSupply_Enable.yml\n",
      "Loading lane delay configurations\n",
      "Loading /afs/slac.stanford.edu/g/controls/development/users/dnajjar/sandBox/epix-hr-m-320k/software/notebook/../script/../config/ePixHRM320k_SspMonGrp_carrier3.yml\n",
      "Loading waveforms configuration\n",
      "Loading /afs/slac.stanford.edu/g/controls/development/users/dnajjar/sandBox/epix-hr-m-320k/software/notebook/../script/../config/ePixHRM320k_RegisterControl.yml\n",
      "Loading packet registers\n",
      "Loading /afs/slac.stanford.edu/g/controls/development/users/dnajjar/sandBox/epix-hr-m-320k/software/notebook/../script/../config/ePixHRM320k_PacketRegisters.yml\n",
      "Loading packet registers\n",
      "Loading /afs/slac.stanford.edu/g/controls/development/users/dnajjar/sandBox/epix-hr-m-320k/software/notebook/../script/../config/ePixHRM320k_BatcherEventBuilder.yml\n",
      "Taking asic off of reset\n",
      "Loading ASICs and timing configuration\n",
      "Loading /afs/slac.stanford.edu/g/controls/development/users/dnajjar/sandBox/epix-hr-m-320k/software/notebook/../script/../config/ePixHRM320k_ASIC_u1_PLLBypass.yml\n",
      "Loading /afs/slac.stanford.edu/g/controls/development/users/dnajjar/sandBox/epix-hr-m-320k/software/notebook/../script/../config/ePixHRM320k_ASIC_u2_PLLBypass.yml\n",
      "Loading /afs/slac.stanford.edu/g/controls/development/users/dnajjar/sandBox/epix-hr-m-320k/software/notebook/../script/../config/ePixHRM320k_ASIC_u3_PLLBypass.yml\n",
      "Loading /afs/slac.stanford.edu/g/controls/development/users/dnajjar/sandBox/epix-hr-m-320k/software/notebook/../script/../config/ePixHRM320k_ASIC_u4_PLLBypass.yml\n",
      "Initialization routine completed.\n"
     ]
    }
   ],
   "source": [
    "# Configure clock to 168 MHz and configures all ASICS\n",
    "root.InitASIC([3,1,1,1,1])"
   ]
  },
  {
   "cell_type": "markdown",
   "id": "f852730c",
   "metadata": {},
   "source": [
    "## -------------------- Tests ------------------"
   ]
  },
  {
   "cell_type": "code",
   "execution_count": null,
   "id": "bedd05b3",
   "metadata": {},
   "outputs": [],
   "source": []
  }
 ],
 "metadata": {
  "kernelspec": {
   "display_name": "Python 3 (ipykernel)",
   "language": "python",
   "name": "python3"
  },
  "language_info": {
   "codemirror_mode": {
    "name": "ipython",
    "version": 3
   },
   "file_extension": ".py",
   "mimetype": "text/x-python",
   "name": "python",
   "nbconvert_exporter": "python",
   "pygments_lexer": "ipython3",
   "version": "3.9.15"
  }
 },
 "nbformat": 4,
 "nbformat_minor": 5
}
