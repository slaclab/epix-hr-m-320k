{
 "cells": [
  {
   "cell_type": "markdown",
   "id": "b8dbf501-98d2-4bca-9a0d-59e2c2494eb5",
   "metadata": {},
   "source": [
    "# Initialize system"
   ]
  },
  {
   "cell_type": "code",
   "execution_count": 1,
   "id": "410127dc-3b31-48bb-9d32-677c3b926767",
   "metadata": {},
   "outputs": [
    {
     "name": "stdout",
     "output_type": "stream",
     "text": [
      "Root.Core.Si5345Pll.Page0.DataBlock.setPollInterval(1)\n",
      "Start: Started zmqServer on ports 9099-9101\n",
      "    To start a gui: python -m pyrogue gui --server='localhost:9099'\n",
      "    To use a virtual client: client = pyrogue.interfaces.VirtualClient(addr='localhost', port=9099)\n",
      "Root.Core.AxiVersion count reset called\n",
      "###################################################\n",
      "#             Firmware Version                    #\n",
      "###################################################\n",
      "Path         = Root.Core.AxiVersion\n",
      "FwVersion    = 0x1000000\n",
      "UpTime       = 8 days, 7:25:17\n",
      "GitHash      = 0x69d8ea32115fd34d3ada6b89ad80fb3e63f2eda0\n",
      "XilinxDnaId  = 0x400200000139d7204c80e045\n",
      "FwTarget     = ePixHRM320k\n",
      "BuildEnv     = Vivado v2022.1\n",
      "BuildServer  = rdsrv314 (Ubuntu 20.04.6 LTS)\n",
      "BuildDate    = Thu 24 Aug 2023 11:52:58 AM PDT\n",
      "Builder      = dnajjar\n",
      "###################################################\n"
     ]
    }
   ],
   "source": [
    "### Setup the library ###\n",
    "import pyrogue as pr\n",
    "import os, sys\n",
    "import matplotlib.pyplot as plt\n",
    "import time\n",
    "import datetime\n",
    "import numpy as np\n",
    "import math\n",
    "import pprint\n",
    "import inspect \n",
    "top_level=f'{os.getcwd()}/../'\n",
    "rootTopLevel = top_level+'script/'\n",
    "pr.addLibraryPath( rootTopLevel )\n",
    "\n",
    "import setupLibPaths\n",
    "\n",
    "import ePix320kM as devBoard\n",
    "\n",
    "args = None\n",
    "\n",
    "# ONLY RUN ONCE!\n",
    "# Defining root\n",
    "root =  devBoard.Root(   \n",
    "        top_level  = rootTopLevel,\n",
    "        dev        = '/dev/datadev_0',\n",
    "        pollEn     = False,\n",
    "        initRead   = True,\n",
    "        serverPort = 9099)\n",
    "root.start()\n",
    "\n",
    "# example showing a read\n",
    "AxiVersion = root.Core.AxiVersion\n",
    "print ( '###################################################')\n",
    "print ( '#             Firmware Version                    #')\n",
    "print ( '###################################################')\n",
    "AxiVersion.printStatus()\n",
    "print ( '###################################################')"
   ]
  },
  {
   "cell_type": "code",
   "execution_count": 2,
   "id": "43ed4f16",
   "metadata": {},
   "outputs": [
    {
     "ename": "GeneralError",
     "evalue": "AxiStreamDma::AxiStreamDma: General Error: Failed to open device file /dev/datadev_0 with dest 0x0! Another process may already have it open!",
     "output_type": "error",
     "traceback": [
      "\u001b[0;31m---------------------------------------------------------------------------\u001b[0m",
      "\u001b[0;31mGeneralError\u001b[0m                              Traceback (most recent call last)",
      "\u001b[0;32m/tmp/ipykernel_85507/2197843110.py\u001b[0m in \u001b[0;36m<cell line: 3>\u001b[0;34m()\u001b[0m\n\u001b[1;32m      1\u001b[0m \u001b[0;31m# ONLY RUN ONCE!\u001b[0m\u001b[0;34m\u001b[0m\u001b[0;34m\u001b[0m\u001b[0m\n\u001b[1;32m      2\u001b[0m \u001b[0;31m# Defining root\u001b[0m\u001b[0;34m\u001b[0m\u001b[0;34m\u001b[0m\u001b[0m\n\u001b[0;32m----> 3\u001b[0;31m root =  devBoard.Root(   \n\u001b[0m\u001b[1;32m      4\u001b[0m         \u001b[0mtop_level\u001b[0m  \u001b[0;34m=\u001b[0m \u001b[0mrootTopLevel\u001b[0m\u001b[0;34m,\u001b[0m\u001b[0;34m\u001b[0m\u001b[0;34m\u001b[0m\u001b[0m\n\u001b[1;32m      5\u001b[0m         \u001b[0mdev\u001b[0m        \u001b[0;34m=\u001b[0m \u001b[0;34m'/dev/datadev_0'\u001b[0m\u001b[0;34m,\u001b[0m\u001b[0;34m\u001b[0m\u001b[0;34m\u001b[0m\u001b[0m\n",
      "\u001b[0;32m/u1/lorenzor/epix-hr-m-320k/firmware/python/ePix320kM/_Root.py\u001b[0m in \u001b[0;36m__init__\u001b[0;34m(self, top_level, dev, pollEn, initRead, promProg, **kwargs)\u001b[0m\n\u001b[1;32m    105\u001b[0m             \u001b[0;31m# # Map the DMA streams\u001b[0m\u001b[0;34m\u001b[0m\u001b[0;34m\u001b[0m\u001b[0m\n\u001b[1;32m    106\u001b[0m             \u001b[0;32mfor\u001b[0m \u001b[0mlane\u001b[0m \u001b[0;32min\u001b[0m \u001b[0mrange\u001b[0m\u001b[0;34m(\u001b[0m\u001b[0mself\u001b[0m\u001b[0;34m.\u001b[0m\u001b[0mnumOfAsics\u001b[0m\u001b[0;34m)\u001b[0m\u001b[0;34m:\u001b[0m\u001b[0;34m\u001b[0m\u001b[0;34m\u001b[0m\u001b[0m\n\u001b[0;32m--> 107\u001b[0;31m                 \u001b[0mself\u001b[0m\u001b[0;34m.\u001b[0m\u001b[0mdataStream\u001b[0m\u001b[0;34m[\u001b[0m\u001b[0mlane\u001b[0m\u001b[0;34m]\u001b[0m \u001b[0;34m=\u001b[0m \u001b[0mrogue\u001b[0m\u001b[0;34m.\u001b[0m\u001b[0mhardware\u001b[0m\u001b[0;34m.\u001b[0m\u001b[0maxi\u001b[0m\u001b[0;34m.\u001b[0m\u001b[0mAxiStreamDma\u001b[0m\u001b[0;34m(\u001b[0m\u001b[0mdev\u001b[0m\u001b[0;34m,\u001b[0m \u001b[0;36m0x100\u001b[0m \u001b[0;34m*\u001b[0m \u001b[0mlane\u001b[0m \u001b[0;34m+\u001b[0m \u001b[0;36m0\u001b[0m\u001b[0;34m,\u001b[0m \u001b[0;36m1\u001b[0m\u001b[0;34m)\u001b[0m\u001b[0;34m\u001b[0m\u001b[0;34m\u001b[0m\u001b[0m\n\u001b[0m\u001b[1;32m    108\u001b[0m \u001b[0;34m\u001b[0m\u001b[0m\n\u001b[1;32m    109\u001b[0m             \u001b[0mself\u001b[0m\u001b[0;34m.\u001b[0m\u001b[0msrpStream\u001b[0m \u001b[0;34m=\u001b[0m \u001b[0mrogue\u001b[0m\u001b[0;34m.\u001b[0m\u001b[0mhardware\u001b[0m\u001b[0;34m.\u001b[0m\u001b[0maxi\u001b[0m\u001b[0;34m.\u001b[0m\u001b[0mAxiStreamDma\u001b[0m\u001b[0;34m(\u001b[0m\u001b[0mdev\u001b[0m\u001b[0;34m,\u001b[0m \u001b[0;36m0x100\u001b[0m \u001b[0;34m*\u001b[0m \u001b[0;36m5\u001b[0m \u001b[0;34m+\u001b[0m \u001b[0;36m0\u001b[0m\u001b[0;34m,\u001b[0m \u001b[0;36m1\u001b[0m\u001b[0;34m)\u001b[0m\u001b[0;34m\u001b[0m\u001b[0;34m\u001b[0m\u001b[0m\n",
      "\u001b[0;31mGeneralError\u001b[0m: AxiStreamDma::AxiStreamDma: General Error: Failed to open device file /dev/datadev_0 with dest 0x0! Another process may already have it open!"
     ]
    }
   ],
   "source": [
    "# ONLY RUN ONCE!\n",
    "# Defining root\n",
    "root =  devBoard.Root(   \n",
    "        top_level  = rootTopLevel,\n",
    "        dev        = '/dev/datadev_0',\n",
    "        pollEn     = False,\n",
    "        initRead   = True,\n",
    "        serverPort = 9099)\n",
    "root.start()\n",
    "\n",
    "# example showing a read\n",
    "AxiVersion = root.Core.AxiVersion\n",
    "print ( '###################################################')\n",
    "print ( '#             Firmware Version                    #')\n",
    "print ( '###################################################')\n",
    "AxiVersion.printStatus()\n",
    "print ( '###################################################')"
   ]
  },
  {
   "cell_type": "code",
   "execution_count": 3,
   "id": "f0879711",
   "metadata": {},
   "outputs": [],
   "source": [
    "# Useful short names\n",
    "APP  = root.App\n",
    "AXIV = root.Core.AxiVersion\n",
    "ASICTOP = APP.AsicTop\n",
    "TRIG = ASICTOP.TriggerRegisters\n",
    "ASIC0 = APP.Mv2Asic[0]\n",
    "ASIC1 = APP.Mv2Asic[1]\n",
    "ASIC2 = APP.Mv2Asic[2]\n",
    "ASIC3 = APP.Mv2Asic[3]\n",
    "HSDAC = APP.Dac.FastDac \n",
    "PKREG0 = ASICTOP.DigAsicStrmRegisters0\n",
    "PKREG1 = ASICTOP.DigAsicStrmRegisters1\n",
    "PKREG2 = ASICTOP.DigAsicStrmRegisters2\n",
    "PKREG3 = ASICTOP.DigAsicStrmRegisters3\n",
    "BATCHER0 = ASICTOP.BatcherEventBuilder0\n",
    "BATCHER1 = ASICTOP.BatcherEventBuilder1\n",
    "BATCHER2 = ASICTOP.BatcherEventBuilder2\n",
    "BATCHER3 = ASICTOP.BatcherEventBuilder3\n",
    "DEBUG0 = root._dbg[0]\n",
    "DEBUG1 = root._dbg[1]\n",
    "DEBUG2 = root._dbg[2]\n",
    "DEBUG3 = root._dbg[3]\n",
    "DATARCV0 = root.DataReceiver0\n",
    "DATARCV1 = root.DataReceiver1\n",
    "DATARCV2 = root.DataReceiver2\n",
    "DATARCV3 = root.DataReceiver3\n",
    "FULLRATERCV0 = root.fullRateDataReceiver[0]\n",
    "FULLRATERCV1 = root.fullRateDataReceiver[1]\n",
    "FULLRATERCV2 = root.fullRateDataReceiver[2]\n",
    "FULLRATERCV3 = root.fullRateDataReceiver[3]\n",
    "DAC = APP.Dac\n",
    "REGCTRL = ASICTOP.RegisterControlDualClock"
   ]
  },
  {
   "cell_type": "code",
   "execution_count": 4,
   "id": "eac39a14",
   "metadata": {},
   "outputs": [
    {
     "name": "stdout",
     "output_type": "stream",
     "text": [
      "0xdeadbeef\n",
      "0xdeadbeef\n"
     ]
    }
   ],
   "source": [
    "# Set & Read ScratchPad\n",
    "print(hex(AXIV.ScratchPad.get()))\n",
    "AXIV.ScratchPad.set(0xdeadbeef)\n",
    "print(hex(AXIV.ScratchPad.get()))"
   ]
  },
  {
   "cell_type": "code",
   "execution_count": 5,
   "id": "83059953",
   "metadata": {},
   "outputs": [
    {
     "name": "stdout",
     "output_type": "stream",
     "text": [
      "Rysync ASIC started\n",
      "Init ASIC script started\n",
      "Loading PLL configuration\n",
      "\u001b[32mRoot.Core.Si5345Pll.LoadCsvFile(): /u1/lorenzor/epix-hr-m-320k/software/notebook/../script/../config/EPixHRM320KPllConfig168Mhz.csv\u001b[0m\n",
      "Loaded. Waiting for lock...\n",
      "Loading supply configuration\n",
      "Loading /u1/lorenzor/epix-hr-m-320k/software/notebook/../script/../config/ePixHRM320k_PowerSupply_Enable.yml\n",
      "Loading lane delay configurations\n",
      "Loading /u1/lorenzor/epix-hr-m-320k/software/notebook/../script/../config/ePixHRM320k_SspMonGrp_carrier3.yml\n",
      "Loading waveforms configuration\n",
      "Loading /u1/lorenzor/epix-hr-m-320k/software/notebook/../script/../config/ePixHRM320k_RegisterControl.yml\n",
      "Loading packet register configurations\n",
      "Loading /u1/lorenzor/epix-hr-m-320k/software/notebook/../script/../config/ePixHRM320k_PacketRegisters.yml\n",
      "Loading batcher configurations\n",
      "Loading /u1/lorenzor/epix-hr-m-320k/software/notebook/../script/../config/ePixHRM320k_BatcherEventBuilder.yml\n",
      "Taking asic off of reset\n",
      "Loading ASICs and timing configuration\n",
      "Loading /u1/lorenzor/epix-hr-m-320k/software/notebook/../script/../config/ePixHRM320k_ASIC_u1_PLLBypass.yml\n",
      "Loading /u1/lorenzor/epix-hr-m-320k/software/notebook/../script/../config/ePixHRM320k_ASIC_u2_PLLBypass.yml\n",
      "Loading /u1/lorenzor/epix-hr-m-320k/software/notebook/../script/../config/ePixHRM320k_ASIC_u3_PLLBypass.yml\n",
      "Loading /u1/lorenzor/epix-hr-m-320k/software/notebook/../script/../config/ePixHRM320k_ASIC_u4_PLLBypass.yml\n",
      "Initialization routine completed.\n"
     ]
    }
   ],
   "source": [
    "# Configure clock to 168 MHz and configures all ASICS\n",
    "root.InitASIC([3,1,1,1,1])"
   ]
  },
  {
   "cell_type": "code",
   "execution_count": 6,
   "id": "66d4c177",
   "metadata": {},
   "outputs": [
    {
     "name": "stdout",
     "output_type": "stream",
     "text": [
      "Stop Triggers command executed\n",
      "Set Auto Trigger command executed\n",
      "Start Auto Trigger command executed\n",
      "Triggers sent: 1000\n",
      "Stop Triggers command executed\n"
     ]
    }
   ],
   "source": [
    "root.disableAndCleanAllFullRateDataRcv()\n",
    "root.enableDataRcv(False)\n",
    "root.enableAllAsics(False)\n",
    "root.enableAsic(3, True)\n",
    "\n",
    "#run some triggers and exercise lanes and locks\n",
    "frames = 1000\n",
    "rate = 1000\n",
    "\n",
    "root.hwTrigger(frames, rate)\n",
    "\n",
    "DEBUG3.enableDataDebug(True)\n",
    "DEBUG3.cleanData()\n"
   ]
  },
  {
   "cell_type": "markdown",
   "id": "b39ec734",
   "metadata": {},
   "source": [
    "# Lorenzo - Helper functions"
   ]
  },
  {
   "cell_type": "code",
   "execution_count": 7,
   "id": "794eea91",
   "metadata": {},
   "outputs": [],
   "source": [
    "%run dataProcFunctions.ipynb     #this is were my function was stored"
   ]
  },
  {
   "cell_type": "code",
   "execution_count": 8,
   "id": "02cbdebf",
   "metadata": {},
   "outputs": [],
   "source": [
    "# helper functions\n",
    "# clock speed is 168MHz. 1 tick is 0.006 us\n",
    "def setSR0(width, delay) :\n",
    "    REGCTRL.SR0Delay1.set(delay)\n",
    "    REGCTRL.SR0Width1.set(width)\n",
    "    print(f'SR0 Width set to {REGCTRL.SR0Width1_us.get():.3f}uS')\n",
    "    print(f'SR0 Delay set to {REGCTRL.SR0Delay_us.get():.3f}uS')\n",
    "    \n",
    "def setAcq1(width, delay) :\n",
    "    REGCTRL.AcqDelay1.set(delay)\n",
    "    REGCTRL.AcqWidth1.set(width)\n",
    "    print(f'Acq1 Width set to {REGCTRL.AcqWidth1_us.get():.3f}uS')\n",
    "    print(f'Acq1 Delay set to {REGCTRL.AcqDelay1_us.get():.3f}uS')\n",
    "    \n",
    "def setAcq2(width, delay) :\n",
    "    REGCTRL.AcqDelay2.set(delay)\n",
    "    REGCTRL.AcqWidth2.set(width)\n",
    "    print(f'Acq2 Width set to {REGCTRL.AcqWidth2_us.get():.3f}uS')\n",
    "    print(f'Acq2 Delay set to {REGCTRL.AcqDelay2_us.get():.3f}uS')    \n",
    "\n",
    "def setR0(width, delay) :\n",
    "    REGCTRL.R0Delay.set(delay)\n",
    "    REGCTRL.R0Width.set(width)\n",
    "    print(f'R0 Width set to {REGCTRL.R0Width_us.get():.3f}uS')\n",
    "    print(f'R0 Delay set to {REGCTRL.R0Delay_us.get():.3f}uS') \n",
    "\n",
    "    \n",
    "def setSync(width, delay) :\n",
    "    REGCTRL.SyncDelay.set(delay)\n",
    "    REGCTRL.SyncWidth.set(width)\n",
    "    print(f'Sync Delay set to {REGCTRL.SyncDelay_us.get():.3f}uS')     "
   ]
  },
  {
   "cell_type": "markdown",
   "id": "fb116ee2",
   "metadata": {},
   "source": [
    "# Set registers and variables"
   ]
  },
  {
   "cell_type": "code",
   "execution_count": 23,
   "id": "31741fc8",
   "metadata": {},
   "outputs": [
    {
     "name": "stdout",
     "output_type": "stream",
     "text": [
      "R0 Width set to 2.688uS\n",
      "R0 Delay set to 1.280uS\n",
      "Acq1 Width set to 1.024uS\n",
      "Acq1 Delay set to 2.304uS\n",
      "SR0 Width set to 226.190uS\n",
      "SR0 Delay set to 4.167uS\n",
      "Baseline time:    1.0239999999999998 uS\n",
      "Integration time: 1.024 uS\n",
      "-------------------------\n"
     ]
    }
   ],
   "source": [
    "# ADC settings\n",
    "ASIC3.DHg.set(True)    # Set High gain\n",
    "ASIC3.S2D_1_b.set(0)   # Set bias current to max (min value)\n",
    "ASIC3.Ref_gen_d.set(2) # Set 'common-mode' voltage of S/H stage\n",
    "ASIC3.RefGenB.set(2)   # Don't touch\n",
    "ASIC3.mTest.set(False)      # Don't touch\n",
    "\n",
    "\n",
    "ASIC3.pipoclk_delay_row0.set(7)\n",
    "ASIC3.pipoclk_delay_row1.set(8)\n",
    "ASIC3.pipoclk_delay_row2.set(8)\n",
    "ASIC3.pipoclk_delay_row3.set(8)\n",
    "\n",
    "# Set some registers...\n",
    "ASIC3.CompTH_ePixM.set(0)\n",
    "\n",
    "# Define integration time\n",
    "setR0(420, 200)\n",
    "setAcq1(160, 360)\n",
    "setSR0(38000, 700)\n",
    "\n",
    "baseline_int_time = REGCTRL.AcqDelay1_us.get() - REGCTRL.R0Delay_us.get()\n",
    "integration_time = REGCTRL.AcqWidth1_us.get()\n",
    "print(f'Baseline time:    {baseline_int_time} uS')\n",
    "print(f'Integration time: {integration_time} uS')\n",
    "print(f'-------------------------')\n",
    "\n",
    "# Optimal bias settings\n",
    "ASIC3.RefinN.set(4)\n",
    "ASIC3.RefinP.set(4)\n"
   ]
  },
  {
   "cell_type": "code",
   "execution_count": 24,
   "id": "a754d793",
   "metadata": {},
   "outputs": [
    {
     "name": "stdout",
     "output_type": "stream",
     "text": [
      "--- Acquiring data value 0/0 ---\n",
      "Data Descrambled\n",
      "(192, 384, 3)\n",
      "Data Descrambled\n",
      "(192, 384, 3)\n",
      "Data Descrambled\n",
      "(192, 384, 3)\n",
      "Data Descrambled\n",
      "(192, 384, 3)\n",
      "Data Descrambled\n",
      "(192, 384, 100)\n",
      "--- Acquiring data value 0/1 ---\n",
      "Data Descrambled\n",
      "(192, 384, 3)\n",
      "Data Descrambled\n",
      "(192, 384, 3)\n",
      "Data Descrambled\n",
      "(192, 384, 3)\n",
      "Data Descrambled\n",
      "(192, 384, 3)\n",
      "Data Descrambled\n",
      "(192, 384, 100)\n",
      "--- Acquiring data value 1/0 ---\n",
      "Data Descrambled\n",
      "(192, 384, 3)\n",
      "Data Descrambled\n",
      "(192, 384, 3)\n",
      "Data Descrambled\n",
      "(192, 384, 3)\n",
      "Data Descrambled\n",
      "(192, 384, 3)\n",
      "Data Descrambled\n",
      "(192, 384, 100)\n",
      "--- Acquiring data value 1/1 ---\n",
      "Data Descrambled\n",
      "(192, 384, 3)\n",
      "Data Descrambled\n",
      "(192, 384, 3)\n",
      "Data Descrambled\n",
      "(192, 384, 3)\n",
      "Data Descrambled\n",
      "(192, 384, 3)\n",
      "Data Descrambled\n",
      "(192, 384, 100)\n"
     ]
    },
    {
     "data": {
      "image/png": "[encoded data removed]",
      "text/plain": [
       "<Figure size 432x288 with 1 Axes>"
      ]
     },
     "metadata": {
      "needs_background": "light"
     },
     "output_type": "display_data"
    }
   ],
   "source": [
    "# Define empty arrays\n",
    "\n",
    "noise   = np.empty([8,8])\n",
    "gain    = np.empty([8,8])\n",
    "\n",
    "for RefN_val, RefP_val in np.ndindex(2,2):\n",
    "    print('--- Acquiring data value {}/{} ---'.format(RefN_val,RefP_val))\n",
    "    ASIC3.RefinN.set(RefN_val)\n",
    "    ASIC3.RefinP.set(RefP_val)\n",
    "    # Get ramps and calculate gain\n",
    "    ChInjValues, pixelRamp = ChInjRamp(numberOfTriggers=3,Min=200,Max=250,numSteps=4)\n",
    "    plt.plot(ChInjValues, pixelRamp)\n",
    "    gain[RefN_val,RefP_val] = np.polyfit(ChInjValues, pixelRamp, 1)[0]\n",
    "    \n",
    "    # Get darks and calculate noise\n",
    "    data = readoutFrames(100)\n",
    "    data_noisemap = np.std(data, axis=2)    \n",
    "    noise[RefN_val,RefP_val] = np.median(data_noisemap)"
   ]
  },
  {
   "cell_type": "code",
   "execution_count": 25,
   "id": "3fa1280f",
   "metadata": {},
   "outputs": [
    {
     "name": "stdout",
     "output_type": "stream",
     "text": [
      "[[34.57828654 34.81306938]\n",
      " [34.88701406 34.86425677]]\n",
      "[[ -99.54   -99.804]\n",
      " [-101.358 -101.838]]\n"
     ]
    },
    {
     "data": {
      "image/png": "[encoded data removed]",
      "text/plain": [
       "<Figure size 864x216 with 6 Axes>"
      ]
     },
     "metadata": {
      "needs_background": "light"
     },
     "output_type": "display_data"
    },
    {
     "name": "stdout",
     "output_type": "stream",
     "text": [
      "Recommended setting RefN/RefP:(array([1]), array([1]))\n"
     ]
    }
   ],
   "source": [
    "noise = noise[0:2,0:2]  \n",
    "gain = gain[0:2,0:2]    \n",
    "\n",
    "print(noise)\n",
    "print(gain)\n",
    "\n",
    "snr = abs(gain)/noise\n",
    "\n",
    "# Create the subplots\n",
    "fig, axes = plt.subplots(1, 3, figsize=(12, 3))\n",
    "\n",
    "# Plot the images on each subplot\n",
    "im1 = axes[0].imshow(abs(gain), cmap='inferno')\n",
    "im2 = axes[1].imshow(noise, cmap='inferno')\n",
    "im3 = axes[2].imshow(snr, cmap='inferno')\n",
    "\n",
    "# Set titles for each subplot\n",
    "axes[0].set_title('Gain')\n",
    "axes[1].set_title('Noise')\n",
    "axes[2].set_title('SNR')\n",
    "\n",
    "axes[0].set_xlabel('RefInP')\n",
    "axes[1].set_xlabel('RefInP')\n",
    "axes[2].set_xlabel('RefInP')\n",
    "\n",
    "axes[0].set_ylabel('RefInN')\n",
    "axes[1].set_ylabel('RefInN')\n",
    "axes[2].set_ylabel('RefInN')\n",
    "\n",
    "# Optionally, display the axes on each subplot\n",
    "axes[0].axis('on')\n",
    "axes[1].axis('on')\n",
    "axes[2].axis('on')\n",
    "\n",
    "# Add colorbars to each subplot\n",
    "cbar1 = fig.colorbar(im1, ax=axes[0])\n",
    "cbar2 = fig.colorbar(im2, ax=axes[1])\n",
    "cbar3 = fig.colorbar(im3, ax=axes[2])\n",
    "\n",
    "# Set colorbar labels (optional)\n",
    "cbar1.set_label('Gain [ADU/PulserValue]')\n",
    "cbar2.set_label('Noise [ADUs]')\n",
    "cbar3.set_label('SNR [a.u.]')\n",
    "\n",
    "# Show the plots\n",
    "plt.tight_layout()\n",
    "plt.show()\n",
    "\n",
    "print('Recommended setting RefN/RefP:{}'.format(np.where(snr == snr.max())))\n"
   ]
  },
  {
   "cell_type": "code",
   "execution_count": null,
   "id": "99a48cf6",
   "metadata": {},
   "outputs": [],
   "source": []
  }
 ],
 "metadata": {
  "kernelspec": {
   "display_name": "Python 3 (ipykernel)",
   "language": "python",
   "name": "python3"
  },
  "language_info": {
   "codemirror_mode": {
    "name": "ipython",
    "version": 3
   },
   "file_extension": ".py",
   "mimetype": "text/x-python",
   "name": "python",
   "nbconvert_exporter": "python",
   "pygments_lexer": "ipython3",
   "version": "3.9.13"
  }
 },
 "nbformat": 4,
 "nbformat_minor": 5
}
