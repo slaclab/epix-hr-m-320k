{
 "cells": [
  {
   "cell_type": "markdown",
   "id": "b8dbf501-98d2-4bca-9a0d-59e2c2494eb5",
   "metadata": {},
   "source": [
    "# BASIC CONFIGURATIONS"
   ]
  },
  {
   "cell_type": "code",
   "execution_count": 1,
   "id": "410127dc-3b31-48bb-9d32-677c3b926767",
   "metadata": {},
   "outputs": [],
   "source": [
    "### Setup the library ###\n",
    "import pyrogue as pr\n",
    "import os, sys\n",
    "import matplotlib.pyplot as plt\n",
    "import time\n",
    "import datetime\n",
    "import numpy as np\n",
    "import math\n",
    "import pprint\n",
    "import inspect \n",
    "top_level=f'{os.getcwd()}/../'\n",
    "rootTopLevel = top_level+'script/'\n",
    "pr.addLibraryPath( rootTopLevel )\n",
    "\n",
    "import setupLibPaths\n",
    "\n",
    "import ePix320kM as devBoard\n",
    "\n",
    "args = None"
   ]
  },
  {
   "cell_type": "code",
   "execution_count": 2,
   "id": "1941bbb3-abba-4c12-ac3c-8497a31b17c0",
   "metadata": {
    "tags": []
   },
   "outputs": [
    {
     "name": "stdout",
     "output_type": "stream",
     "text": [
      "Root.Core.Si5345Pll.Page0.DataBlock.setPollInterval(1)\n",
      "Start: Started zmqServer on ports 9099-9101\n",
      "    To start a gui: python -m pyrogue gui --server='localhost:9099'\n",
      "    To use a virtual client: client = pyrogue.interfaces.VirtualClient(addr='localhost', port=9099)\n",
      "Root.Core.AxiVersion count reset called\n",
      "Root.pciePgp.AxiPcieCore.AxiVersion count reset called\n",
      "###################################################\n",
      "#             Firmware Version                    #\n",
      "###################################################\n",
      "Path         = Root.Core.AxiVersion\n",
      "FwVersion    = 0x1011000\n",
      "UpTime       = 13:34:04\n",
      "GitHash      = dirty (uncommitted code)\n",
      "XilinxDnaId  = 0x4002000001608a0624908185\n",
      "FwTarget     = ePixHRM320k\n",
      "BuildEnv     = Vivado v2023.1\n",
      "BuildServer  = rdsrv314 (Ubuntu 20.04.6 LTS)\n",
      "BuildDate    = Wed 25 Sep 2024 04:10:18 PM PDT\n",
      "Builder      = dnajjar\n",
      "###################################################\n"
     ]
    }
   ],
   "source": [
    "# ONLY RUN ONCE!\n",
    "# Defining root\n",
    "# If crashes, make sure the deve is correct.\n",
    "root =  devBoard.Root(   \n",
    "        top_level  = top_level,\n",
    "        dev        = '/dev/datadev_0',\n",
    "        pollEn     = False,\n",
    "        initRead   = True,\n",
    "        pciePgpEn  = True,\n",
    "        justCtrl   = False,\n",
    "        DDebugSize = 4000)\n",
    "root.start()\n",
    "\n",
    "# example showing a read\n",
    "AxiVersion = root.Core.AxiVersion\n",
    "print ( '###################################################')\n",
    "print ( '#             Firmware Version                    #')\n",
    "print ( '###################################################')\n",
    "AxiVersion.printStatus()\n",
    "print ( '###################################################')"
   ]
  },
  {
   "cell_type": "code",
   "execution_count": 3,
   "id": "f5cc4633",
   "metadata": {},
   "outputs": [],
   "source": [
    "#Run this from a teminal in your localhost without the (!). If you run it here, it will open on rdsrv314 Jupyter server terminal and you won't see it.\n",
    "#!python -m pyrogue gui --server='localhost:9099'"
   ]
  },
  {
   "cell_type": "code",
   "execution_count": 4,
   "id": "9f53679e-4728-4f2d-9e94-48dbf32074c9",
   "metadata": {},
   "outputs": [
    {
     "name": "stdout",
     "output_type": "stream",
     "text": [
      "Rysync ASIC started\n",
      "Did not find SspMonGrp_carrier file. Using generic.\n",
      "Did not find SspMonGrp_carrier file. Using generic.\n",
      "Did not find specific ASIC1 file. Using generic.\n",
      "Did not find specific ASIC2 file. Using generic.\n",
      "Did not find specific ASIC3 file. Using generic.\n",
      "Did not find specific ASIC4 file. Using generic.\n",
      "Init ASIC script started\n",
      "Loading PLL configuration\n",
      "Loading supply configuration\n",
      "Loading /home/dnajjar/epix-hr-m-320k-ila-bad-lanes/software/notebook/..//config/ePixHRM320k_PowerSupply_Enable.yml\n",
      "Loading lane delay configurations\n",
      "Loading /home/dnajjar/epix-hr-m-320k-ila-bad-lanes/software/notebook/..//config/ePixHRM320k_SspMonGrp_carrier.yml\n",
      "Loading waveforms configuration\n",
      "Loading /home/dnajjar/epix-hr-m-320k-ila-bad-lanes/software/notebook/..//config/ePixHRM320k_RegisterControl.yml\n",
      "Loading batcher configurations\n",
      "Loading /home/dnajjar/epix-hr-m-320k-ila-bad-lanes/software/notebook/..//config/ePixHRM320k_BatcherEventBuilder.yml\n",
      "Loading packet register configurations\n",
      "Loading /home/dnajjar/epix-hr-m-320k-ila-bad-lanes/software/notebook/..//config/ePixHRM320k_PacketRegisters.yml\n",
      "Taking asic off of reset\n",
      "Loading ASICs and timing configuration\n",
      "Loading /home/dnajjar/epix-hr-m-320k-ila-bad-lanes/software/notebook/..//config/ePixHRM320k_ASIC_u1.yml\n",
      "Loading /home/dnajjar/epix-hr-m-320k-ila-bad-lanes/software/notebook/..//config/ePixHRM320k_ASIC_u2.yml\n",
      "Loading /home/dnajjar/epix-hr-m-320k-ila-bad-lanes/software/notebook/..//config/ePixHRM320k_ASIC_u3.yml\n",
      "Loading /home/dnajjar/epix-hr-m-320k-ila-bad-lanes/software/notebook/..//config/ePixHRM320k_ASIC_u4.yml\n",
      "Initialization routine completed.\n",
      "Enabling batcher 0\n",
      "Enabling batcher 1\n",
      "Enabling batcher 2\n",
      "Enabling batcher 3\n",
      "Stop Triggers command executed\n",
      "Set Auto Trigger command executed\n",
      "Start Auto Trigger command executed\n",
      "Triggers sent: 2500\n",
      "Stop Triggers command executed\n",
      "Stop Triggers command executed\n",
      "Set Auto Trigger command executed\n",
      "Start Auto Trigger command executed\n",
      "Triggers sent: 2500\n",
      "Stop Triggers command executed\n",
      "Frames recieved from ASIC0 is 2500\n",
      "\u001b[92mASIC 0 lane adjustment done\u001b[0m\n",
      "Frames recieved from ASIC1 is 2500\n",
      "\u001b[92mASIC 1 lane adjustment done\u001b[0m\n",
      "Frames recieved from ASIC2 is 2500\n",
      "\u001b[92mASIC 2 lane adjustment done\u001b[0m\n",
      "Frames recieved from ASIC3 is 2500\n",
      "\u001b[92mASIC 3 lane adjustment done\u001b[0m\n",
      "ASIC lane adjustment completed successfully\n",
      "\u001b[1mDisabled lanes of asic 0 now is 0x0\u001b[0m\n",
      "\u001b[1mDisabled lanes of asic 1 now is 0x0\u001b[0m\n",
      "\u001b[1mDisabled lanes of asic 2 now is 0x0\u001b[0m\n",
      "\u001b[1mDisabled lanes of asic 3 now is 0x0\u001b[0m\n"
     ]
    }
   ],
   "source": [
    "# Configure clock to 168 MHz and configures all ASICS\n",
    "root.InitASIC([4,1,1,1,1])"
   ]
  },
  {
   "cell_type": "code",
   "execution_count": 12,
   "id": "6ec887b4-d759-4c0d-b4d0-da75afcb0865",
   "metadata": {},
   "outputs": [],
   "source": [
    "run helperFunctions.ipynb"
   ]
  },
  {
   "cell_type": "markdown",
   "id": "1fc63625-621b-4d19-a175-9c89cf32febb",
   "metadata": {},
   "source": [
    "# Transfer function"
   ]
  },
  {
   "cell_type": "code",
   "execution_count": 64,
   "id": "d1e1f822-64a4-47eb-aa73-45f8b4bdc0b6",
   "metadata": {},
   "outputs": [
    {
     "name": "stdout",
     "output_type": "stream",
     "text": [
      "R0 Width set to 7.200uS\n",
      "R0 Delay set to 0.064uS\n",
      "Acq1 Width set to 3.597uS\n",
      "Acq1 Delay set to 3.661uS\n",
      "-------------------------\n",
      "Acq width = 562 ticks\n",
      "Acq delay = 572 ticks\n",
      "R0  width = 1125 ticks\n",
      "R0  delay = 10 ticks\n",
      "-------------------------\n",
      "Acq width + delay = 1134\n",
      "R0 width + delay = 1135\n",
      "-------------------------\n",
      "SR0 acceptable delay > 1\n",
      "SR0 acceptable width > 31585 and less than 32379 for SR0 delay of 1\n",
      "-------------------------\n",
      "Baseline time:    3.5968 uS\n",
      "Integration time: 3.5968 uS\n",
      "Sampling done at: 7.2576 uS\n"
     ]
    }
   ],
   "source": [
    "intTime = 3.6\n",
    "calculateWaveforms(intTime = int(intTime*156.25), startTime = 10, R0AfterAcq = 1)"
   ]
  },
  {
   "cell_type": "code",
   "execution_count": 65,
   "id": "c5e9b307-89d7-4067-956e-ad2bc7957baf",
   "metadata": {},
   "outputs": [
    {
     "name": "stdout",
     "output_type": "stream",
     "text": [
      "ledRE2AcqRE larger than maximum permitted delay 4.7236e-06. Forcing to 0\n",
      "AcqREStart=4.7236e-06, AcqWidth=3.5968e-06, ledREStart=0, ledREFinish=1.0320399999999999e-05\n",
      "11 Trigger sent\n",
      "\n",
      "Received 11 on DataDebug[0]\n",
      "Received 11 on DataDebug[1]\n",
      "Received 11 on DataDebug[2]\n",
      "Received 11 on DataDebug[3]\n"
     ]
    },
    {
     "data": {
      "text/plain": [
       "[0,\n",
       " 1e-06,\n",
       " 2e-06,\n",
       " 3e-06,\n",
       " 4e-06,\n",
       " 4.9999999999999996e-06,\n",
       " 5.999999999999999e-06,\n",
       " 6.999999999999999e-06,\n",
       " 8e-06,\n",
       " 9e-06,\n",
       " 1e-05]"
      ]
     },
     "execution_count": 65,
     "metadata": {},
     "output_type": "execute_result"
    }
   ],
   "source": [
    "dataDebugArray=[DEBUG0, DEBUG1, DEBUG2, DEBUG3]\n",
    "transferFunction(dataDebugArray=dataDebugArray, enabledAsics=[0,1,2,3], stepSize=1e-6, \n",
    "                     ledRE2AcqRE=6e-6, acqFE2LedRE=2e-6, ledPulseWidth=5.5e-6, ledPulseAmplitude=4) "
   ]
  },
  {
   "cell_type": "code",
   "execution_count": 66,
   "id": "35b602c1-51a8-4078-af45-df8de3255473",
   "metadata": {},
   "outputs": [
    {
     "name": "stdout",
     "output_type": "stream",
     "text": [
      "total 2.3G\n",
      "drwxr-xr-x 2 dnajjar gu 4.0K Sep 26 11:55  .\n",
      "drwxr-xr-x 4 dnajjar gu 4.0K Sep 26 11:54  ..\n",
      "-rw-r--r-- 1 dnajjar gu  31M Sep 26 11:53 '100-18C-BIAS50VDataDebug[0].dat.npy'\n",
      "-rw-r--r-- 1 dnajjar gu  31M Sep 26 11:53 '100-18C-BIAS50VDataDebug[1].dat.npy'\n",
      "-rw-r--r-- 1 dnajjar gu  31M Sep 26 11:53 '100-18C-BIAS50VDataDebug[2].dat.npy'\n",
      "-rw-r--r-- 1 dnajjar gu  31M Sep 26 11:53 '100-18C-BIAS50VDataDebug[3].dat.npy'\n",
      "-rw-r--r-- 1 dnajjar gu  53M Sep 26 11:45 '10.8-18C-BIAS50VDataDebug[0].dat.npy'\n",
      "-rw-r--r-- 1 dnajjar gu  53M Sep 26 11:45 '10.8-18C-BIAS50VDataDebug[1].dat.npy'\n",
      "-rw-r--r-- 1 dnajjar gu  53M Sep 26 11:45 '10.8-18C-BIAS50VDataDebug[2].dat.npy'\n",
      "-rw-r--r-- 1 dnajjar gu  53M Sep 26 11:45 '10.8-18C-BIAS50VDataDebug[3].dat.npy'\n",
      "-rw-r--r-- 1 dnajjar gu  64M Sep 26 11:47 '14.4-18C-BIAS50VDataDebug[0].dat.npy'\n",
      "-rw-r--r-- 1 dnajjar gu  64M Sep 26 11:47 '14.4-18C-BIAS50VDataDebug[1].dat.npy'\n",
      "-rw-r--r-- 1 dnajjar gu  64M Sep 26 11:47 '14.4-18C-BIAS50VDataDebug[2].dat.npy'\n",
      "-rw-r--r-- 1 dnajjar gu  64M Sep 26 11:47 '14.4-18C-BIAS50VDataDebug[3].dat.npy'\n",
      "-rw-r--r-- 1 dnajjar gu  45M Sep 26 11:52 '150-18C-BIAS50VDataDebug[0].dat.npy'\n",
      "-rw-r--r-- 1 dnajjar gu  45M Sep 26 11:52 '150-18C-BIAS50VDataDebug[1].dat.npy'\n",
      "-rw-r--r-- 1 dnajjar gu  45M Sep 26 11:52 '150-18C-BIAS50VDataDebug[2].dat.npy'\n",
      "-rw-r--r-- 1 dnajjar gu  45M Sep 26 11:52 '150-18C-BIAS50VDataDebug[3].dat.npy'\n",
      "-rw-r--r-- 1 dnajjar gu  59M Sep 26 11:50 '200-18C-BIAS50VDataDebug[0].dat.npy'\n",
      "-rw-r--r-- 1 dnajjar gu  59M Sep 26 11:50 '200-18C-BIAS50VDataDebug[1].dat.npy'\n",
      "-rw-r--r-- 1 dnajjar gu  59M Sep 26 11:50 '200-18C-BIAS50VDataDebug[2].dat.npy'\n",
      "-rw-r--r-- 1 dnajjar gu  59M Sep 26 11:50 '200-18C-BIAS50VDataDebug[3].dat.npy'\n",
      "-rw-r--r-- 1 dnajjar gu  30M Sep 26 11:44 '3.6-18C-BIAS50VDataDebug[0].dat.npy'\n",
      "-rw-r--r-- 1 dnajjar gu  30M Sep 26 11:44 '3.6-18C-BIAS50VDataDebug[1].dat.npy'\n",
      "-rw-r--r-- 1 dnajjar gu  30M Sep 26 11:44 '3.6-18C-BIAS50VDataDebug[2].dat.npy'\n",
      "-rw-r--r-- 1 dnajjar gu  30M Sep 26 11:44 '3.6-18C-BIAS50VDataDebug[3].dat.npy'\n",
      "-rw-r--r-- 1 dnajjar gu  17M Sep 26 11:53 '50-18C-BIAS50VDataDebug[0].dat.npy'\n",
      "-rw-r--r-- 1 dnajjar gu  17M Sep 26 11:53 '50-18C-BIAS50VDataDebug[1].dat.npy'\n",
      "-rw-r--r-- 1 dnajjar gu  17M Sep 26 11:53 '50-18C-BIAS50VDataDebug[2].dat.npy'\n",
      "-rw-r--r-- 1 dnajjar gu  17M Sep 26 11:53 '50-18C-BIAS50VDataDebug[3].dat.npy'\n",
      "-rw-r--r-- 1 dnajjar gu 226M Sep 26 11:49 '72.0-18C-BIAS50VDataDebug[0].dat.npy'\n",
      "-rw-r--r-- 1 dnajjar gu 226M Sep 26 11:49 '72.0-18C-BIAS50VDataDebug[1].dat.npy'\n",
      "-rw-r--r-- 1 dnajjar gu 226M Sep 26 11:49 '72.0-18C-BIAS50VDataDebug[2].dat.npy'\n",
      "-rw-r--r-- 1 dnajjar gu 226M Sep 26 11:49 '72.0-18C-BIAS50VDataDebug[3].dat.npy'\n",
      "-rw-r--r-- 1 dnajjar gu  43M Sep 26 11:45 '7.2-18C-BIAS50VDataDebug[0].dat.npy'\n",
      "-rw-r--r-- 1 dnajjar gu  43M Sep 26 11:45 '7.2-18C-BIAS50VDataDebug[1].dat.npy'\n",
      "-rw-r--r-- 1 dnajjar gu  43M Sep 26 11:45 '7.2-18C-BIAS50VDataDebug[2].dat.npy'\n",
      "-rw-r--r-- 1 dnajjar gu  43M Sep 26 11:45 '7.2-18C-BIAS50VDataDebug[3].dat.npy'\n",
      "-rw-r--r-- 1 dnajjar gu 3.1M Sep 26 11:55 'DARK3.6-18C-BIAS50VDataDebug[0].dat.npy'\n",
      "-rw-r--r-- 1 dnajjar gu 3.1M Sep 26 11:55 'DARK3.6-18C-BIAS50VDataDebug[1].dat.npy'\n",
      "-rw-r--r-- 1 dnajjar gu 3.1M Sep 26 11:55 'DARK3.6-18C-BIAS50VDataDebug[2].dat.npy'\n",
      "-rw-r--r-- 1 dnajjar gu 3.1M Sep 26 11:55 'DARK3.6-18C-BIAS50VDataDebug[3].dat.npy'\n"
     ]
    }
   ],
   "source": [
    "for i,j in enumerate(dataDebugArray):\n",
    "    np.save(\"acq/{}-14C-BIAS50V{}.dat\".format(intTime, j.name), j.getData())\n",
    "\n",
    "!ls -alh acq"
   ]
  },
  {
   "cell_type": "code",
   "execution_count": 39,
   "id": "8aa54db4-208f-48d6-8210-6dc2eb031718",
   "metadata": {},
   "outputs": [
    {
     "name": "stdout",
     "output_type": "stream",
     "text": [
      "total 118M\n",
      "drwxr-xr-x 2 dnajjar gu 4.0K Sep 26 11:44  .\n",
      "drwxr-xr-x 4 dnajjar gu 4.0K Sep 26 11:40  ..\n",
      "-rw-r--r-- 1 dnajjar gu  30M Sep 26 11:44 '3.6-18C-BIAS50VDataDebug[0].dat.npy'\n",
      "-rw-r--r-- 1 dnajjar gu  30M Sep 26 11:44 '3.6-18C-BIAS50VDataDebug[1].dat.npy'\n",
      "-rw-r--r-- 1 dnajjar gu  30M Sep 26 11:44 '3.6-18C-BIAS50VDataDebug[2].dat.npy'\n",
      "-rw-r--r-- 1 dnajjar gu  30M Sep 26 11:44 '3.6-18C-BIAS50VDataDebug[3].dat.npy'\n"
     ]
    }
   ],
   "source": [
    "!ls -alh acq"
   ]
  },
  {
   "cell_type": "code",
   "execution_count": 34,
   "id": "05f5d3d8-ca81-45dd-96a9-1ea1a334951a",
   "metadata": {},
   "outputs": [],
   "source": [
    "#!rm acq/*.*"
   ]
  },
  {
   "cell_type": "code",
   "execution_count": null,
   "id": "be649489-6958-4370-b9b4-0f8a5d115e7a",
   "metadata": {},
   "outputs": [],
   "source": []
  }
 ],
 "metadata": {
  "kernelspec": {
   "display_name": "Python 3 (ipykernel)",
   "language": "python",
   "name": "python3"
  },
  "language_info": {
   "codemirror_mode": {
    "name": "ipython",
    "version": 3
   },
   "file_extension": ".py",
   "mimetype": "text/x-python",
   "name": "python",
   "nbconvert_exporter": "python",
   "pygments_lexer": "ipython3",
   "version": "3.9.18"
  }
 },
 "nbformat": 4,
 "nbformat_minor": 5
}
