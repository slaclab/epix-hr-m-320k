{
 "cells": [
  {
   "cell_type": "markdown",
   "id": "b8dbf501-98d2-4bca-9a0d-59e2c2494eb5",
   "metadata": {},
   "source": [
    "# BASIC CONFIGURATIONS"
   ]
  },
  {
   "cell_type": "code",
   "execution_count": 1,
   "id": "410127dc-3b31-48bb-9d32-677c3b926767",
   "metadata": {},
   "outputs": [],
   "source": [
    "### Setup the library ###\n",
    "import pyrogue as pr\n",
    "import os, sys\n",
    "import matplotlib.pyplot as plt\n",
    "import time\n",
    "import datetime\n",
    "import numpy as np\n",
    "import math\n",
    "import pprint\n",
    "import inspect \n",
    "top_level=f'{os.getcwd()}/../'\n",
    "rootTopLevel = top_level+'script/'\n",
    "pr.addLibraryPath( rootTopLevel )\n",
    "\n",
    "import setupLibPaths\n",
    "\n",
    "import ePix320kM as devBoard\n",
    "\n",
    "args = None"
   ]
  },
  {
   "cell_type": "code",
   "execution_count": 2,
   "id": "1941bbb3-abba-4c12-ac3c-8497a31b17c0",
   "metadata": {
    "tags": []
   },
   "outputs": [
    {
     "name": "stdout",
     "output_type": "stream",
     "text": [
      "Root.Core.Si5345Pll.Page0.DataBlock.setPollInterval(1)\n",
      "Start: Started zmqServer on ports 9099-9101\n",
      "    To start a gui: python -m pyrogue gui --server='localhost:9099'\n",
      "    To use a virtual client: client = pyrogue.interfaces.VirtualClient(addr='localhost', port=9099)\n",
      "Root.Core.AxiVersion count reset called\n",
      "Root.pciePgp.AxiPcieCore.AxiVersion count reset called\n",
      "###################################################\n",
      "#             Firmware Version                    #\n",
      "###################################################\n",
      "Path         = Root.Core.AxiVersion\n",
      "FwVersion    = 0x1010700\n",
      "UpTime       = 0:11:39\n",
      "GitHash      = 0x2f1b66832357be5a2556464ebd4a39acfb5fd6f5\n",
      "XilinxDnaId  = 0x400200000139d7204c81a145\n",
      "FwTarget     = \"ePixHRM320k\n",
      "BuildEnv     = Vivado v2023.1\n",
      "BuildServer  = rdsrv314 (Ubuntu 20.04.6 LTS)\n",
      "BuildDate    = Tue 30 Apr 2024 05:22:30 PM PDT\n",
      "Builder      = dnajjar\"\n",
      "###################################################\n"
     ]
    }
   ],
   "source": [
    "# ONLY RUN ONCE!\n",
    "# Defining root\n",
    "# If crashes, make sure the deve is correct.\n",
    "root =  devBoard.Root(   \n",
    "        top_level  = top_level,\n",
    "        dev        = '/dev/datadev_1',\n",
    "        pollEn     = False,\n",
    "        initRead   = True,\n",
    "        pciePgpEn  = True,\n",
    "        justCtrl   = False,\n",
    "        DDebugSize = 4000)\n",
    "root.start()\n",
    "\n",
    "# example showing a read\n",
    "AxiVersion = root.Core.AxiVersion\n",
    "print ( '###################################################')\n",
    "print ( '#             Firmware Version                    #')\n",
    "print ( '###################################################')\n",
    "AxiVersion.printStatus()\n",
    "print ( '###################################################')"
   ]
  },
  {
   "cell_type": "code",
   "execution_count": 3,
   "id": "f5cc4633",
   "metadata": {},
   "outputs": [],
   "source": [
    "#Run this from a teminal in your localhost without the (!). If you run it here, it will open on rdsrv314 Jupyter server terminal and you won't see it.\n",
    "#!python -m pyrogue gui --server='localhost:9099'"
   ]
  },
  {
   "cell_type": "code",
   "execution_count": 4,
   "id": "9f53679e-4728-4f2d-9e94-48dbf32074c9",
   "metadata": {},
   "outputs": [
    {
     "name": "stdout",
     "output_type": "stream",
     "text": [
      "Rysync ASIC started\n",
      "Init ASIC script started\n",
      "Loading PLL configuration\n",
      "Loading supply configuration\n",
      "Loading /afs/slac.stanford.edu/g/controls/development/users/dnajjar/sandBox/epix-hr-m-320k/software/notebook/..//config/ePixHRM320k_PowerSupply_Enable.yml\n",
      "Loading lane delay configurations\n",
      "Loading /afs/slac.stanford.edu/g/controls/development/users/dnajjar/sandBox/epix-hr-m-320k/software/notebook/..//config/ePixHRM320k_75000018efb4ab01_SspMonGrp_carrier.yml\n",
      "Loading waveforms configuration\n",
      "Loading /afs/slac.stanford.edu/g/controls/development/users/dnajjar/sandBox/epix-hr-m-320k/software/notebook/..//config/ePixHRM320k_RegisterControl.yml\n",
      "Loading batcher configurations\n",
      "Loading /afs/slac.stanford.edu/g/controls/development/users/dnajjar/sandBox/epix-hr-m-320k/software/notebook/..//config/ePixHRM320k_BatcherEventBuilder.yml\n",
      "Loading packet register configurations\n",
      "Loading /afs/slac.stanford.edu/g/controls/development/users/dnajjar/sandBox/epix-hr-m-320k/software/notebook/..//config/ePixHRM320k_75000018efb4ab01_PacketRegisters.yml\n",
      "Taking asic off of reset\n",
      "Loading ASICs and timing configuration\n",
      "Loading /afs/slac.stanford.edu/g/controls/development/users/dnajjar/sandBox/epix-hr-m-320k/software/notebook/..//config/ePixHRM320k_75000018efb4ab01_ASIC_u1.yml\n",
      "Loading /afs/slac.stanford.edu/g/controls/development/users/dnajjar/sandBox/epix-hr-m-320k/software/notebook/..//config/ePixHRM320k_75000018efb4ab01_ASIC_u2.yml\n",
      "Loading /afs/slac.stanford.edu/g/controls/development/users/dnajjar/sandBox/epix-hr-m-320k/software/notebook/..//config/ePixHRM320k_75000018efb4ab01_ASIC_u3.yml\n",
      "Loading /afs/slac.stanford.edu/g/controls/development/users/dnajjar/sandBox/epix-hr-m-320k/software/notebook/..//config/ePixHRM320k_75000018efb4ab01_ASIC_u4.yml\n",
      "Initialization routine completed.\n",
      "Stop Triggers command executed\n",
      "Set Auto Trigger command executed\n",
      "Start Auto Trigger command executed\n",
      "Triggers sent: 2500\n",
      "Stop Triggers command executed\n",
      "Stop Triggers command executed\n",
      "Set Auto Trigger command executed\n",
      "Start Auto Trigger command executed\n",
      "Triggers sent: 2500\n",
      "Stop Triggers command executed\n",
      "Frames recieved from ASIC0 is 2500\n",
      "\u001b[92mASIC 0 lane adjustment done\u001b[0m\n",
      "Frames recieved from ASIC1 is 2500\n",
      "\u001b[92mASIC 1 lane adjustment done\u001b[0m\n",
      "Frames recieved from ASIC2 is 2500\n",
      "\u001b[92mASIC 2 lane adjustment done\u001b[0m\n",
      "Frames recieved from ASIC3 is 2500\n",
      "\u001b[92mASIC 3 lane adjustment done\u001b[0m\n",
      "ASIC lane adjustment completed successfully\n",
      "\u001b[1mDisabled lanes of asic 0 now is 0x0\u001b[0m\n",
      "\u001b[1mDisabled lanes of asic 1 now is 0x0\u001b[0m\n",
      "\u001b[1mDisabled lanes of asic 2 now is 0x0\u001b[0m\n",
      "\u001b[1mDisabled lanes of asic 3 now is 0x0\u001b[0m\n"
     ]
    }
   ],
   "source": [
    "# Configure clock to 168 MHz and configures all ASICS\n",
    "root.InitASIC([4,1,1,1,1])"
   ]
  },
  {
   "cell_type": "code",
   "execution_count": 5,
   "id": "6ec887b4-d759-4c0d-b4d0-da75afcb0865",
   "metadata": {},
   "outputs": [],
   "source": [
    "run helperFunctions.ipynb"
   ]
  },
  {
   "cell_type": "markdown",
   "id": "1fc63625-621b-4d19-a175-9c89cf32febb",
   "metadata": {},
   "source": [
    "# Transfer function"
   ]
  },
  {
   "cell_type": "code",
   "execution_count": 8,
   "id": "c5e9b307-89d7-4067-956e-ad2bc7957baf",
   "metadata": {},
   "outputs": [
    {
     "name": "stdout",
     "output_type": "stream",
     "text": [
      "100 Trigger sent\n",
      "\n",
      "Received 100 on DataDebug[0]\n",
      "Received 100 on DataDebug[1]\n",
      "Received 100 on DataDebug[2]\n",
      "Received 100 on DataDebug[3]\n"
     ]
    }
   ],
   "source": [
    "transferFunction(dataDebugArray=[DEBUG0, DEBUG1, DEBUG2, DEBUG3], enabledAsics=[0,1,2,3], stepSize=100e-9, \n",
    "                 totalInterval=12e-06, ledToAcq=0, ledPulseWidth=1.5e-6, runDaqWidth=2e-6, ledDelay=2e-6) "
   ]
  },
  {
   "cell_type": "code",
   "execution_count": null,
   "id": "673815ea-41d9-4f46-8dba-e0d70454aada",
   "metadata": {},
   "outputs": [],
   "source": []
  },
  {
   "cell_type": "code",
   "execution_count": null,
   "id": "9032c5bc-4519-429b-850e-cf52f08eea30",
   "metadata": {},
   "outputs": [],
   "source": []
  },
  {
   "cell_type": "code",
   "execution_count": null,
   "id": "a144b4e4-20de-4cb5-9e4b-19a0dd13e3d4",
   "metadata": {},
   "outputs": [],
   "source": []
  },
  {
   "cell_type": "code",
   "execution_count": null,
   "id": "d9891312-80e6-4ddc-8e12-744605109538",
   "metadata": {},
   "outputs": [],
   "source": []
  }
 ],
 "metadata": {
  "kernelspec": {
   "display_name": "Python 3 (ipykernel)",
   "language": "python",
   "name": "python3"
  },
  "language_info": {
   "codemirror_mode": {
    "name": "ipython",
    "version": 3
   },
   "file_extension": ".py",
   "mimetype": "text/x-python",
   "name": "python",
   "nbconvert_exporter": "python",
   "pygments_lexer": "ipython3",
   "version": "3.9.18"
  }
 },
 "nbformat": 4,
 "nbformat_minor": 5
}
