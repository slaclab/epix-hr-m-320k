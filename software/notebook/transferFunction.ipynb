{
 "cells": [
  {
   "cell_type": "markdown",
   "id": "b8dbf501-98d2-4bca-9a0d-59e2c2494eb5",
   "metadata": {},
   "source": [
    "# BASIC CONFIGURATIONS"
   ]
  },
  {
   "cell_type": "code",
   "execution_count": 4,
   "id": "410127dc-3b31-48bb-9d32-677c3b926767",
   "metadata": {},
   "outputs": [],
   "source": [
    "### Setup the library ###\n",
    "import pyrogue as pr\n",
    "import os, sys\n",
    "import matplotlib.pyplot as plt\n",
    "import time\n",
    "import datetime\n",
    "import numpy as np\n",
    "import math\n",
    "import pprint\n",
    "import inspect \n",
    "top_level=f'{os.getcwd()}/../'\n",
    "rootTopLevel = top_level+'script/'\n",
    "pr.addLibraryPath( rootTopLevel )\n",
    "\n",
    "import setupLibPaths\n",
    "\n",
    "import ePix320kM as devBoard\n",
    "\n",
    "args = None"
   ]
  },
  {
   "cell_type": "code",
   "execution_count": 5,
   "id": "1941bbb3-abba-4c12-ac3c-8497a31b17c0",
   "metadata": {
    "tags": []
   },
   "outputs": [
    {
     "name": "stdout",
     "output_type": "stream",
     "text": [
      "Root.Core.Si5345Pll.Page0.DataBlock.setPollInterval(1)\n",
      "Start: Started zmqServer on ports 9099-9101\n",
      "    To start a gui: python -m pyrogue gui --server='localhost:9099'\n",
      "    To use a virtual client: client = pyrogue.interfaces.VirtualClient(addr='localhost', port=9099)\n",
      "Root.Core.AxiVersion count reset called\n",
      "Root.pciePgp.AxiPcieCore.AxiVersion count reset called\n",
      "###################################################\n",
      "#             Firmware Version                    #\n",
      "###################################################\n",
      "Path         = Root.Core.AxiVersion\n",
      "FwVersion    = 0x1011000\n",
      "UpTime       = 15:01:38\n",
      "GitHash      = dirty (uncommitted code)\n",
      "XilinxDnaId  = 0x4002000001608a0624908185\n",
      "FwTarget     = ePixHRM320k\n",
      "BuildEnv     = Vivado v2023.1\n",
      "BuildServer  = rdsrv314 (Ubuntu 20.04.6 LTS)\n",
      "BuildDate    = Wed 25 Sep 2024 04:10:18 PM PDT\n",
      "Builder      = dnajjar\n",
      "###################################################\n"
     ]
    }
   ],
   "source": [
    "# ONLY RUN ONCE!\n",
    "# Defining root\n",
    "# If crashes, make sure the deve is correct.\n",
    "root =  devBoard.Root(   \n",
    "        top_level  = top_level,\n",
    "        dev        = '/dev/datadev_0',\n",
    "        pollEn     = False,\n",
    "        initRead   = True,\n",
    "        pciePgpEn  = True,\n",
    "        justCtrl   = False,\n",
    "        DDebugSize = 4000)\n",
    "root.start()\n",
    "\n",
    "# example showing a read\n",
    "AxiVersion = root.Core.AxiVersion\n",
    "print ( '###################################################')\n",
    "print ( '#             Firmware Version                    #')\n",
    "print ( '###################################################')\n",
    "AxiVersion.printStatus()\n",
    "print ( '###################################################')"
   ]
  },
  {
   "cell_type": "code",
   "execution_count": 6,
   "id": "f5cc4633",
   "metadata": {},
   "outputs": [],
   "source": [
    "#Run this from a teminal in your localhost without the (!). If you run it here, it will open on rdsrv314 Jupyter server terminal and you won't see it.\n",
    "#!python -m pyrogue gui --server='localhost:9099'"
   ]
  },
  {
   "cell_type": "code",
   "execution_count": 7,
   "id": "9f53679e-4728-4f2d-9e94-48dbf32074c9",
   "metadata": {},
   "outputs": [
    {
     "name": "stdout",
     "output_type": "stream",
     "text": [
      "Rysync ASIC started\n",
      "Did not find SspMonGrp_carrier file. Using generic.\n",
      "Did not find SspMonGrp_carrier file. Using generic.\n",
      "Did not find specific ASIC1 file. Using generic.\n",
      "Did not find specific ASIC2 file. Using generic.\n",
      "Did not find specific ASIC3 file. Using generic.\n",
      "Did not find specific ASIC4 file. Using generic.\n",
      "Init ASIC script started\n",
      "Loading PLL configuration\n",
      "Loading supply configuration\n",
      "Loading /home/dnajjar/epix-hr-m-320k-ila-bad-lanes/software/notebook/..//config/ePixHRM320k_PowerSupply_Enable.yml\n",
      "Loading lane delay configurations\n",
      "Loading /home/dnajjar/epix-hr-m-320k-ila-bad-lanes/software/notebook/..//config/ePixHRM320k_SspMonGrp_carrier.yml\n",
      "Loading waveforms configuration\n",
      "Loading /home/dnajjar/epix-hr-m-320k-ila-bad-lanes/software/notebook/..//config/ePixHRM320k_RegisterControl.yml\n",
      "Loading batcher configurations\n",
      "Loading /home/dnajjar/epix-hr-m-320k-ila-bad-lanes/software/notebook/..//config/ePixHRM320k_BatcherEventBuilder.yml\n",
      "Loading packet register configurations\n",
      "Loading /home/dnajjar/epix-hr-m-320k-ila-bad-lanes/software/notebook/..//config/ePixHRM320k_PacketRegisters.yml\n",
      "Taking asic off of reset\n",
      "Loading ASICs and timing configuration\n",
      "Loading /home/dnajjar/epix-hr-m-320k-ila-bad-lanes/software/notebook/..//config/ePixHRM320k_ASIC_u1.yml\n",
      "Loading /home/dnajjar/epix-hr-m-320k-ila-bad-lanes/software/notebook/..//config/ePixHRM320k_ASIC_u2.yml\n",
      "Loading /home/dnajjar/epix-hr-m-320k-ila-bad-lanes/software/notebook/..//config/ePixHRM320k_ASIC_u3.yml\n",
      "Loading /home/dnajjar/epix-hr-m-320k-ila-bad-lanes/software/notebook/..//config/ePixHRM320k_ASIC_u4.yml\n",
      "Initialization routine completed.\n",
      "Enabling batcher 0\n",
      "Enabling batcher 1\n",
      "Enabling batcher 2\n",
      "Enabling batcher 3\n",
      "Stop Triggers command executed\n",
      "Set Auto Trigger command executed\n",
      "Start Auto Trigger command executed\n",
      "Triggers sent: 2500\n",
      "Stop Triggers command executed\n",
      "Stop Triggers command executed\n",
      "Set Auto Trigger command executed\n",
      "Start Auto Trigger command executed\n",
      "Triggers sent: 2500\n",
      "Stop Triggers command executed\n",
      "Frames recieved from ASIC0 is 2500\n",
      "\u001b[92mASIC 0 lane adjustment done\u001b[0m\n",
      "Frames recieved from ASIC1 is 2500\n",
      "\u001b[92mASIC 1 lane adjustment done\u001b[0m\n",
      "Frames recieved from ASIC2 is 2500\n",
      "\u001b[92mASIC 2 lane adjustment done\u001b[0m\n",
      "Frames recieved from ASIC3 is 2500\n",
      "\u001b[92mASIC 3 lane adjustment done\u001b[0m\n",
      "ASIC lane adjustment completed successfully\n",
      "\u001b[1mDisabled lanes of asic 0 now is 0x0\u001b[0m\n",
      "\u001b[1mDisabled lanes of asic 1 now is 0x0\u001b[0m\n",
      "\u001b[1mDisabled lanes of asic 2 now is 0x0\u001b[0m\n",
      "\u001b[1mDisabled lanes of asic 3 now is 0x0\u001b[0m\n"
     ]
    }
   ],
   "source": [
    "# Configure clock to 168 MHz and configures all ASICS\n",
    "root.InitASIC([4,1,1,1,1])"
   ]
  },
  {
   "cell_type": "code",
   "execution_count": 53,
   "id": "6ec887b4-d759-4c0d-b4d0-da75afcb0865",
   "metadata": {},
   "outputs": [],
   "source": [
    "run helperFunctions.ipynb"
   ]
  },
  {
   "cell_type": "markdown",
   "id": "1fc63625-621b-4d19-a175-9c89cf32febb",
   "metadata": {},
   "source": [
    "# Transfer function"
   ]
  },
  {
   "cell_type": "code",
   "execution_count": 60,
   "id": "d1e1f822-64a4-47eb-aa73-45f8b4bdc0b6",
   "metadata": {},
   "outputs": [
    {
     "name": "stdout",
     "output_type": "stream",
     "text": [
      "R0 Width set to 7.200uS\n",
      "R0 Delay set to 0.064uS\n",
      "Acq1 Width set to 3.597uS\n",
      "Acq1 Delay set to 3.661uS\n",
      "-------------------------\n",
      "Acq width = 562 ticks\n",
      "Acq delay = 572 ticks\n",
      "R0  width = 1125 ticks\n",
      "R0  delay = 10 ticks\n",
      "-------------------------\n",
      "Acq width + delay = 1134\n",
      "R0 width + delay = 1135\n",
      "-------------------------\n",
      "SR0 acceptable delay > 1\n",
      "SR0 acceptable width > 31585 and less than 32379 for SR0 delay of 1\n",
      "-------------------------\n",
      "Baseline time:    3.5968 uS\n",
      "Integration time: 3.5968 uS\n",
      "Sampling done at: 7.2576 uS\n"
     ]
    }
   ],
   "source": [
    "intTime = 3.6\n",
    "calculateWaveforms(intTime = int(intTime*156.25), startTime = 10, R0AfterAcq = 1)"
   ]
  },
  {
   "cell_type": "code",
   "execution_count": 61,
   "id": "c5e9b307-89d7-4067-956e-ad2bc7957baf",
   "metadata": {},
   "outputs": [
    {
     "name": "stdout",
     "output_type": "stream",
     "text": [
      "ledRE2AcqRE larger than maximum permitted delay 4.7236e-06. Forcing to 0\n",
      "AcqREStart=4.7236e-06, AcqWidth=3.5968e-06, ledREStart=0, ledREFinish=1.0320399999999999e-05\n",
      "21 Trigger sent\n",
      "\n",
      "Received 21 on DataDebug[0]\n",
      "Received 21 on DataDebug[1]\n",
      "Received 21 on DataDebug[2]\n",
      "Received 21 on DataDebug[3]\n"
     ]
    },
    {
     "data": {
      "text/plain": [
       "[0,\n",
       " 5e-07,\n",
       " 1e-06,\n",
       " 1.5e-06,\n",
       " 2e-06,\n",
       " 2.4999999999999998e-06,\n",
       " 2.9999999999999997e-06,\n",
       " 3.4999999999999995e-06,\n",
       " 4e-06,\n",
       " 4.5e-06,\n",
       " 5e-06,\n",
       " 5.500000000000001e-06,\n",
       " 6.000000000000001e-06,\n",
       " 6.500000000000001e-06,\n",
       " 7.000000000000002e-06,\n",
       " 7.500000000000002e-06,\n",
       " 8.000000000000001e-06,\n",
       " 8.500000000000002e-06,\n",
       " 9.000000000000002e-06,\n",
       " 9.500000000000002e-06,\n",
       " 1.0000000000000003e-05,\n",
       " 0,\n",
       " 0,\n",
       " 0,\n",
       " 0,\n",
       " 0,\n",
       " 0,\n",
       " 0,\n",
       " 0,\n",
       " 0]"
      ]
     },
     "execution_count": 61,
     "metadata": {},
     "output_type": "execute_result"
    }
   ],
   "source": [
    "dataDebugArray=[DEBUG0, DEBUG1, DEBUG2, DEBUG3]\n",
    "transferFunction(dataDebugArray=dataDebugArray, enabledAsics=[0,1,2,3], stepSize=0.5e-6, \n",
    "                     ledRE2AcqRE=6e-6, acqFE2LedRE=2e-6, ledPulseWidth=5.5e-6, ledPulseAmplitude=4) "
   ]
  },
  {
   "cell_type": "code",
   "execution_count": 62,
   "id": "35b602c1-51a8-4078-af45-df8de3255473",
   "metadata": {},
   "outputs": [],
   "source": [
    "for i,j in enumerate(dataDebugArray):\n",
    "    np.save(\"acq/22C/DARK{}-22C-BIAS50V{}\".format(intTime, j.name), j.getData())\n"
   ]
  },
  {
   "cell_type": "code",
   "execution_count": 17,
   "id": "8aa54db4-208f-48d6-8210-6dc2eb031718",
   "metadata": {},
   "outputs": [
    {
     "ename": "OSError",
     "evalue": "[Errno 12] Cannot allocate memory",
     "output_type": "error",
     "traceback": [
      "\u001b[0;31m---------------------------------------------------------------------------\u001b[0m",
      "\u001b[0;31mOSError\u001b[0m                                   Traceback (most recent call last)",
      "Cell \u001b[0;32mIn[17], line 1\u001b[0m\n\u001b[0;32m----> 1\u001b[0m \u001b[43mget_ipython\u001b[49m\u001b[43m(\u001b[49m\u001b[43m)\u001b[49m\u001b[38;5;241;43m.\u001b[39;49m\u001b[43msystem\u001b[49m\u001b[43m(\u001b[49m\u001b[38;5;124;43m'\u001b[39;49m\u001b[38;5;124;43mls -alh\u001b[39;49m\u001b[38;5;124;43m'\u001b[39;49m\u001b[43m)\u001b[49m\n",
      "File \u001b[0;32m/u/gu/dnajjar/.conda/envs/rogue6_jupyter/lib/python3.9/site-packages/ipykernel/zmqshell.py:657\u001b[0m, in \u001b[0;36mZMQInteractiveShell.system_piped\u001b[0;34m(self, cmd)\u001b[0m\n\u001b[1;32m    655\u001b[0m         \u001b[38;5;28mself\u001b[39m\u001b[38;5;241m.\u001b[39muser_ns[\u001b[38;5;124m\"\u001b[39m\u001b[38;5;124m_exit_code\u001b[39m\u001b[38;5;124m\"\u001b[39m] \u001b[38;5;241m=\u001b[39m system(cmd)\n\u001b[1;32m    656\u001b[0m \u001b[38;5;28;01melse\u001b[39;00m:\n\u001b[0;32m--> 657\u001b[0m     \u001b[38;5;28mself\u001b[39m\u001b[38;5;241m.\u001b[39muser_ns[\u001b[38;5;124m\"\u001b[39m\u001b[38;5;124m_exit_code\u001b[39m\u001b[38;5;124m\"\u001b[39m] \u001b[38;5;241m=\u001b[39m \u001b[43msystem\u001b[49m\u001b[43m(\u001b[49m\u001b[38;5;28;43mself\u001b[39;49m\u001b[38;5;241;43m.\u001b[39;49m\u001b[43mvar_expand\u001b[49m\u001b[43m(\u001b[49m\u001b[43mcmd\u001b[49m\u001b[43m,\u001b[49m\u001b[43m \u001b[49m\u001b[43mdepth\u001b[49m\u001b[38;5;241;43m=\u001b[39;49m\u001b[38;5;241;43m1\u001b[39;49m\u001b[43m)\u001b[49m\u001b[43m)\u001b[49m\n",
      "File \u001b[0;32m/u/gu/dnajjar/.conda/envs/rogue6_jupyter/lib/python3.9/site-packages/IPython/utils/_process_posix.py:148\u001b[0m, in \u001b[0;36mProcessHandler.system\u001b[0;34m(self, cmd)\u001b[0m\n\u001b[1;32m    146\u001b[0m     child \u001b[38;5;241m=\u001b[39m pexpect\u001b[38;5;241m.\u001b[39mspawnb(\u001b[38;5;28mself\u001b[39m\u001b[38;5;241m.\u001b[39msh, args\u001b[38;5;241m=\u001b[39m[\u001b[38;5;124m'\u001b[39m\u001b[38;5;124m-c\u001b[39m\u001b[38;5;124m'\u001b[39m, cmd]) \u001b[38;5;66;03m# Pexpect-U\u001b[39;00m\n\u001b[1;32m    147\u001b[0m \u001b[38;5;28;01melse\u001b[39;00m:\n\u001b[0;32m--> 148\u001b[0m     child \u001b[38;5;241m=\u001b[39m \u001b[43mpexpect\u001b[49m\u001b[38;5;241;43m.\u001b[39;49m\u001b[43mspawn\u001b[49m\u001b[43m(\u001b[49m\u001b[38;5;28;43mself\u001b[39;49m\u001b[38;5;241;43m.\u001b[39;49m\u001b[43msh\u001b[49m\u001b[43m,\u001b[49m\u001b[43m \u001b[49m\u001b[43margs\u001b[49m\u001b[38;5;241;43m=\u001b[39;49m\u001b[43m[\u001b[49m\u001b[38;5;124;43m'\u001b[39;49m\u001b[38;5;124;43m-c\u001b[39;49m\u001b[38;5;124;43m'\u001b[39;49m\u001b[43m,\u001b[49m\u001b[43m \u001b[49m\u001b[43mcmd\u001b[49m\u001b[43m]\u001b[49m\u001b[43m)\u001b[49m  \u001b[38;5;66;03m# Vanilla Pexpect\u001b[39;00m\n\u001b[1;32m    149\u001b[0m flush \u001b[38;5;241m=\u001b[39m sys\u001b[38;5;241m.\u001b[39mstdout\u001b[38;5;241m.\u001b[39mflush\n\u001b[1;32m    150\u001b[0m \u001b[38;5;28;01mwhile\u001b[39;00m \u001b[38;5;28;01mTrue\u001b[39;00m:\n\u001b[1;32m    151\u001b[0m     \u001b[38;5;66;03m# res is the index of the pattern that caused the match, so we\u001b[39;00m\n\u001b[1;32m    152\u001b[0m     \u001b[38;5;66;03m# know whether we've finished (if we matched EOF) or not\u001b[39;00m\n",
      "File \u001b[0;32m/u/gu/dnajjar/.conda/envs/rogue6_jupyter/lib/python3.9/site-packages/pexpect/pty_spawn.py:205\u001b[0m, in \u001b[0;36mspawn.__init__\u001b[0;34m(self, command, args, timeout, maxread, searchwindowsize, logfile, cwd, env, ignore_sighup, echo, preexec_fn, encoding, codec_errors, dimensions, use_poll)\u001b[0m\n\u001b[1;32m    203\u001b[0m     \u001b[38;5;28mself\u001b[39m\u001b[38;5;241m.\u001b[39mname \u001b[38;5;241m=\u001b[39m \u001b[38;5;124m'\u001b[39m\u001b[38;5;124m<pexpect factory incomplete>\u001b[39m\u001b[38;5;124m'\u001b[39m\n\u001b[1;32m    204\u001b[0m \u001b[38;5;28;01melse\u001b[39;00m:\n\u001b[0;32m--> 205\u001b[0m     \u001b[38;5;28;43mself\u001b[39;49m\u001b[38;5;241;43m.\u001b[39;49m\u001b[43m_spawn\u001b[49m\u001b[43m(\u001b[49m\u001b[43mcommand\u001b[49m\u001b[43m,\u001b[49m\u001b[43m \u001b[49m\u001b[43margs\u001b[49m\u001b[43m,\u001b[49m\u001b[43m \u001b[49m\u001b[43mpreexec_fn\u001b[49m\u001b[43m,\u001b[49m\u001b[43m \u001b[49m\u001b[43mdimensions\u001b[49m\u001b[43m)\u001b[49m\n\u001b[1;32m    206\u001b[0m \u001b[38;5;28mself\u001b[39m\u001b[38;5;241m.\u001b[39muse_poll \u001b[38;5;241m=\u001b[39m use_poll\n",
      "File \u001b[0;32m/u/gu/dnajjar/.conda/envs/rogue6_jupyter/lib/python3.9/site-packages/pexpect/pty_spawn.py:303\u001b[0m, in \u001b[0;36mspawn._spawn\u001b[0;34m(self, command, args, preexec_fn, dimensions)\u001b[0m\n\u001b[1;32m    298\u001b[0m \u001b[38;5;28;01mif\u001b[39;00m \u001b[38;5;28mself\u001b[39m\u001b[38;5;241m.\u001b[39mencoding \u001b[38;5;129;01mis\u001b[39;00m \u001b[38;5;129;01mnot\u001b[39;00m \u001b[38;5;28;01mNone\u001b[39;00m:\n\u001b[1;32m    299\u001b[0m     \u001b[38;5;66;03m# Encode command line using the specified encoding\u001b[39;00m\n\u001b[1;32m    300\u001b[0m     \u001b[38;5;28mself\u001b[39m\u001b[38;5;241m.\u001b[39margs \u001b[38;5;241m=\u001b[39m [a \u001b[38;5;28;01mif\u001b[39;00m \u001b[38;5;28misinstance\u001b[39m(a, \u001b[38;5;28mbytes\u001b[39m) \u001b[38;5;28;01melse\u001b[39;00m a\u001b[38;5;241m.\u001b[39mencode(\u001b[38;5;28mself\u001b[39m\u001b[38;5;241m.\u001b[39mencoding)\n\u001b[1;32m    301\u001b[0m                  \u001b[38;5;28;01mfor\u001b[39;00m a \u001b[38;5;129;01min\u001b[39;00m \u001b[38;5;28mself\u001b[39m\u001b[38;5;241m.\u001b[39margs]\n\u001b[0;32m--> 303\u001b[0m \u001b[38;5;28mself\u001b[39m\u001b[38;5;241m.\u001b[39mptyproc \u001b[38;5;241m=\u001b[39m \u001b[38;5;28;43mself\u001b[39;49m\u001b[38;5;241;43m.\u001b[39;49m\u001b[43m_spawnpty\u001b[49m\u001b[43m(\u001b[49m\u001b[38;5;28;43mself\u001b[39;49m\u001b[38;5;241;43m.\u001b[39;49m\u001b[43margs\u001b[49m\u001b[43m,\u001b[49m\u001b[43m \u001b[49m\u001b[43menv\u001b[49m\u001b[38;5;241;43m=\u001b[39;49m\u001b[38;5;28;43mself\u001b[39;49m\u001b[38;5;241;43m.\u001b[39;49m\u001b[43menv\u001b[49m\u001b[43m,\u001b[49m\n\u001b[1;32m    304\u001b[0m \u001b[43m                             \u001b[49m\u001b[43mcwd\u001b[49m\u001b[38;5;241;43m=\u001b[39;49m\u001b[38;5;28;43mself\u001b[39;49m\u001b[38;5;241;43m.\u001b[39;49m\u001b[43mcwd\u001b[49m\u001b[43m,\u001b[49m\u001b[43m \u001b[49m\u001b[38;5;241;43m*\u001b[39;49m\u001b[38;5;241;43m*\u001b[39;49m\u001b[43mkwargs\u001b[49m\u001b[43m)\u001b[49m\n\u001b[1;32m    306\u001b[0m \u001b[38;5;28mself\u001b[39m\u001b[38;5;241m.\u001b[39mpid \u001b[38;5;241m=\u001b[39m \u001b[38;5;28mself\u001b[39m\u001b[38;5;241m.\u001b[39mptyproc\u001b[38;5;241m.\u001b[39mpid\n\u001b[1;32m    307\u001b[0m \u001b[38;5;28mself\u001b[39m\u001b[38;5;241m.\u001b[39mchild_fd \u001b[38;5;241m=\u001b[39m \u001b[38;5;28mself\u001b[39m\u001b[38;5;241m.\u001b[39mptyproc\u001b[38;5;241m.\u001b[39mfd\n",
      "File \u001b[0;32m/u/gu/dnajjar/.conda/envs/rogue6_jupyter/lib/python3.9/site-packages/pexpect/pty_spawn.py:315\u001b[0m, in \u001b[0;36mspawn._spawnpty\u001b[0;34m(self, args, **kwargs)\u001b[0m\n\u001b[1;32m    313\u001b[0m \u001b[38;5;28;01mdef\u001b[39;00m \u001b[38;5;21m_spawnpty\u001b[39m(\u001b[38;5;28mself\u001b[39m, args, \u001b[38;5;241m*\u001b[39m\u001b[38;5;241m*\u001b[39mkwargs):\n\u001b[1;32m    314\u001b[0m \u001b[38;5;250m    \u001b[39m\u001b[38;5;124;03m'''Spawn a pty and return an instance of PtyProcess.'''\u001b[39;00m\n\u001b[0;32m--> 315\u001b[0m     \u001b[38;5;28;01mreturn\u001b[39;00m \u001b[43mptyprocess\u001b[49m\u001b[38;5;241;43m.\u001b[39;49m\u001b[43mPtyProcess\u001b[49m\u001b[38;5;241;43m.\u001b[39;49m\u001b[43mspawn\u001b[49m\u001b[43m(\u001b[49m\u001b[43margs\u001b[49m\u001b[43m,\u001b[49m\u001b[43m \u001b[49m\u001b[38;5;241;43m*\u001b[39;49m\u001b[38;5;241;43m*\u001b[39;49m\u001b[43mkwargs\u001b[49m\u001b[43m)\u001b[49m\n",
      "File \u001b[0;32m/u/gu/dnajjar/.conda/envs/rogue6_jupyter/lib/python3.9/site-packages/ptyprocess/ptyprocess.py:230\u001b[0m, in \u001b[0;36mPtyProcess.spawn\u001b[0;34m(cls, argv, cwd, env, echo, preexec_fn, dimensions, pass_fds)\u001b[0m\n\u001b[1;32m    227\u001b[0m exec_err_pipe_read, exec_err_pipe_write \u001b[38;5;241m=\u001b[39m os\u001b[38;5;241m.\u001b[39mpipe()\n\u001b[1;32m    229\u001b[0m \u001b[38;5;28;01mif\u001b[39;00m use_native_pty_fork:\n\u001b[0;32m--> 230\u001b[0m     pid, fd \u001b[38;5;241m=\u001b[39m \u001b[43mpty\u001b[49m\u001b[38;5;241;43m.\u001b[39;49m\u001b[43mfork\u001b[49m\u001b[43m(\u001b[49m\u001b[43m)\u001b[49m\n\u001b[1;32m    231\u001b[0m \u001b[38;5;28;01melse\u001b[39;00m:\n\u001b[1;32m    232\u001b[0m     \u001b[38;5;66;03m# Use internal fork_pty, for Solaris\u001b[39;00m\n\u001b[1;32m    233\u001b[0m     pid, fd \u001b[38;5;241m=\u001b[39m _fork_pty\u001b[38;5;241m.\u001b[39mfork_pty()\n",
      "File \u001b[0;32m/u/gu/dnajjar/.conda/envs/rogue6_jupyter/lib/python3.9/pty.py:98\u001b[0m, in \u001b[0;36mfork\u001b[0;34m()\u001b[0m\n\u001b[1;32m     95\u001b[0m     \u001b[38;5;28;01mreturn\u001b[39;00m pid, fd\n\u001b[1;32m     97\u001b[0m master_fd, slave_fd \u001b[38;5;241m=\u001b[39m openpty()\n\u001b[0;32m---> 98\u001b[0m pid \u001b[38;5;241m=\u001b[39m \u001b[43mos\u001b[49m\u001b[38;5;241;43m.\u001b[39;49m\u001b[43mfork\u001b[49m\u001b[43m(\u001b[49m\u001b[43m)\u001b[49m\n\u001b[1;32m     99\u001b[0m \u001b[38;5;28;01mif\u001b[39;00m pid \u001b[38;5;241m==\u001b[39m CHILD:\n\u001b[1;32m    100\u001b[0m     \u001b[38;5;66;03m# Establish a new session.\u001b[39;00m\n\u001b[1;32m    101\u001b[0m     os\u001b[38;5;241m.\u001b[39msetsid()\n",
      "\u001b[0;31mOSError\u001b[0m: [Errno 12] Cannot allocate memory"
     ]
    }
   ],
   "source": [
    "!ls -alh"
   ]
  },
  {
   "cell_type": "code",
   "execution_count": 34,
   "id": "05f5d3d8-ca81-45dd-96a9-1ea1a334951a",
   "metadata": {},
   "outputs": [],
   "source": [
    "#!rm acq/*.*"
   ]
  },
  {
   "cell_type": "code",
   "execution_count": 2,
   "id": "be649489-6958-4370-b9b4-0f8a5d115e7a",
   "metadata": {},
   "outputs": [],
   "source": [
    "! mkdir acq/14C\n"
   ]
  },
  {
   "cell_type": "code",
   "execution_count": null,
   "id": "2ac7ce58-a42a-4610-bfd4-b1287c91b8e8",
   "metadata": {},
   "outputs": [],
   "source": []
  }
 ],
 "metadata": {
  "kernelspec": {
   "display_name": "Python 3 (ipykernel)",
   "language": "python",
   "name": "python3"
  },
  "language_info": {
   "codemirror_mode": {
    "name": "ipython",
    "version": 3
   },
   "file_extension": ".py",
   "mimetype": "text/x-python",
   "name": "python",
   "nbconvert_exporter": "python",
   "pygments_lexer": "ipython3",
   "version": "3.9.18"
  }
 },
 "nbformat": 4,
 "nbformat_minor": 5
}
