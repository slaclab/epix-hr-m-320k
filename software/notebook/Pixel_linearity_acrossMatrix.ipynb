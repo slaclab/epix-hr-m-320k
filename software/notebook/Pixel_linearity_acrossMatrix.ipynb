{
 "cells": [
  {
   "cell_type": "markdown",
   "id": "b8dbf501-98d2-4bca-9a0d-59e2c2494eb5",
   "metadata": {},
   "source": [
    "# Initialize system"
   ]
  },
  {
   "cell_type": "code",
   "execution_count": 1,
   "id": "410127dc-3b31-48bb-9d32-677c3b926767",
   "metadata": {},
   "outputs": [
    {
     "name": "stdout",
     "output_type": "stream",
     "text": [
      "Root.Core.Si5345Pll.Page0.DataBlock.setPollInterval(1)\n",
      "Start: Started zmqServer on ports 9099-9101\n",
      "    To start a gui: python -m pyrogue gui --server='localhost:9099'\n",
      "    To use a virtual client: client = pyrogue.interfaces.VirtualClient(addr='localhost', port=9099)\n",
      "Root.Core.AxiVersion count reset called\n",
      "###################################################\n",
      "#             Firmware Version                    #\n",
      "###################################################\n",
      "Path         = Root.Core.AxiVersion\n",
      "FwVersion    = 0x1000300\n",
      "UpTime       = 13 days, 9:04:30\n",
      "GitHash      = 0x9550c2a95f7e334393e52bfde914e26fb20f11b8\n",
      "XilinxDnaId  = 0x400200000139d7204c81a145\n",
      "FwTarget     = ePixHRM320k\n",
      "BuildEnv     = Vivado v2023.1\n",
      "BuildServer  = rdsrv314 (Ubuntu 20.04.6 LTS)\n",
      "BuildDate    = Wed 17 Jan 2024 11:42:17 PM PST\n",
      "Builder      = dnajjar\n",
      "###################################################\n"
     ]
    }
   ],
   "source": [
    "### Setup the library ###\n",
    "import pyrogue as pr\n",
    "import os, sys\n",
    "import matplotlib.pyplot as plt\n",
    "import time\n",
    "import datetime\n",
    "import numpy as np\n",
    "import math\n",
    "import pprint\n",
    "import inspect \n",
    "top_level=f'{os.getcwd()}/../'\n",
    "rootTopLevel = top_level+'script/'\n",
    "pr.addLibraryPath( rootTopLevel )\n",
    "\n",
    "import setupLibPaths\n",
    "\n",
    "import ePix320kM as devBoard\n",
    "\n",
    "args = None\n",
    "\n",
    "# ONLY RUN ONCE!\n",
    "# Defining root\n",
    "# If crashes, make sure the deve is correct.\n",
    "root =  devBoard.Root(   \n",
    "        top_level  = top_level,\n",
    "        dev        = '/dev/datadev_1',\n",
    "        pollEn     = False,\n",
    "        initRead   = True,\n",
    "        pciePgpEn  = False,\n",
    "        justCtrl   = False)\n",
    "root.start()\n",
    "\n",
    "# example showing a read\n",
    "AxiVersion = root.Core.AxiVersion\n",
    "print ( '###################################################')\n",
    "print ( '#             Firmware Version                    #')\n",
    "print ( '###################################################')\n",
    "AxiVersion.printStatus()\n",
    "print ( '###################################################')"
   ]
  },
  {
   "cell_type": "code",
   "execution_count": 6,
   "id": "43ed4f16",
   "metadata": {},
   "outputs": [
    {
     "ename": "GeneralError",
     "evalue": "AxiStreamDma::AxiStreamDma: General Error: Failed to open device file /dev/datadev_0 with dest 0x0! Another process may already have it open!",
     "output_type": "error",
     "traceback": [
      "\u001b[0;31m---------------------------------------------------------------------------\u001b[0m",
      "\u001b[0;31mGeneralError\u001b[0m                              Traceback (most recent call last)",
      "Cell \u001b[0;32mIn[6], line 3\u001b[0m\n\u001b[1;32m      1\u001b[0m \u001b[38;5;66;03m# ONLY RUN ONCE!\u001b[39;00m\n\u001b[1;32m      2\u001b[0m \u001b[38;5;66;03m# Defining root\u001b[39;00m\n\u001b[0;32m----> 3\u001b[0m root \u001b[38;5;241m=\u001b[39m  \u001b[43mdevBoard\u001b[49m\u001b[38;5;241;43m.\u001b[39;49m\u001b[43mRoot\u001b[49m\u001b[43m(\u001b[49m\u001b[43m   \u001b[49m\n\u001b[1;32m      4\u001b[0m \u001b[43m        \u001b[49m\u001b[43mtop_level\u001b[49m\u001b[43m  \u001b[49m\u001b[38;5;241;43m=\u001b[39;49m\u001b[43m \u001b[49m\u001b[43mrootTopLevel\u001b[49m\u001b[43m,\u001b[49m\n\u001b[1;32m      5\u001b[0m \u001b[43m        \u001b[49m\u001b[43mdev\u001b[49m\u001b[43m        \u001b[49m\u001b[38;5;241;43m=\u001b[39;49m\u001b[43m \u001b[49m\u001b[38;5;124;43m'\u001b[39;49m\u001b[38;5;124;43m/dev/datadev_0\u001b[39;49m\u001b[38;5;124;43m'\u001b[39;49m\u001b[43m,\u001b[49m\n\u001b[1;32m      6\u001b[0m \u001b[43m        \u001b[49m\u001b[43mpollEn\u001b[49m\u001b[43m     \u001b[49m\u001b[38;5;241;43m=\u001b[39;49m\u001b[43m \u001b[49m\u001b[38;5;28;43;01mFalse\u001b[39;49;00m\u001b[43m,\u001b[49m\n\u001b[1;32m      7\u001b[0m \u001b[43m        \u001b[49m\u001b[43minitRead\u001b[49m\u001b[43m   \u001b[49m\u001b[38;5;241;43m=\u001b[39;49m\u001b[43m \u001b[49m\u001b[38;5;28;43;01mTrue\u001b[39;49;00m\u001b[43m,\u001b[49m\n\u001b[1;32m      8\u001b[0m \u001b[43m        \u001b[49m\u001b[43mserverPort\u001b[49m\u001b[43m \u001b[49m\u001b[38;5;241;43m=\u001b[39;49m\u001b[43m \u001b[49m\u001b[38;5;241;43m9099\u001b[39;49m\u001b[43m)\u001b[49m\n\u001b[1;32m      9\u001b[0m root\u001b[38;5;241m.\u001b[39mstart()\n\u001b[1;32m     11\u001b[0m \u001b[38;5;66;03m# example showing a read\u001b[39;00m\n",
      "File \u001b[0;32m/u1/lorenzor/epix-hr-m-320k/firmware/python/ePix320kM/_Root.py:205\u001b[0m, in \u001b[0;36mRoot.__init__\u001b[0;34m(self, top_level, dev, pollEn, initRead, promProg, **kwargs)\u001b[0m\n\u001b[1;32m    203\u001b[0m \u001b[38;5;66;03m# # Map the DMA streams\u001b[39;00m\n\u001b[1;32m    204\u001b[0m \u001b[38;5;28;01mfor\u001b[39;00m lane \u001b[38;5;129;01min\u001b[39;00m \u001b[38;5;28mrange\u001b[39m(\u001b[38;5;28mself\u001b[39m\u001b[38;5;241m.\u001b[39mnumOfAsics):\n\u001b[0;32m--> 205\u001b[0m     \u001b[38;5;28mself\u001b[39m\u001b[38;5;241m.\u001b[39mdataStream[lane] \u001b[38;5;241m=\u001b[39m \u001b[43mrogue\u001b[49m\u001b[38;5;241;43m.\u001b[39;49m\u001b[43mhardware\u001b[49m\u001b[38;5;241;43m.\u001b[39;49m\u001b[43maxi\u001b[49m\u001b[38;5;241;43m.\u001b[39;49m\u001b[43mAxiStreamDma\u001b[49m\u001b[43m(\u001b[49m\u001b[43mdev\u001b[49m\u001b[43m,\u001b[49m\u001b[43m \u001b[49m\u001b[38;5;241;43m0x100\u001b[39;49m\u001b[43m \u001b[49m\u001b[38;5;241;43m*\u001b[39;49m\u001b[43m \u001b[49m\u001b[43mlane\u001b[49m\u001b[43m \u001b[49m\u001b[38;5;241;43m+\u001b[39;49m\u001b[43m \u001b[49m\u001b[38;5;241;43m0\u001b[39;49m\u001b[43m,\u001b[49m\u001b[43m \u001b[49m\u001b[38;5;241;43m1\u001b[39;49m\u001b[43m)\u001b[49m\n\u001b[1;32m    207\u001b[0m \u001b[38;5;28mself\u001b[39m\u001b[38;5;241m.\u001b[39msrpStream \u001b[38;5;241m=\u001b[39m rogue\u001b[38;5;241m.\u001b[39mhardware\u001b[38;5;241m.\u001b[39maxi\u001b[38;5;241m.\u001b[39mAxiStreamDma(dev, \u001b[38;5;241m0x100\u001b[39m \u001b[38;5;241m*\u001b[39m \u001b[38;5;241m5\u001b[39m \u001b[38;5;241m+\u001b[39m \u001b[38;5;241m0\u001b[39m, \u001b[38;5;241m1\u001b[39m)\n\u001b[1;32m    209\u001b[0m \u001b[38;5;28mself\u001b[39m\u001b[38;5;241m.\u001b[39mssiCmdStream \u001b[38;5;241m=\u001b[39m rogue\u001b[38;5;241m.\u001b[39mhardware\u001b[38;5;241m.\u001b[39maxi\u001b[38;5;241m.\u001b[39mAxiStreamDma(dev, \u001b[38;5;241m0x100\u001b[39m \u001b[38;5;241m*\u001b[39m \u001b[38;5;241m5\u001b[39m \u001b[38;5;241m+\u001b[39m \u001b[38;5;241m1\u001b[39m, \u001b[38;5;241m1\u001b[39m)\n",
      "\u001b[0;31mGeneralError\u001b[0m: AxiStreamDma::AxiStreamDma: General Error: Failed to open device file /dev/datadev_0 with dest 0x0! Another process may already have it open!"
     ]
    }
   ],
   "source": [
    "# ONLY RUN ONCE!\n",
    "# Defining root\n",
    "root =  devBoard.Root(   \n",
    "        top_level  = rootTopLevel,\n",
    "        dev        = '/dev/datadev_0',\n",
    "        pollEn     = False,\n",
    "        initRead   = True,\n",
    "        serverPort = 9099)\n",
    "root.start()\n",
    "\n",
    "# example showing a read\n",
    "AxiVersion = root.Core.AxiVersion\n",
    "print ( '###################################################')\n",
    "print ( '#             Firmware Version                    #')\n",
    "print ( '###################################################')\n",
    "AxiVersion.printStatus()\n",
    "print ( '###################################################')"
   ]
  },
  {
   "cell_type": "code",
   "execution_count": 7,
   "id": "f0879711",
   "metadata": {},
   "outputs": [],
   "source": [
    "# Useful short names\n",
    "APP  = root.App\n",
    "AXIV = root.Core.AxiVersion\n",
    "ASICTOP = APP.AsicTop\n",
    "TRIG = ASICTOP.TriggerRegisters\n",
    "ASIC0 = APP.Mv2Asic[0]\n",
    "ASIC1 = APP.Mv2Asic[1]\n",
    "ASIC2 = APP.Mv2Asic[2]\n",
    "ASIC3 = APP.Mv2Asic[3]\n",
    "HSDAC = APP.Dac.FastDac \n",
    "PKREG0 = ASICTOP.DigAsicStrmRegisters0\n",
    "PKREG1 = ASICTOP.DigAsicStrmRegisters1\n",
    "PKREG2 = ASICTOP.DigAsicStrmRegisters2\n",
    "PKREG3 = ASICTOP.DigAsicStrmRegisters3\n",
    "BATCHER0 = ASICTOP.BatcherEventBuilder0\n",
    "BATCHER1 = ASICTOP.BatcherEventBuilder1\n",
    "BATCHER2 = ASICTOP.BatcherEventBuilder2\n",
    "BATCHER3 = ASICTOP.BatcherEventBuilder3\n",
    "DEBUG0 = root._dbg[0]\n",
    "DEBUG1 = root._dbg[1]\n",
    "DEBUG2 = root._dbg[2]\n",
    "DEBUG3 = root._dbg[3]\n",
    "DATARCV0 = root.DataReceiver0\n",
    "DATARCV1 = root.DataReceiver1\n",
    "DATARCV2 = root.DataReceiver2\n",
    "DATARCV3 = root.DataReceiver3\n",
    "FULLRATERCV0 = root.fullRateDataReceiver[0]\n",
    "FULLRATERCV1 = root.fullRateDataReceiver[1]\n",
    "FULLRATERCV2 = root.fullRateDataReceiver[2]\n",
    "FULLRATERCV3 = root.fullRateDataReceiver[3]"
   ]
  },
  {
   "cell_type": "code",
   "execution_count": 8,
   "id": "eac39a14",
   "metadata": {},
   "outputs": [
    {
     "name": "stdout",
     "output_type": "stream",
     "text": [
      "0xdeadbeef\n",
      "0xdeadbeef\n"
     ]
    }
   ],
   "source": [
    "# Set & Read ScratchPad\n",
    "print(hex(AXIV.ScratchPad.get()))\n",
    "AXIV.ScratchPad.set(0xdeadbeef)\n",
    "print(hex(AXIV.ScratchPad.get()))"
   ]
  },
  {
   "cell_type": "code",
   "execution_count": 8,
   "id": "83059953",
   "metadata": {},
   "outputs": [
    {
     "name": "stdout",
     "output_type": "stream",
     "text": [
      "Rysync ASIC started\n",
      "Init ASIC script started\n",
      "Loading PLL configuration\n",
      "\u001b[32mRoot.Core.Si5345Pll.LoadCsvFile(): /u1/lorenzor/epix-hr-m-320k/software/notebook/../script/../config/EPixHRM320KPllConfig168Mhz.csv\u001b[0m\n",
      "Loaded. Waiting for lock...\n",
      "Loading supply configuration\n",
      "Loading /u1/lorenzor/epix-hr-m-320k/software/notebook/../script/../config/ePixHRM320k_PowerSupply_Enable.yml\n",
      "Loading lane delay configurations\n",
      "Loading /u1/lorenzor/epix-hr-m-320k/software/notebook/../script/../config/ePixHRM320k_SspMonGrp_carrier3.yml\n",
      "Loading waveforms configuration\n",
      "Loading /u1/lorenzor/epix-hr-m-320k/software/notebook/../script/../config/ePixHRM320k_RegisterControl.yml\n",
      "Loading packet registers\n",
      "Loading /u1/lorenzor/epix-hr-m-320k/software/notebook/../script/../config/ePixHRM320k_PacketRegisters.yml\n",
      "Loading packet registers\n",
      "Loading /u1/lorenzor/epix-hr-m-320k/software/notebook/../script/../config/ePixHRM320k_BatcherEventBuilder.yml\n",
      "Taking asic off of reset\n",
      "Loading ASICs and timing configuration\n",
      "Loading /u1/lorenzor/epix-hr-m-320k/software/notebook/../script/../config/ePixHRM320k_ASIC_u1_PLLBypass.yml\n",
      "Loading /u1/lorenzor/epix-hr-m-320k/software/notebook/../script/../config/ePixHRM320k_ASIC_u2_PLLBypass.yml\n",
      "Loading /u1/lorenzor/epix-hr-m-320k/software/notebook/../script/../config/ePixHRM320k_ASIC_u3_PLLBypass.yml\n",
      "Loading /u1/lorenzor/epix-hr-m-320k/software/notebook/../script/../config/ePixHRM320k_ASIC_u4_PLLBypass.yml\n",
      "Initialization routine completed.\n"
     ]
    }
   ],
   "source": [
    "# Configure clock to 168 MHz and configures all ASICS\n",
    "root.InitASIC([3,1,1,1,1])"
   ]
  },
  {
   "cell_type": "code",
   "execution_count": 9,
   "id": "66d4c177",
   "metadata": {},
   "outputs": [],
   "source": [
    "root.disableAndCleanAllFullRateDataRcv()\n",
    "root.enableDataRcv(False)\n",
    "root.enableAllAsics(False)\n",
    "root.enableAsic(3, True)\n",
    "DEBUG3.enableDataDebug()\n",
    "DEBUG3.cleanData()"
   ]
  },
  {
   "cell_type": "markdown",
   "id": "b39ec734",
   "metadata": {},
   "source": [
    "# Lorenzo - Helper functions"
   ]
  },
  {
   "cell_type": "code",
   "execution_count": 10,
   "id": "794eea91",
   "metadata": {},
   "outputs": [],
   "source": [
    "%run dataProcFunctions.ipynb     #this is were my function was stored"
   ]
  },
  {
   "cell_type": "markdown",
   "id": "fb116ee2",
   "metadata": {},
   "source": [
    "# Set registers and variables"
   ]
  },
  {
   "cell_type": "code",
   "execution_count": 13,
   "id": "31741fc8",
   "metadata": {},
   "outputs": [
    {
     "name": "stdout",
     "output_type": "stream",
     "text": [
      "Data Descrambled\n",
      "(192, 384, 3)\n",
      "Data Descrambled\n",
      "(192, 384, 3)\n",
      "Data Descrambled\n",
      "(192, 384, 3)\n",
      "Data Descrambled\n",
      "(192, 384, 3)\n",
      "Data Descrambled\n",
      "(192, 384, 3)\n",
      "WARNING:matplotlib.legend:No artists with labels found to put in legend.  Note that artists whose label start with an underscore are ignored when legend() is called with no argument.\n"
     ]
    },
    {
     "data": {
      "text/plain": [
       "<matplotlib.legend.Legend at 0x7f03f87b62b0>"
      ]
     },
     "execution_count": 13,
     "metadata": {},
     "output_type": "execute_result"
    },
    {
     "data": {
      "image/png": "[encoded data removed]",
      "text/plain": [
       "<Figure size 1000x500 with 1 Axes>"
      ]
     },
     "metadata": {},
     "output_type": "display_data"
    }
   ],
   "source": [
    "# Set threshold to the minimum voltage (maximum energy, should not switch)\n",
    "ASIC3.CompTH_ePixM.set(0)\n",
    "\n",
    "# Reference pixel\n",
    "ref_row = 100\n",
    "ref_col = 150\n",
    "\n",
    "plt.figure(figsize = (10,5))\n",
    "\n",
    "# Get ramps and calculate gain\n",
    "for ref_row in [0,100]\n",
    "    ChInjValues, PixOutValues = ChInjRamp(numberOfTriggers=3,Min=0,Max=600,numSteps=5)\n",
    "    plt.plot(ChInjValues, PixOutValues)\n",
    "\n",
    "plt.ylabel(\"Output [ADUs]\")\n",
    "plt.xlabel(\"Pulser Value [a.u.]\")\n",
    "plt.title('Ramp scan for pixel [{},{}]'.format(ref_row,ref_col))\n",
    "plt.legend()"
   ]
  },
  {
   "cell_type": "code",
   "execution_count": null,
   "id": "99a48cf6",
   "metadata": {},
   "outputs": [],
   "source": []
  }
 ],
 "metadata": {
  "kernelspec": {
   "display_name": "Python 3 (ipykernel)",
   "language": "python",
   "name": "python3"
  },
  "language_info": {
   "codemirror_mode": {
    "name": "ipython",
    "version": 3
   },
   "file_extension": ".py",
   "mimetype": "text/x-python",
   "name": "python",
   "nbconvert_exporter": "python",
   "pygments_lexer": "ipython3",
   "version": "3.9.18"
  }
 },
 "nbformat": 4,
 "nbformat_minor": 5
}
