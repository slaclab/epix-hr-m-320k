{
 "cells": [
  {
   "cell_type": "markdown",
   "id": "b8dbf501-98d2-4bca-9a0d-59e2c2494eb5",
   "metadata": {},
   "source": [
    "# Initialize system"
   ]
  },
  {
   "cell_type": "code",
   "execution_count": 1,
   "id": "410127dc-3b31-48bb-9d32-677c3b926767",
   "metadata": {},
   "outputs": [
    {
     "name": "stdout",
     "output_type": "stream",
     "text": [
      "Root.Core.Si5345Pll.Page0.DataBlock.setPollInterval(1)\n",
      "Start: Started zmqServer on ports 9099-9101\n",
      "    To start a gui: python -m pyrogue gui --server='localhost:9099'\n",
      "    To use a virtual client: client = pyrogue.interfaces.VirtualClient(addr='localhost', port=9099)\n",
      "Root.Core.AxiVersion count reset called\n",
      "###################################################\n",
      "#             Firmware Version                    #\n",
      "###################################################\n",
      "Path         = Root.Core.AxiVersion\n",
      "FwVersion    = 0x1010900\n",
      "UpTime       = 24 days, 19:02:56\n",
      "GitHash      = 0x6393c7e60615a7228de0d1b59879ce66510e73da\n",
      "XilinxDnaId  = 0x4002000001608a0624908185\n",
      "FwTarget     = ePixHRM320k\n",
      "BuildEnv     = Vivado v2023.1\n",
      "BuildServer  = rdsrv314 (Ubuntu 20.04.6 LTS)\n",
      "BuildDate    = Thu 30 May 2024 04:17:10 PM PDT\n",
      "Builder      = dnajjar\n",
      "###################################################\n"
     ]
    }
   ],
   "source": [
    "### Setup the library ###\n",
    "import pyrogue as pr\n",
    "import os, sys\n",
    "import matplotlib.pyplot as plt\n",
    "import time\n",
    "import datetime\n",
    "import numpy as np\n",
    "import math\n",
    "import pprint\n",
    "import inspect \n",
    "top_level=f'{os.getcwd()}/../'\n",
    "rootTopLevel = top_level+'script/'\n",
    "pr.addLibraryPath( rootTopLevel )\n",
    "\n",
    "import setupLibPaths\n",
    "\n",
    "import ePix320kM as devBoard\n",
    "\n",
    "args = None\n",
    "\n",
    "# ONLY RUN ONCE!\n",
    "# Defining root\n",
    "# If crashes, make sure the deve is correct.\n",
    "root =  devBoard.Root(   \n",
    "        top_level  = top_level,\n",
    "        dev        = '/dev/datadev_0',\n",
    "        pollEn     = False,\n",
    "        initRead   = True,\n",
    "        pciePgpEn  = False,\n",
    "        justCtrl   = False)\n",
    "root.start()\n",
    "\n",
    "# example showing a read\n",
    "AxiVersion = root.Core.AxiVersion\n",
    "print ( '###################################################')\n",
    "print ( '#             Firmware Version                    #')\n",
    "print ( '###################################################')\n",
    "AxiVersion.printStatus()\n",
    "print ( '###################################################')"
   ]
  },
  {
   "cell_type": "code",
   "execution_count": 2,
   "id": "f0879711",
   "metadata": {},
   "outputs": [],
   "source": [
    "# Useful short names\n",
    "APP  = root.App\n",
    "AXIV = root.Core.AxiVersion\n",
    "ASICTOP = APP.AsicTop\n",
    "TRIG = ASICTOP.TriggerRegisters\n",
    "ASIC0 = APP.Mv2Asic[0]\n",
    "ASIC1 = APP.Mv2Asic[1]\n",
    "ASIC2 = APP.Mv2Asic[2]\n",
    "ASIC3 = APP.Mv2Asic[3]\n",
    "HSDAC = APP.Dac.FastDac \n",
    "PKREG0 = ASICTOP.DigAsicStrmRegisters0\n",
    "PKREG1 = ASICTOP.DigAsicStrmRegisters1\n",
    "PKREG2 = ASICTOP.DigAsicStrmRegisters2\n",
    "PKREG3 = ASICTOP.DigAsicStrmRegisters3\n",
    "BATCHER0 = ASICTOP.BatcherEventBuilder0\n",
    "BATCHER1 = ASICTOP.BatcherEventBuilder1\n",
    "BATCHER2 = ASICTOP.BatcherEventBuilder2\n",
    "BATCHER3 = ASICTOP.BatcherEventBuilder3\n",
    "DEBUG0 = root._dbg[0]\n",
    "DEBUG1 = root._dbg[1]\n",
    "DEBUG2 = root._dbg[2]\n",
    "DEBUG3 = root._dbg[3]\n",
    "DATARCV0 = root.DataReceiver0\n",
    "DATARCV1 = root.DataReceiver1\n",
    "DATARCV2 = root.DataReceiver2\n",
    "DATARCV3 = root.DataReceiver3\n",
    "FULLRATERCV0 = root.fullRateDataReceiver[0]\n",
    "FULLRATERCV1 = root.fullRateDataReceiver[1]\n",
    "FULLRATERCV2 = root.fullRateDataReceiver[2]\n",
    "FULLRATERCV3 = root.fullRateDataReceiver[3]"
   ]
  },
  {
   "cell_type": "code",
   "execution_count": 3,
   "id": "eac39a14",
   "metadata": {},
   "outputs": [
    {
     "name": "stdout",
     "output_type": "stream",
     "text": [
      "0xdeadbeef\n",
      "0xdeadbeef\n"
     ]
    }
   ],
   "source": [
    "# Set & Read ScratchPad\n",
    "print(hex(AXIV.ScratchPad.get()))\n",
    "AXIV.ScratchPad.set(0xdeadbeef)\n",
    "print(hex(AXIV.ScratchPad.get()))"
   ]
  },
  {
   "cell_type": "code",
   "execution_count": 4,
   "id": "83059953",
   "metadata": {},
   "outputs": [
    {
     "name": "stdout",
     "output_type": "stream",
     "text": [
      "Rysync ASIC started\n",
      "Did not find SspMonGrp_carrier file. Using generic.\n",
      "Did not find SspMonGrp_carrier file. Using generic.\n",
      "Did not find specific ASIC1 file. Using generic.\n",
      "Did not find specific ASIC2 file. Using generic.\n",
      "Did not find specific ASIC3 file. Using generic.\n",
      "Did not find specific ASIC4 file. Using generic.\n",
      "Init ASIC script started\n",
      "Loading PLL configuration\n",
      "Loading supply configuration\n",
      "Loading /afs/slac.stanford.edu/g/controls/development/users/dnajjar/sandBox/epix-hr-m-320k-latest/software/notebook/..//config/ePixHRM320k_PowerSupply_Enable.yml\n",
      "Loading lane delay configurations\n",
      "Loading /afs/slac.stanford.edu/g/controls/development/users/dnajjar/sandBox/epix-hr-m-320k-latest/software/notebook/..//config/ePixHRM320k_SspMonGrp_carrier.yml\n",
      "Loading waveforms configuration\n",
      "Loading /afs/slac.stanford.edu/g/controls/development/users/dnajjar/sandBox/epix-hr-m-320k-latest/software/notebook/..//config/ePixHRM320k_RegisterControl.yml\n",
      "Loading batcher configurations\n",
      "Loading /afs/slac.stanford.edu/g/controls/development/users/dnajjar/sandBox/epix-hr-m-320k-latest/software/notebook/..//config/ePixHRM320k_BatcherEventBuilder.yml\n",
      "Loading packet register configurations\n",
      "Loading /afs/slac.stanford.edu/g/controls/development/users/dnajjar/sandBox/epix-hr-m-320k-latest/software/notebook/..//config/ePixHRM320k_PacketRegisters.yml\n",
      "Taking asic off of reset\n",
      "Loading ASICs and timing configuration\n",
      "Loading /afs/slac.stanford.edu/g/controls/development/users/dnajjar/sandBox/epix-hr-m-320k-latest/software/notebook/..//config/ePixHRM320k_ASIC_u3.yml\n",
      "Loading /afs/slac.stanford.edu/g/controls/development/users/dnajjar/sandBox/epix-hr-m-320k-latest/software/notebook/..//config/ePixHRM320k_ASIC_u4.yml\n",
      "Initialization routine completed.\n",
      "Enabling batcher 0\n",
      "Enabling batcher 1\n",
      "Enabling batcher 2\n",
      "Enabling batcher 3\n",
      "Stop Triggers command executed\n",
      "Set Auto Trigger command executed\n",
      "Start Auto Trigger command executed\n",
      "Triggers sent: 2500\n",
      "Stop Triggers command executed\n",
      "Stop Triggers command executed\n",
      "Set Auto Trigger command executed\n",
      "Start Auto Trigger command executed\n",
      "Triggers sent: 2500\n",
      "Stop Triggers command executed\n",
      "Frames recieved from ASIC2 is 2500\n",
      "\u001b[92mASIC 2 lane adjustment done\u001b[0m\n",
      "Frames recieved from ASIC3 is 2500\n",
      "\u001b[92mASIC 3 lane adjustment done\u001b[0m\n",
      "ASIC lane adjustment completed successfully\n",
      "\u001b[1mDisabled lanes of asic 0 now is 0x0\u001b[0m\n",
      "\u001b[1mDisabled lanes of asic 1 now is 0x0\u001b[0m\n",
      "\u001b[1mDisabled lanes of asic 2 now is 0x0\u001b[0m\n",
      "\u001b[1mDisabled lanes of asic 3 now is 0x0\u001b[0m\n"
     ]
    }
   ],
   "source": [
    "# Configure clock to 168 MHz and configures all ASICS\n",
    "root.InitASIC([4,0,0,1,1])"
   ]
  },
  {
   "cell_type": "code",
   "execution_count": 5,
   "id": "545bd709-e175-4374-a72b-94bd802d0785",
   "metadata": {},
   "outputs": [],
   "source": [
    "# change here\n",
    "ASICNUM=3\n",
    "DEBUG=DEBUG3\n",
    "ASIC=ASIC3"
   ]
  },
  {
   "cell_type": "code",
   "execution_count": 6,
   "id": "66d4c177",
   "metadata": {},
   "outputs": [],
   "source": [
    "root.disableAndCleanAllFullRateDataRcv()\n",
    "root.enableDataRcv(False)\n",
    "root.enableAllAsics(False)\n",
    "root.enableAsic(ASICNUM, True)\n",
    "DEBUG.enableDataDebug(True)\n",
    "DEBUG.cleanData()"
   ]
  },
  {
   "cell_type": "markdown",
   "id": "b39ec734",
   "metadata": {},
   "source": [
    "# Lorenzo - Helper functions"
   ]
  },
  {
   "cell_type": "code",
   "execution_count": 7,
   "id": "794eea91",
   "metadata": {},
   "outputs": [],
   "source": [
    "%run dataProcFunctions.ipynb     #this is were my function was stored"
   ]
  },
  {
   "cell_type": "markdown",
   "id": "fb116ee2",
   "metadata": {},
   "source": [
    "# Set registers and variables"
   ]
  },
  {
   "cell_type": "code",
   "execution_count": null,
   "id": "31741fc8",
   "metadata": {},
   "outputs": [
    {
     "name": "stdout",
     "output_type": "stream",
     "text": [
      "--- Acquiring data value 0/0 ---\n",
      "Collecting data for RefN_val/RefP_val=0/0\n",
      "Reading out 3 Frames\n",
      "Read out 3 Frames\n",
      "Reading out 3 Frames\n",
      "Read out 3 Frames\n",
      "Reading out 3 Frames\n",
      "Read out 3 Frames\n",
      "Reading out 3 Frames\n",
      "Read out 3 Frames\n",
      "Reading out 3 Frames\n",
      "Read out 3 Frames\n",
      "Reading out 3 Frames\n",
      "Read out 3 Frames\n",
      "Reading out 3 Frames\n",
      "Read out 3 Frames\n",
      "Reading out 3 Frames\n",
      "Read out 3 Frames\n",
      "Reading out 3 Frames\n",
      "Read out 3 Frames\n",
      "Reading out 3 Frames\n",
      "Read out 3 Frames\n",
      "Reading out 3 Frames\n",
      "Read out 3 Frames\n",
      "Reading out 3 Frames\n"
     ]
    }
   ],
   "source": [
    "# Set threshold to the minimum voltage (maximum energy, should not switch)\n",
    "ASIC.CompTH_ePixM.set(0)\n",
    "\n",
    "# Reference pixel\n",
    "ref_row = 100\n",
    "ref_col = 150\n",
    "\n",
    "plt.figure(figsize = (10,5))\n",
    "\n",
    "\n",
    "for RefN_val, RefP_val in np.ndindex(4,4):\n",
    "    print('--- Acquiring data value {}/{} ---'.format(RefN_val,RefP_val))\n",
    "    ASIC.RefinN.set(RefN_val)\n",
    "    ASIC.RefinP.set(RefP_val)\n",
    "    # Get ramps and calculate gain\n",
    "    print(\"Collecting data for RefN_val/RefP_val={}/{}\".format(RefN_val, RefP_val))\n",
    "    ChInjValues, PixOutValues = ChInjRamp(DEBUG, AsicNum=ASICNUM,numberOfTriggers=3,Min=0,Max=600,numSteps=30)\n",
    "    plt.plot(ChInjValues, PixOutValues, label='{}/{}'.format(RefN_val,RefP_val))\n",
    "\n",
    "    #     gain[RefN_val,RefP_val] = np.polyfit(ChInjValues, PixOutValues, 1)[0]\n",
    "   \n",
    "\n",
    "\n",
    "plt.ylabel(\"Output [ADUs]\")\n",
    "plt.xlabel(\"Pulser Value [a.u.]\")\n",
    "plt.title('Ramp scan for pixel [{},{}]'.format(ref_row,ref_col))\n",
    "plt.legend()"
   ]
  },
  {
   "cell_type": "code",
   "execution_count": null,
   "id": "965afda2",
   "metadata": {},
   "outputs": [],
   "source": [
    "# Set threshold to the minimum voltage (maximum energy, should not switch)\n",
    "ASIC.CompTH_ePixM.set(32)\n",
    "ASIC.RefinN.set(6)\n",
    "ASIC.RefinP.set(1)\n",
    "\n",
    "\n",
    "# Reference pixel\n",
    "ref_row = 100\n",
    "ref_col = 150\n",
    "\n",
    "plt.figure(figsize = (10,5))\n",
    "\n",
    "\n",
    "for Precharge_DAC_ePixM in [16,24,32,40,48]:\n",
    "    print('--- Acquiring data value {} ---'.format(Precharge_DAC_ePixM))\n",
    "    ASIC.Precharge_DAC_ePixM.set(Precharge_DAC_ePixM)\n",
    "    # Get ramps and calculate gain\n",
    "    print(\"Collecting data for Precharge_DAC_ePixM={}\".format(Precharge_DAC_ePixM))\n",
    "    ChInjValues, PixOutValues = ChInjRamp(DEBUG, ASICNUM, numberOfTriggers=3,Min=50,Max=1023,numSteps=40)\n",
    "    plt.plot(ChInjValues, clearB16(PixOutValues.astype(int)), label='Precharge_DAC_ePixM: {}'.format(Precharge_DAC_ePixM),marker='o')\n",
    "  \n",
    "plt.ylabel(\"Output [ADUs]\")\n",
    "plt.xlabel(\"Pulser Value [a.u.]\")\n",
    "plt.title('Ramp scan for pixel [{},{}]'.format(ref_row,ref_col))\n",
    "plt.legend()"
   ]
  },
  {
   "cell_type": "markdown",
   "id": "e8ec7562",
   "metadata": {},
   "source": [
    "# Verify that we can run in fixed HG / fixed LG by changing the Thr value"
   ]
  },
  {
   "cell_type": "code",
   "execution_count": null,
   "id": "2dec6e57",
   "metadata": {},
   "outputs": [],
   "source": [
    "# Set threshold to the minimum voltage (maximum energy, should not switch)\n",
    "ASIC.RefinN.set(6)\n",
    "ASIC.RefinP.set(1)\n",
    "ASIC.CompTH_ePixM.set(32)\n",
    "ASIC.Precharge_DAC_ePixM.set(36)\n",
    "\n",
    "# Reference pixel\n",
    "ref_row = 100\n",
    "ref_col = 150\n",
    "\n",
    "plt.figure(figsize = (10,5))\n",
    "\n",
    "\n",
    "for CompTH_ePixM in [0,32,63]:\n",
    "    print('--- Acquiring data value {} ---'.format(CompTH_ePixM))\n",
    "    ASIC.CompTH_ePixM.set(CompTH_ePixM)\n",
    "    # Get ramps and calculate gain\n",
    "    ChInjValues, PixOutValues = ChInjRamp(DEBUG, ASICNUM, numberOfTriggers=3,Min=50,Max=1023,numSteps=40)\n",
    "    plt.plot(ChInjValues, clearB16(PixOutValues.astype(int)), label='CompTH_ePixM: {}'.format(CompTH_ePixM),marker='o')\n",
    "  \n",
    "plt.ylabel(\"Output [ADUs]\")\n",
    "plt.xlabel(\"Pulser Value [a.u.]\")\n",
    "plt.title('Ramp scan for pixel [{},{}]'.format(ref_row,ref_col))\n",
    "plt.legend()"
   ]
  },
  {
   "cell_type": "code",
   "execution_count": null,
   "id": "99a48cf6",
   "metadata": {},
   "outputs": [],
   "source": []
  }
 ],
 "metadata": {
  "kernelspec": {
   "display_name": "Python 3 (ipykernel)",
   "language": "python",
   "name": "python3"
  },
  "language_info": {
   "codemirror_mode": {
    "name": "ipython",
    "version": 3
   },
   "file_extension": ".py",
   "mimetype": "text/x-python",
   "name": "python",
   "nbconvert_exporter": "python",
   "pygments_lexer": "ipython3",
   "version": "3.9.18"
  }
 },
 "nbformat": 4,
 "nbformat_minor": 5
}
