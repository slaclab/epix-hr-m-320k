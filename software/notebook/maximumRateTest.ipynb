{
 "cells": [
  {
   "cell_type": "markdown",
   "id": "b8dbf501-98d2-4bca-9a0d-59e2c2494eb5",
   "metadata": {},
   "source": [
    "# BASIC CONFIGURATIONS"
   ]
  },
  {
   "cell_type": "code",
   "execution_count": 1,
   "id": "410127dc-3b31-48bb-9d32-677c3b926767",
   "metadata": {},
   "outputs": [],
   "source": [
    "### Setup the library ###\n",
    "import pyrogue as pr\n",
    "import os, sys\n",
    "import matplotlib.pyplot as plt\n",
    "import time\n",
    "import datetime\n",
    "import numpy as np\n",
    "import math\n",
    "import pprint\n",
    "import inspect \n",
    "top_level=f'{os.getcwd()}/../'\n",
    "rootTopLevel = top_level+'script/'\n",
    "pr.addLibraryPath( rootTopLevel )\n",
    "\n",
    "import setupLibPaths\n",
    "\n",
    "import ePix320kM as devBoard\n",
    "\n",
    "args = None"
   ]
  },
  {
   "cell_type": "code",
   "execution_count": 2,
   "id": "1941bbb3-abba-4c12-ac3c-8497a31b17c0",
   "metadata": {
    "tags": []
   },
   "outputs": [
    {
     "name": "stdout",
     "output_type": "stream",
     "text": [
      "Root.Core.Si5345Pll.Page0.DataBlock.setPollInterval(1)\n",
      "Start: Started zmqServer on ports 9099-9101\n",
      "    To start a gui: python -m pyrogue gui --server='localhost:9099'\n",
      "    To use a virtual client: client = pyrogue.interfaces.VirtualClient(addr='localhost', port=9099)\n",
      "Root.Core.AxiVersion count reset called\n",
      "Root.pciePgp.AxiPcieCore.AxiVersion count reset called\n",
      "###################################################\n",
      "#             Firmware Version                    #\n",
      "###################################################\n",
      "Path         = Root.Core.AxiVersion\n",
      "FwVersion    = 0x1000000\n",
      "UpTime       = 1 day, 19:22:35\n",
      "GitHash      = 0x274c06678fe871931cc63e1b56da71ccd4968cfa\n",
      "XilinxDnaId  = 0x400200000139d7204c80e045\n",
      "FwTarget     = ePixHRM320k\n",
      "BuildEnv     = Vivado v2023.1\n",
      "BuildServer  = rdsrv314 (Ubuntu 20.04.6 LTS)\n",
      "BuildDate    = Tue 10 Oct 2023 03:59:14 PM PDT\n",
      "Builder      = dnajjar\n",
      "###################################################\n"
     ]
    }
   ],
   "source": [
    "# ONLY RUN ONCE!\n",
    "# Defining root\n",
    "root =  devBoard.Root(   \n",
    "        top_level  = rootTopLevel,\n",
    "        dev        = '/dev/datadev_0',\n",
    "        pollEn     = False,\n",
    "        initRead   = True,\n",
    "        serverPort = 9099,\n",
    "        pciePgpEn  = True,\n",
    ")\n",
    "root.start()\n",
    "\n",
    "# example showing a read\n",
    "AxiVersion = root.Core.AxiVersion\n",
    "print ( '###################################################')\n",
    "print ( '#             Firmware Version                    #')\n",
    "print ( '###################################################')\n",
    "AxiVersion.printStatus()\n",
    "print ( '###################################################')"
   ]
  },
  {
   "cell_type": "code",
   "execution_count": 3,
   "id": "f5cc4633",
   "metadata": {},
   "outputs": [],
   "source": [
    "#Run this from a teminal in your localhost without the (!). If you run it here, it will open on rdsrv314 Jupyter server terminal and you won't see it.\n",
    "#!python -m pyrogue gui --server='rdsrv314:9099'"
   ]
  },
  {
   "cell_type": "code",
   "execution_count": 8,
   "id": "52b50940-9143-44e4-96f0-3efc29544e64",
   "metadata": {
    "tags": []
   },
   "outputs": [],
   "source": [
    "# Useful short names\n",
    "APP  = root.App\n",
    "AXIV = root.Core.AxiVersion\n",
    "ASICTOP = APP.AsicTop\n",
    "TRIG = ASICTOP.TriggerRegisters\n",
    "ASIC0 = APP.Mv2Asic[0]\n",
    "ASIC1 = APP.Mv2Asic[1]\n",
    "ASIC2 = APP.Mv2Asic[2]\n",
    "ASIC3 = APP.Mv2Asic[3]\n",
    "HSDAC = APP.Dac.FastDac \n",
    "PKREG = [None] * 4\n",
    "PKREG[0] = ASICTOP.DigAsicStrmRegisters0\n",
    "PKREG[1] = ASICTOP.DigAsicStrmRegisters1\n",
    "PKREG[2] = ASICTOP.DigAsicStrmRegisters2\n",
    "PKREG[3] = ASICTOP.DigAsicStrmRegisters3\n",
    "BATCHER0 = ASICTOP.BatcherEventBuilder0\n",
    "BATCHER1 = ASICTOP.BatcherEventBuilder1\n",
    "BATCHER2 = ASICTOP.BatcherEventBuilder2\n",
    "BATCHER3 = ASICTOP.BatcherEventBuilder3\n",
    "DEBUG0 = root._dbg[0]\n",
    "DEBUG1 = root._dbg[1]\n",
    "DEBUG2 = root._dbg[2]\n",
    "DEBUG3 = root._dbg[3]\n",
    "DATARCV0 = root.DataReceiver0\n",
    "DATARCV1 = root.DataReceiver1\n",
    "DATARCV2 = root.DataReceiver2\n",
    "DATARCV3 = root.DataReceiver3\n",
    "FULLRATERCV0 = root.fullRateDataReceiver[0]\n",
    "FULLRATERCV1 = root.fullRateDataReceiver[1]\n",
    "FULLRATERCV2 = root.fullRateDataReceiver[2]\n",
    "FULLRATERCV3 = root.fullRateDataReceiver[3]\n",
    "DAC = APP.Dac\n",
    "REGCTRL = ASICTOP.RegisterControlDualClock"
   ]
  },
  {
   "cell_type": "code",
   "execution_count": 5,
   "id": "847ee563-915e-4b5d-acf7-85d3727dcb27",
   "metadata": {
    "tags": []
   },
   "outputs": [
    {
     "name": "stdout",
     "output_type": "stream",
     "text": [
      "0xdeadbeef\n",
      "0xdeadbeef\n"
     ]
    }
   ],
   "source": [
    "# Set & Read ScratchPad\n",
    "print(hex(AXIV.ScratchPad.get()))\n",
    "AXIV.ScratchPad.set(0xdeadbeef)\n",
    "print(hex(AXIV.ScratchPad.get()))"
   ]
  },
  {
   "cell_type": "code",
   "execution_count": 6,
   "id": "9f53679e-4728-4f2d-9e94-48dbf32074c9",
   "metadata": {},
   "outputs": [
    {
     "name": "stdout",
     "output_type": "stream",
     "text": [
      "Rysync ASIC started\n",
      "Init ASIC script started\n",
      "Loading PLL configuration\n",
      "\u001b[32mRoot.Core.Si5345Pll.LoadCsvFile(): /afs/slac.stanford.edu/g/controls/development/users/dnajjar/sandBox/epix-hr-m-320k/software/notebook/../script/../config/EPixHRM320KPllConfig168Mhz.csv\u001b[0m\n",
      "Loaded. Waiting for lock...\n",
      "Loading supply configuration\n",
      "Loading /afs/slac.stanford.edu/g/controls/development/users/dnajjar/sandBox/epix-hr-m-320k/software/notebook/../script/../config/ePixHRM320k_PowerSupply_Enable.yml\n",
      "Loading lane delay configurations\n",
      "Loading /afs/slac.stanford.edu/g/controls/development/users/dnajjar/sandBox/epix-hr-m-320k/software/notebook/../script/../config/ePixHRM320k_SspMonGrp_carrier3.yml\n",
      "Loading waveforms configuration\n",
      "Loading /afs/slac.stanford.edu/g/controls/development/users/dnajjar/sandBox/epix-hr-m-320k/software/notebook/../script/../config/ePixHRM320k_RegisterControl.yml\n",
      "Loading packet register configurations\n",
      "Loading /afs/slac.stanford.edu/g/controls/development/users/dnajjar/sandBox/epix-hr-m-320k/software/notebook/../script/../config/ePixHRM320k_PacketRegisters.yml\n",
      "Loading batcher configurations\n",
      "Loading /afs/slac.stanford.edu/g/controls/development/users/dnajjar/sandBox/epix-hr-m-320k/software/notebook/../script/../config/ePixHRM320k_BatcherEventBuilder.yml\n",
      "Taking asic off of reset\n",
      "Loading ASICs and timing configuration\n",
      "Loading /afs/slac.stanford.edu/g/controls/development/users/dnajjar/sandBox/epix-hr-m-320k/software/notebook/../script/../config/ePixHRM320k_ASIC_u1_PLLBypass.yml\n",
      "Loading /afs/slac.stanford.edu/g/controls/development/users/dnajjar/sandBox/epix-hr-m-320k/software/notebook/../script/../config/ePixHRM320k_ASIC_u2_PLLBypass.yml\n",
      "Loading /afs/slac.stanford.edu/g/controls/development/users/dnajjar/sandBox/epix-hr-m-320k/software/notebook/../script/../config/ePixHRM320k_ASIC_u3_PLLBypass.yml\n",
      "Loading /afs/slac.stanford.edu/g/controls/development/users/dnajjar/sandBox/epix-hr-m-320k/software/notebook/../script/../config/ePixHRM320k_ASIC_u4_PLLBypass.yml\n",
      "Initialization routine completed.\n"
     ]
    }
   ],
   "source": [
    "# Configure clock to 168 MHz and configures all ASICS\n",
    "root.InitASIC([3,1,1,1,1])"
   ]
  },
  {
   "cell_type": "markdown",
   "id": "da02e43d",
   "metadata": {},
   "source": [
    "# Disable full rate receivers for now"
   ]
  },
  {
   "cell_type": "code",
   "execution_count": 3,
   "id": "53c00039",
   "metadata": {},
   "outputs": [],
   "source": [
    "root.disableAndCleanAllFullRateDataRcv()\n",
    "root.enableDataRcv(False)\n",
    "root.enableDataDebug(False)"
   ]
  },
  {
   "cell_type": "code",
   "execution_count": 8,
   "id": "8a45d9bb",
   "metadata": {},
   "outputs": [
    {
     "name": "stdout",
     "output_type": "stream",
     "text": [
      "Stop Triggers command executed\n",
      "Set Auto Trigger command executed\n",
      "Start Auto Trigger command executed\n",
      "Triggers sent: 5000\n",
      "Stop Triggers command executed\n"
     ]
    }
   ],
   "source": [
    "#run some triggers and exercise lanes and locks\n",
    "frames = 5000\n",
    "rate = 1000\n",
    "\n",
    "root.hwTrigger(frames, rate)"
   ]
  },
  {
   "cell_type": "code",
   "execution_count": 11,
   "id": "c4b631e1",
   "metadata": {},
   "outputs": [
    {
     "name": "stdout",
     "output_type": "stream",
     "text": [
      "ASIC0: 0xffffff\n",
      "ASIC1: 0xfffffe\n",
      "ASIC2: 0x36ffff\n",
      "ASIC3: 0xffffff\n"
     ]
    }
   ],
   "source": [
    "#get locked lanes\n",
    "root.getLaneLocks()"
   ]
  },
  {
   "cell_type": "code",
   "execution_count": null,
   "id": "2447d25d",
   "metadata": {},
   "outputs": [],
   "source": [
    "root.enableAllAsics(True)"
   ]
  },
  {
   "cell_type": "markdown",
   "id": "be87b6d2",
   "metadata": {},
   "source": [
    "# Clear PGP and DigAsicStrmReg counters"
   ]
  },
  {
   "cell_type": "code",
   "execution_count": 11,
   "id": "3155fcfe",
   "metadata": {},
   "outputs": [],
   "source": [
    "def clearPpg():\n",
    "    for i in range(8):\n",
    "        root.pciePgp.Lane[i].Ctrl.CountReset()\n",
    "\n",
    "def clearDigAsicStrmReg():\n",
    "    for i in range(4):\n",
    "        PKREG[i].CountReset()"
   ]
  },
  {
   "cell_type": "code",
   "execution_count": 33,
   "id": "e09050c6",
   "metadata": {},
   "outputs": [],
   "source": [
    "clearPpg()\n",
    "clearDigAsicStrmReg()"
   ]
  },
  {
   "cell_type": "markdown",
   "id": "aa123172",
   "metadata": {},
   "source": [
    "# Release a number of frames on max rate"
   ]
  },
  {
   "cell_type": "code",
   "execution_count": 34,
   "id": "1ca8cb2d",
   "metadata": {},
   "outputs": [],
   "source": [
    "ssdPath = \"/u1/ePixHRM320k/acquisition\"\n",
    "filename = f\"{ssdPath}/maxRate1.dat\""
   ]
  },
  {
   "cell_type": "code",
   "execution_count": 35,
   "id": "e41b9148",
   "metadata": {},
   "outputs": [
    {
     "name": "stdout",
     "output_type": "stream",
     "text": [
      "Acquisition started: filename: /u1/ePixHRM320k/acquisition/maxRate1.dat, rate: 5000, #frames:100\n",
      "Stop Triggers command executed\n",
      "Set Auto Trigger command executed\n",
      "Start Auto Trigger command executed\n",
      "Triggers sent: 0\r",
      "Triggers sent: 100\n",
      "Stop Triggers command executed\n",
      "Received on channel 0 100 frames...\n",
      "Received on channel 1 100 frames...\n",
      "Received on channel 2 100 frames...\n",
      "Received on channel 3 100 frames...\n",
      "Waiting for file to close...\n",
      "Acquisition complete and file closed\n"
     ]
    }
   ],
   "source": [
    "frames = 100\n",
    "rate = 5000\n",
    "\n",
    "#root.hwTrigger(frames, rate)\n",
    "root.acquireToFile(filename, frames, rate)"
   ]
  },
  {
   "cell_type": "markdown",
   "id": "7642cc7e",
   "metadata": {},
   "source": [
    "# Examine pgpcard and DigAsicStrmReg"
   ]
  },
  {
   "cell_type": "code",
   "execution_count": 36,
   "id": "f94baeeb",
   "metadata": {},
   "outputs": [],
   "source": [
    "def getPgpFrmCnt():\n",
    "    frmCnt = [None] * 4\n",
    "    for i in range(4):\n",
    "        frmCnt[i] = root.pciePgp.Lane[i].RxStatus.FrameCnt.get()\n",
    "    return frmCnt\n",
    "\n",
    "def getDigAsicStrmRegFrmCnt():\n",
    "    frmCnt = [None] * 4\n",
    "    for i in range(4): \n",
    "        frmCnt[i] = PKREG[i].FrameCount.get()\n",
    "    return frmCnt"
   ]
  },
  {
   "cell_type": "code",
   "execution_count": 37,
   "id": "e4997505",
   "metadata": {},
   "outputs": [
    {
     "name": "stdout",
     "output_type": "stream",
     "text": [
      "Firmware counted [100, 100, 100, 100]\n",
      "Pgpcard counted [100, 100, 100, 100]\n"
     ]
    }
   ],
   "source": [
    "digAsicStrmRegFrmCnt = getDigAsicStrmRegFrmCnt()\n",
    "print(\"Firmware counted {}\".format(digAsicStrmRegFrmCnt))\n",
    "pgpFrmCnt = getPgpFrmCnt()\n",
    "print(\"Pgpcard counted {}\".format(pgpFrmCnt))"
   ]
  },
  {
   "cell_type": "code",
   "execution_count": 38,
   "id": "661539b2",
   "metadata": {},
   "outputs": [
    {
     "name": "stdout",
     "output_type": "stream",
     "text": [
      "Extracted and descrambled 400 frames\r"
     ]
    }
   ],
   "source": [
    "# Has good performance\n",
    "\n",
    "root.readFromFile(filename)"
   ]
  },
  {
   "cell_type": "code",
   "execution_count": 39,
   "id": "d8222d1f",
   "metadata": {},
   "outputs": [
    {
     "data": {
      "text/plain": [
       "(192, 384, 400)"
      ]
     },
     "execution_count": 39,
     "metadata": {},
     "output_type": "execute_result"
    }
   ],
   "source": [
    "np.shape(root.readerReceiver.getData())"
   ]
  }
 ],
 "metadata": {
  "kernelspec": {
   "display_name": "Python 3 (ipykernel)",
   "language": "python",
   "name": "python3"
  },
  "language_info": {
   "codemirror_mode": {
    "name": "ipython",
    "version": 3
   },
   "file_extension": ".py",
   "mimetype": "text/x-python",
   "name": "python",
   "nbconvert_exporter": "python",
   "pygments_lexer": "ipython3",
   "version": "3.9.15"
  }
 },
 "nbformat": 4,
 "nbformat_minor": 5
}
