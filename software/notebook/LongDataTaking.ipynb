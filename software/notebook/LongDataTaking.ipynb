{
 "cells": [
  {
   "cell_type": "markdown",
   "id": "b8dbf501-98d2-4bca-9a0d-59e2c2494eb5",
   "metadata": {},
   "source": [
    "# Initialize system"
   ]
  },
  {
   "cell_type": "code",
   "execution_count": null,
   "id": "410127dc-3b31-48bb-9d32-677c3b926767",
   "metadata": {},
   "outputs": [],
   "source": [
    "### Setup the library ###\n",
    "import pyrogue as pr\n",
    "import os, sys\n",
    "import matplotlib.pyplot as plt\n",
    "import time\n",
    "import datetime\n",
    "import numpy as np\n",
    "import math\n",
    "import pprint\n",
    "import inspect \n",
    "top_level=f'{os.getcwd()}/../'\n",
    "rootTopLevel = top_level+'script/'\n",
    "pr.addLibraryPath( rootTopLevel )\n",
    "\n",
    "import setupLibPaths\n",
    "\n",
    "import ePix320kM as devBoard\n",
    "\n",
    "args = None"
   ]
  },
  {
   "cell_type": "code",
   "execution_count": 2,
   "id": "43ed4f16",
   "metadata": {},
   "outputs": [
    {
     "name": "stdout",
     "output_type": "stream",
     "text": [
      "{'name': 'ScopeData0'}\n",
      "{'name': 'ScopeData1'}\n",
      "{'name': 'ScopeData2'}\n",
      "{'name': 'ScopeData3'}\n",
      "Root.Core.Si5345Pll.Page0.DataBlock.setPollInterval(1)\n",
      "Start: Started zmqServer on ports 9099-9101\n",
      "    To start a gui: python -m pyrogue gui --server='localhost:9099'\n",
      "    To use a virtual client: client = pyrogue.interfaces.VirtualClient(addr='localhost', port=9099)\n",
      "Root.Core.AxiVersion count reset called\n",
      "###################################################\n",
      "#             Firmware Version                    #\n",
      "###################################################\n",
      "Path         = Root.Core.AxiVersion\n",
      "FwVersion    = 0x1000300\n",
      "UpTime       = 1 day, 0:27:21\n",
      "GitHash      = 0x9550c2a95f7e334393e52bfde914e26fb20f11b8\n",
      "XilinxDnaId  = 0x400200000139d7204c81a145\n",
      "FwTarget     = ePixHRM320k\n",
      "BuildEnv     = Vivado v2023.1\n",
      "BuildServer  = rdsrv314 (Ubuntu 20.04.6 LTS)\n",
      "BuildDate    = Wed 17 Jan 2024 11:42:17 PM PST\n",
      "Builder      = dnajjar\n",
      "###################################################\n"
     ]
    }
   ],
   "source": [
    "# ONLY RUN ONCE!\n",
    "# Defining root\n",
    "root =  devBoard.Root(   \n",
    "        top_level  = rootTopLevel,\n",
    "        dev        = '/dev/datadev_1',\n",
    "        pollEn     = False,\n",
    "        initRead   = True,\n",
    "        serverPort = 9099)\n",
    "root.start()\n",
    "\n",
    "# example showing a read\n",
    "AxiVersion = root.Core.AxiVersion\n",
    "print ( '###################################################')\n",
    "print ( '#             Firmware Version                    #')\n",
    "print ( '###################################################')\n",
    "AxiVersion.printStatus()\n",
    "print ( '###################################################')"
   ]
  },
  {
   "cell_type": "code",
   "execution_count": 3,
   "id": "f0879711",
   "metadata": {},
   "outputs": [],
   "source": [
    "# Useful short names\n",
    "APP  = root.App\n",
    "AXIV = root.Core.AxiVersion\n",
    "ASICTOP = APP.AsicTop\n",
    "TRIG = ASICTOP.TriggerRegisters\n",
    "ASIC0 = APP.Mv2Asic[0]\n",
    "ASIC1 = APP.Mv2Asic[1]\n",
    "ASIC2 = APP.Mv2Asic[2]\n",
    "ASIC3 = APP.Mv2Asic[3]\n",
    "HSDAC = APP.Dac.FastDac \n",
    "PKREG0 = ASICTOP.DigAsicStrmRegisters0\n",
    "PKREG1 = ASICTOP.DigAsicStrmRegisters1\n",
    "PKREG2 = ASICTOP.DigAsicStrmRegisters2\n",
    "PKREG3 = ASICTOP.DigAsicStrmRegisters3\n",
    "BATCHER0 = ASICTOP.BatcherEventBuilder0\n",
    "BATCHER1 = ASICTOP.BatcherEventBuilder1\n",
    "BATCHER2 = ASICTOP.BatcherEventBuilder2\n",
    "BATCHER3 = ASICTOP.BatcherEventBuilder3\n",
    "DEBUG0 = root._dbg[0]\n",
    "DEBUG1 = root._dbg[1]\n",
    "DEBUG2 = root._dbg[2]\n",
    "DEBUG3 = root._dbg[3]\n",
    "DATARCV0 = root.DataReceiver0\n",
    "DATARCV1 = root.DataReceiver1\n",
    "DATARCV2 = root.DataReceiver2\n",
    "DATARCV3 = root.DataReceiver3\n",
    "FULLRATERCV0 = root.fullRateDataReceiver[0]\n",
    "FULLRATERCV1 = root.fullRateDataReceiver[1]\n",
    "FULLRATERCV2 = root.fullRateDataReceiver[2]\n",
    "FULLRATERCV3 = root.fullRateDataReceiver[3]\n",
    "DAC = APP.Dac\n",
    "REGCTRL = ASICTOP.RegisterControlDualClock"
   ]
  },
  {
   "cell_type": "code",
   "execution_count": 4,
   "id": "eac39a14",
   "metadata": {},
   "outputs": [
    {
     "name": "stdout",
     "output_type": "stream",
     "text": [
      "Rysync ASIC started\n",
      "Init ASIC script started\n",
      "Loading PLL configuration\n",
      "Loading supply configuration\n",
      "Loading /u1/lorenzor/epix-hr-m-320k/software/notebook/../script/../config/ePixHRM320k_PowerSupply_Enable.yml\n",
      "Loading lane delay configurations\n",
      "Loading /u1/lorenzor/epix-hr-m-320k/software/notebook/../script/../config/ePixHRM320k_SspMonGrp_carrier3.yml\n",
      "Loading waveforms configuration\n",
      "Loading /u1/lorenzor/epix-hr-m-320k/software/notebook/../script/../config/ePixHRM320k_RegisterControl.yml\n",
      "Loading packet register configurations\n",
      "Loading /u1/lorenzor/epix-hr-m-320k/software/notebook/../script/../config/ePixHRM320k_PacketRegisters.yml\n",
      "Loading batcher configurations\n",
      "Loading /u1/lorenzor/epix-hr-m-320k/software/notebook/../script/../config/ePixHRM320k_BatcherEventBuilder.yml\n",
      "Taking asic off of reset\n",
      "Loading ASICs and timing configuration\n",
      "Loading /u1/lorenzor/epix-hr-m-320k/software/notebook/../script/../config/ePixHRM320k_ASIC_u1_PLLBypass.yml\n",
      "Loading /u1/lorenzor/epix-hr-m-320k/software/notebook/../script/../config/ePixHRM320k_ASIC_u2_PLLBypass.yml\n",
      "Loading /u1/lorenzor/epix-hr-m-320k/software/notebook/../script/../config/ePixHRM320k_ASIC_u3_PLLBypass.yml\n",
      "Loading /u1/lorenzor/epix-hr-m-320k/software/notebook/../script/../config/ePixHRM320k_ASIC_u4_PLLBypass.yml\n",
      "Initialization routine completed.\n"
     ]
    }
   ],
   "source": [
    "# Configure clock to 168 MHz and configures all ASICS\n",
    "root.InitASIC([4,1,1,1,1])"
   ]
  },
  {
   "cell_type": "code",
   "execution_count": 5,
   "id": "83059953",
   "metadata": {},
   "outputs": [],
   "source": [
    "root.disableAndCleanAllFullRateDataRcv()\n",
    "root.enableDataRcv(False)\n",
    "root.enableDataDebug(False)"
   ]
  },
  {
   "cell_type": "code",
   "execution_count": 6,
   "id": "66d4c177",
   "metadata": {},
   "outputs": [
    {
     "name": "stdout",
     "output_type": "stream",
     "text": [
      "Stop Triggers command executed\n",
      "Set Auto Trigger command executed\n",
      "Start Auto Trigger command executed\n",
      "Triggers sent: 100\n",
      "Stop Triggers command executed\n"
     ]
    }
   ],
   "source": [
    "#run some triggers and exercise lanes and locks\n",
    "frames = 100\n",
    "rate = 5000\n",
    "\n",
    "root.hwTrigger(frames, rate)"
   ]
  },
  {
   "cell_type": "code",
   "execution_count": 7,
   "id": "817ca960",
   "metadata": {},
   "outputs": [
    {
     "name": "stdout",
     "output_type": "stream",
     "text": [
      "ASIC0: 0xffffff\n",
      "ASIC1: 0xfffffa\n",
      "ASIC2: 0xb6ffff\n",
      "ASIC3: 0xbfffff\n"
     ]
    }
   ],
   "source": [
    "#get locked lanes\n",
    "time.sleep(3)\n",
    "root.getLaneLocks()"
   ]
  },
  {
   "cell_type": "code",
   "execution_count": 8,
   "id": "c5448884",
   "metadata": {},
   "outputs": [
    {
     "name": "stdout",
     "output_type": "stream",
     "text": [
      "ASIC0: 0x20000\n",
      "ASIC1: 0x10045\n",
      "ASIC2: 0x490000\n",
      "ASIC3: 0x540140\n"
     ]
    }
   ],
   "source": [
    "#Disabled lanes in ASICS\n",
    "for asicIndex in range(4) : \n",
    "    root.App.AsicTop.DigAsicStrmRegisters0.enable.set(True)\n",
    "    print(\"ASIC{}: {:#x}\".format(asicIndex, getattr(root.App.AsicTop, f\"DigAsicStrmRegisters{asicIndex}\").DisableLane.get()))"
   ]
  },
  {
   "cell_type": "code",
   "execution_count": 9,
   "id": "91633812",
   "metadata": {},
   "outputs": [
    {
     "name": "stdout",
     "output_type": "stream",
     "text": [
      "descramble error\n",
      "rawData length 6096\n",
      "descramble error\n",
      "rawData length 6096\n",
      "descramble error\n",
      "rawData length 6096\n"
     ]
    }
   ],
   "source": [
    "#Enable data receivers and run some triggers\n",
    "root.enableDataRcv(True)\n",
    "root.enableAllAsics(True)\n",
    "for i in range (5):\n",
    "    root.Trigger()"
   ]
  },
  {
   "cell_type": "code",
   "execution_count": 10,
   "id": "9cced2c2",
   "metadata": {},
   "outputs": [
    {
     "name": "stdout",
     "output_type": "stream",
     "text": [
      "Checkpoint: DataReceiver 0 has 1 frames\n",
      "Checkpoint: DataReceiver 1 has 1 frames\n",
      "Checkpoint: DataReceiver 2 has 1 frames\n",
      "Checkpoint: DataReceiver 3 has 1 frames\n"
     ]
    }
   ],
   "source": [
    "# Obtain descrambled single frame data from ASICs from DataReceiver. Data receiver is down sampled.\n",
    "root.printDataReceiverStatus()\n",
    "    \n",
    "frame = [None for i in range(4)]\n",
    "for asicIndex in range(4):\n",
    "    frame[asicIndex] = getattr(root, f\"DataReceiver{asicIndex}\").Data.get()"
   ]
  },
  {
   "cell_type": "markdown",
   "id": "40fd34c3",
   "metadata": {},
   "source": [
    "# Here we select which ASIC we want to test"
   ]
  },
  {
   "cell_type": "code",
   "execution_count": 15,
   "id": "a11b6b6c",
   "metadata": {},
   "outputs": [],
   "source": [
    "# Change these 3 lines when you want to select another ASIC\n",
    "AsicNum = 1\n",
    "dataDebug = DEBUG2\n",
    "ASIC = ASIC2\n",
    "\n",
    "# From here it's all the same\n",
    "root.enableAllAsics(False)\n",
    "root.enableAsic(AsicNum, True)\n",
    "root.enableDataRcv(False)\n",
    "\n",
    "dataDebug.enableDataDebug(True) ##### -- This was changed !!!\n",
    "dataDebug.cleanData() ##### -- This was changed !!!"
   ]
  },
  {
   "cell_type": "markdown",
   "id": "b39ec734",
   "metadata": {},
   "source": [
    "# Lorenzo - Helper functions"
   ]
  },
  {
   "cell_type": "code",
   "execution_count": 16,
   "id": "794eea91",
   "metadata": {},
   "outputs": [],
   "source": [
    "%run dataProcFunctions.ipynb     #this is were my function was stored"
   ]
  },
  {
   "cell_type": "markdown",
   "id": "fb116ee2",
   "metadata": {},
   "source": [
    "# Set registers and variables"
   ]
  },
  {
   "cell_type": "code",
   "execution_count": 17,
   "id": "3b7000a8",
   "metadata": {},
   "outputs": [
    {
     "name": "stdout",
     "output_type": "stream",
     "text": [
      "R0 Width set to 7.808uS\n",
      "R0 Delay set to 1.280uS\n",
      "Acq1 Width set to 3.584uS\n",
      "Acq1 Delay set to 4.864uS\n",
      "-------------------------\n",
      "Baseline time:    3.5839999999999996 uS\n",
      "Integration time: 3.584 uS\n",
      "Sampling done at: 8.448 uS\n",
      "-------------------------\n",
      "ASIC configured\n"
     ]
    }
   ],
   "source": [
    "setBestSettings(REGCTRL,ASIC0,ASIC1,ASIC2,ASIC3)"
   ]
  },
  {
   "cell_type": "code",
   "execution_count": 19,
   "id": "ed90bec6",
   "metadata": {},
   "outputs": [
    {
     "name": "stdout",
     "output_type": "stream",
     "text": [
      "Acquisition started: filename: /u1/ePixHRM320k/acquisition/LRtest1.dat, rate: 5000, #frames:10000\n",
      "Stop Triggers command executed\n",
      "Set Auto Trigger command executed\n",
      "Start Auto Trigger command executed\n",
      "Triggers sent: 10000\n",
      "Stop Triggers command executed\n",
      "Received on channel 0 0 frames...\n",
      "Received on channel 1 7706 frames...\n",
      "Received on channel 2 0 frames...\n",
      "Received on channel 3 0 frames...\n",
      "Waiting for file to close...\n",
      "Acquisition complete and file closed\n"
     ]
    }
   ],
   "source": [
    "# root.enableDataRcv(False)\n",
    "# root.disableAndCleanAllFullRateDataRcv()\n",
    "# root.enableAllAsics(False)\n",
    "# root.enableDataDebug(False)\n",
    "\n",
    "# root.enableAsic(AsicNum, True)\n",
    "\n",
    "# ssdPath = \"/u1/ePixHRM320k/acquisition\"\n",
    "# filename = f\"{ssdPath}/LRtest1.dat\"\n",
    "# rate = 5000 # HZ\n",
    "# frames = 10000\n",
    "\n",
    "# root.acquireToFile(filename, frames, rate)"
   ]
  },
  {
   "cell_type": "code",
   "execution_count": null,
   "id": "37e87e9a",
   "metadata": {},
   "outputs": [],
   "source": [
    "# stops the spamming of messages\n",
    "numberOfTriggers = 1000\n",
    "data = readoutFrames(dataDebug, numberOfTriggers, chargeInj=False)"
   ]
  },
  {
   "cell_type": "code",
   "execution_count": null,
   "id": "d2b2f261",
   "metadata": {},
   "outputs": [],
   "source": [
    "# Plot raw data and histogram\n",
    "dataTimeAvg = np.average(data,axis=2)\n",
    "\n",
    "print(np.shape(dataTimeAvg))\n",
    "\n",
    "plt.figure(figsize = (10,4))\n",
    "plt.imshow(dataTimeAvg, interpolation='none', aspect='auto', origin='lower', vmax=2**15)\n",
    "plt.ylabel(\"Row [#]\")\n",
    "plt.xlabel(\"Col [#]\")\n",
    "plt.title(\"Raw data - Avg: {:}\".format(getMedianDark(data)))\n",
    "plt.colorbar()\n",
    "\n",
    "plt.figure(figsize = (10,5))\n",
    "plt.hist(dataTimeAvg.flatten(), range=[0,2**15],bins=2**8, log=True)\n",
    "plt.title(\"Distribution of dark values\")\n",
    "plt.ylabel(\"Entries [#]\")\n",
    "plt.xlabel(\"ADC Value [ADUs]\")"
   ]
  },
  {
   "cell_type": "code",
   "execution_count": null,
   "id": "9b3453a3",
   "metadata": {
    "scrolled": false
   },
   "outputs": [],
   "source": [
    "# Uncomment to filter bad pixels!\n",
    "\n",
    "filterBad = True\n",
    "\n",
    "if filterBad:\n",
    "    data_filtered, numBadPixels = filter_bad_pixels(data,3)\n",
    "else:\n",
    "    data_filtered, numBadPixels = data, 0\n",
    "\n",
    "\n",
    "print(numBadPixels)\n",
    "\n",
    "# Calculate data_noisemap\n",
    "data_noisemap = np.std(data_filtered, axis=2)\n",
    "\n",
    "# Flatten array\n",
    "noisemap_flat = data_noisemap.flatten()\n",
    "\n",
    "# Remove 0 noise (lanes not locked)\n",
    "noisemap_flat = noisemap_flat[noisemap_flat > 0]\n",
    "\n",
    "median_noise = np.median(noisemap_flat)\n",
    "std_noise    = np.std(noisemap_flat)\n",
    "\n",
    "# Get outliers (calculated as *2 noise)\n",
    "noisemap_outliers = noisemap_flat[noisemap_flat > median_noise*2]\n",
    "\n",
    "print('Noise: {:3f}'.format(median_noise))\n",
    "\n",
    "# Top plot\n",
    "plt.figure(figsize=(12,5))\n",
    "plt.imshow(data_noisemap, interpolation='none', aspect='auto', vmin=0, vmax=median_noise*3, origin='lower')\n",
    "plt.ylabel(\"Row [#]\")\n",
    "plt.xlabel(\"Col [#]\")\n",
    "plt.title(r'Noise: {:.1f} $\\pm$ {:.1f} - Found and disabled {:.0f} hot pixels [{:.1f}% of whole matrix]'.format(median_noise, std_noise, numBadPixels, numBadPixels*100/(192.0*384.0)))\n",
    "plt.colorbar()\n",
    "\n",
    "# Bottom plot\n",
    "fig, ax = plt.subplots(1,2, figsize=(13,3))\n",
    "\n",
    "ax[0].hist(data_noisemap[(data_noisemap < 400) & (data_noisemap > 1)].flatten(),bins=2**8)\n",
    "ax[0].set_title(\"Pixel noise distribution - Zoom on median\")\n",
    "ax[0].set_ylabel(\"Entries [#]\")\n",
    "ax[0].set_xlabel(\"Noise [ADUs]\")\n",
    "\n",
    "ax[1].hist(data_noisemap[(data_noisemap > 1)].flatten(),bins=2**8,log=True)\n",
    "ax[1].set_title(\"Pixel noise distribution - Whole range\")\n",
    "ax[1].set_ylabel(\"Entries [#]\")\n",
    "ax[1].set_xlabel(\"Noise [ADUs]\")\n",
    "\n"
   ]
  },
  {
   "cell_type": "code",
   "execution_count": null,
   "id": "fa0822e4",
   "metadata": {},
   "outputs": [],
   "source": [
    "# Subtract mean and display image\n",
    "dataDarkSub = data_filtered - np.median(data_filtered, axis=2, keepdims=True)\n",
    "\n",
    "# Trim range here if needed\n",
    "dataDarkSub = dataDarkSub[(dataDarkSub > -1000)]\n",
    "\n",
    "plt.figure(figsize = (10,5))\n",
    "plt.hist(dataDarkSub.flatten(),bins=2**8)\n",
    "plt.ylabel(\"Row [#]\")\n",
    "plt.xlabel(\"Col [#]\")\n",
    "plt.title(\"Dark-subtracted image\")"
   ]
  },
  {
   "cell_type": "markdown",
   "id": "0ce2d060",
   "metadata": {},
   "source": [
    "# Run when we are done"
   ]
  },
  {
   "cell_type": "code",
   "execution_count": null,
   "id": "ea45b9bb",
   "metadata": {},
   "outputs": [],
   "source": [
    "# Disable data debug so it does not store data infinitely and crash software\n",
    "dataDebug.cleanData()\n",
    "print(dataDebug.getData().shape)\n",
    "root.enableDataDebug(False)"
   ]
  },
  {
   "cell_type": "code",
   "execution_count": null,
   "id": "479fac2a",
   "metadata": {},
   "outputs": [],
   "source": []
  }
 ],
 "metadata": {
  "kernelspec": {
   "display_name": "Python 3 (ipykernel)",
   "language": "python",
   "name": "python3"
  },
  "language_info": {
   "codemirror_mode": {
    "name": "ipython",
    "version": 3
   },
   "file_extension": ".py",
   "mimetype": "text/x-python",
   "name": "python",
   "nbconvert_exporter": "python",
   "pygments_lexer": "ipython3",
   "version": "3.9.15"
  }
 },
 "nbformat": 4,
 "nbformat_minor": 5
}
